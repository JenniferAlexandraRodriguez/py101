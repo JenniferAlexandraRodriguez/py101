{
 "cells": [
  {
   "cell_type": "markdown",
   "metadata": {},
   "source": [
    "[![pythonista.io](imagenes/pythonista.png)](https://www.pythonista.io)"
   ]
  },
  {
   "cell_type": "markdown",
   "metadata": {},
   "source": [
    "# Expresiones con operadores en Python."
   ]
  },
  {
   "cell_type": "markdown",
   "metadata": {},
   "source": [
    "Los operadores son signos o palabras reservadas que el intérprete de Python identifica dentro de sus sintaxis para realizar una acción (operación) específica.\n",
    "\n",
    "```\n",
    "<objeto 1> <operador> <objeto 2>\n",
    "```\n",
    "\n",
    "```\n",
    "<objeto 1> <operador 1> <objeto 2> <operador 2> .... <operador n-1> <objeto n> \n",
    "```\n",
    "\n",
    "Donde:\n",
    "\n",
    "* ```<objeto i>``` es un objeto compatible con el operador que lo relaciona con otro objeto.\n",
    "* ```<operador i>``` es un operador válido."
   ]
  },
  {
   "cell_type": "markdown",
   "metadata": {},
   "source": [
    "**Ejemplos:**\n",
    "\n",
    "Las siguientes celdas muestran ejemplos de expresiones con operadores.  "
   ]
  },
  {
   "cell_type": "code",
   "execution_count": null,
   "metadata": {},
   "outputs": [],
   "source": [
    "1 + 1"
   ]
  },
  {
   "cell_type": "code",
   "execution_count": null,
   "metadata": {},
   "outputs": [],
   "source": [
    "15 * 4 + 1 / 3 ** 5 "
   ]
  },
  {
   "cell_type": "markdown",
   "metadata": {},
   "source": [
    "## Operadores aritméticos.\n",
    "\n",
    "Los operadores arítmétricos permiten realizarf operaciones de esta índole con objetos numéricos.\n",
    "\n",
    "\n",
    "|Operador|Descripción|\n",
    "|:------:|:---------:|\n",
    "|```+``` |Suma       |\n",
    "|```-``` |Resta      |\n",
    "|```*``` |Multiplicación|\n",
    "|```**```|Exponente  |\n",
    "|```/``` |División   |\n",
    "|```//```|División entera|\n",
    "|```%``` |Residuo    |\n",
    "\n",
    "**Nota:** En Python 3, las divisiones entre objetos de tipo ```int``` dan por resultado un objeto tipo ```float```.\n",
    "\n",
    "\n",
    "**Nota:** Aún cuando no afecta a la sintaxis, el uso de espacios entre los operadores aritméticos mejora la comprensión de las operaciones. Para mayor referencia remitirse al [PEP-8](https://www.python.org/dev/peps/pep-0008/)."
   ]
  },
  {
   "cell_type": "markdown",
   "metadata": {},
   "source": [
    "**Ejemplos:**"
   ]
  },
  {
   "cell_type": "markdown",
   "metadata": {},
   "source": [
    "* La siguiente celda contiene una expresión con el operador ```+```."
   ]
  },
  {
   "cell_type": "code",
   "execution_count": null,
   "metadata": {},
   "outputs": [],
   "source": [
    "3 + 2"
   ]
  },
  {
   "cell_type": "markdown",
   "metadata": {},
   "source": [
    "* La siguiente celda contiene una expresión con el operador ```-```."
   ]
  },
  {
   "cell_type": "code",
   "execution_count": null,
   "metadata": {},
   "outputs": [],
   "source": [
    "3 - 2"
   ]
  },
  {
   "cell_type": "markdown",
   "metadata": {},
   "source": [
    "* La siguiente celda contiene una expresión con el operador ```*```."
   ]
  },
  {
   "cell_type": "code",
   "execution_count": null,
   "metadata": {},
   "outputs": [],
   "source": [
    "3 * 2"
   ]
  },
  {
   "cell_type": "markdown",
   "metadata": {},
   "source": [
    "* La siguiente celda contiene una expresión con el operador ```**``` que elevará ```3``` al cuadrado."
   ]
  },
  {
   "cell_type": "code",
   "execution_count": null,
   "metadata": {},
   "outputs": [],
   "source": [
    "3 ** 2"
   ]
  },
  {
   "cell_type": "markdown",
   "metadata": {},
   "source": [
    "* La siguiente celda contiene una expresión con el operador ```**``` elevando ```3``` a una potencia fraccionaria."
   ]
  },
  {
   "cell_type": "code",
   "execution_count": null,
   "metadata": {},
   "outputs": [],
   "source": [
    "3 ** 0.5"
   ]
  },
  {
   "cell_type": "markdown",
   "metadata": {},
   "source": [
    "* La siguiente celda contiene una expresión con el operador ```/```. "
   ]
  },
  {
   "cell_type": "code",
   "execution_count": null,
   "metadata": {},
   "outputs": [],
   "source": [
    "3 / 2"
   ]
  },
  {
   "cell_type": "markdown",
   "metadata": {},
   "source": [
    "* La siguiente celda contiene una expresión con el operador ```//```. "
   ]
  },
  {
   "cell_type": "code",
   "execution_count": null,
   "metadata": {},
   "outputs": [],
   "source": [
    "3 // 2"
   ]
  },
  {
   "cell_type": "markdown",
   "metadata": {},
   "source": [
    "* La siguiente celda contiene una expresión con el operador ```%```. "
   ]
  },
  {
   "cell_type": "code",
   "execution_count": null,
   "metadata": {},
   "outputs": [],
   "source": [
    "3 % 2"
   ]
  },
  {
   "cell_type": "markdown",
   "metadata": {},
   "source": [
    "### Reglas de precedencia en operaciones aritméticas.\n",
    "\n",
    "Los operadores aritméticos se apegan a la siguiente regla de precedencia siguiendo un orden de izquierda a derecha:\n",
    "\n",
    "1. Paréntesis.\n",
    "2. Exponente.\n",
    "3. Multiplicación.\n",
    "4. División.\n",
    "5. Suma.\n",
    "6. Sustracción."
   ]
  },
  {
   "cell_type": "markdown",
   "metadata": {},
   "source": [
    "**Ejemplos:**"
   ]
  },
  {
   "cell_type": "markdown",
   "metadata": {},
   "source": [
    "* La siguiente celda realizará una operación entre números enteros apegada a las reglas de precedencia descitas previamente:\n",
    "   1. Se ejecutará ```4 ** 2```, lo que dará por resultado ```12 * 5 + 2 / 16```.\n",
    "   * Se ejecutará ```12 * 5```, lo que dará por resultado ```60 + 2 / 16```.\n",
    "   * Se ejecutará ```2 / 16```, lo que dará por resultado ```60 + 0.125```."
   ]
  },
  {
   "cell_type": "code",
   "execution_count": null,
   "metadata": {},
   "outputs": [],
   "source": [
    "12 * 5 + 2 / 4 ** 2"
   ]
  },
  {
   "cell_type": "markdown",
   "metadata": {},
   "source": [
    "* Las siguientes celdas incluyen paréntesis, los cuales permiten agrupar las operaciones aritméticas."
   ]
  },
  {
   "cell_type": "code",
   "execution_count": null,
   "metadata": {},
   "outputs": [],
   "source": [
    "(12 * 5) + (2 / (4 ** 2))"
   ]
  },
  {
   "cell_type": "code",
   "execution_count": null,
   "metadata": {},
   "outputs": [],
   "source": [
    "(12 * 5) + (2 / 4) ** 2"
   ]
  },
  {
   "cell_type": "code",
   "execution_count": null,
   "metadata": {},
   "outputs": [],
   "source": [
    "(12 * (5 + 2) / 3) ** 2"
   ]
  },
  {
   "cell_type": "markdown",
   "metadata": {},
   "source": [
    "### División entre enteros en Python 2.\n",
    "\n",
    "En  Python 3 las divisiones entre objetos de tipo *int* dan como resultado un objeto de tipo *float*. En Python 2 las divisiones entre objetos de tipo *int* dan por resultado la parte entera de la división.\n",
    "\n",
    "**Ejemplos:**\n",
    "\n",
    "```\n",
    ">>> 3 / 4\n",
    "0\n",
    ">>> 10 / 5\n",
    "2\n",
    ">>>\n",
    "```"
   ]
  },
  {
   "cell_type": "markdown",
   "metadata": {},
   "source": [
    "## Operadores para colecciones ordenadas.\n",
    "\n",
    "Los objetos de tipo ```str```, ```bytes```, ```bytearray``` ```list``` y  ```tuple``` permiten utilizar los siguientes operadores.\n",
    "\n",
    "\n",
    "|Operador|Descripción|\n",
    "|:------:|:---------:|\n",
    "|```+```     |Concatenación|\n",
    "|```*```  |Repetición|"
   ]
  },
  {
   "cell_type": "markdown",
   "metadata": {},
   "source": [
    "### El operador de concatenación ```+```.\n",
    "\n",
    "Este operador se utiliza para unir una después de otra a colecciones del mismo tipo en una nueva colección.\n",
    "\n",
    "```\n",
    "<colección 1> + <colección 2>\n",
    "``` "
   ]
  },
  {
   "cell_type": "markdown",
   "metadata": {},
   "source": [
    "**Ejemplos:**"
   ]
  },
  {
   "cell_type": "markdown",
   "metadata": {},
   "source": [
    "* Las siguientes celdas ejemplifican operaciones válidas con el operador ```+```."
   ]
  },
  {
   "cell_type": "code",
   "execution_count": null,
   "metadata": {},
   "outputs": [],
   "source": [
    "\"hola\" + \"mundo\""
   ]
  },
  {
   "cell_type": "code",
   "execution_count": null,
   "metadata": {},
   "outputs": [],
   "source": [
    "[1, 2, 3] + ['uno', 'dos', 'tres']"
   ]
  },
  {
   "cell_type": "markdown",
   "metadata": {},
   "source": [
    "* La siguiente celda intentará utilizar el operador ```+``` con colecciones que soportan a dicho operador pero son de distinto tipo, lo cual desencadenará un error de tipo ```TypeError```."
   ]
  },
  {
   "cell_type": "code",
   "execution_count": null,
   "metadata": {
    "scrolled": true
   },
   "outputs": [],
   "source": [
    "[1, 2, 3] + ('uno', 'dos', 'tres')"
   ]
  },
  {
   "cell_type": "markdown",
   "metadata": {},
   "source": [
    "* La siguiente celda concatenará dos objetos de tipo ```tuple```."
   ]
  },
  {
   "cell_type": "code",
   "execution_count": null,
   "metadata": {},
   "outputs": [],
   "source": [
    "(1, 2, 3) + ('uno', 'dos', 'tres')"
   ]
  },
  {
   "cell_type": "markdown",
   "metadata": {},
   "source": [
    "* La siguiente celda intentará utilizar el operador ```+``` con el objeto ```3``` que no soporta a dicho operador, lo cual desencadenará un error de tipo ```TypeError```."
   ]
  },
  {
   "cell_type": "code",
   "execution_count": null,
   "metadata": {
    "scrolled": true
   },
   "outputs": [],
   "source": [
    "'hola' + 3"
   ]
  },
  {
   "cell_type": "markdown",
   "metadata": {},
   "source": [
    "### El operador de repetición ```*```.\n",
    "\n",
    "Este operador se utiliza para crear una colección que contiene el contenido de una colección que se repite un número determinado de veces.\n",
    "\n",
    "```\n",
    "<colección > * <n>\n",
    "``` \n",
    "\n",
    "Donde:\n",
    "\n",
    "* ```<n>``` es un objeto de tipo ```int``` con valor positivo."
   ]
  },
  {
   "cell_type": "markdown",
   "metadata": {},
   "source": [
    "**Ejemplos:**"
   ]
  },
  {
   "cell_type": "markdown",
   "metadata": {},
   "source": [
    "* Las siguientes celdas ejemplificarán el uso del operador ```*``` para colecciones."
   ]
  },
  {
   "cell_type": "code",
   "execution_count": null,
   "metadata": {},
   "outputs": [],
   "source": [
    "1 * [1, 2, 3]"
   ]
  },
  {
   "cell_type": "code",
   "execution_count": null,
   "metadata": {},
   "outputs": [],
   "source": [
    "'hola' * 3"
   ]
  },
  {
   "cell_type": "code",
   "execution_count": null,
   "metadata": {},
   "outputs": [],
   "source": [
    "3 * 'hola'"
   ]
  },
  {
   "cell_type": "code",
   "execution_count": null,
   "metadata": {},
   "outputs": [],
   "source": [
    "(None,) * 6"
   ]
  },
  {
   "cell_type": "markdown",
   "metadata": {},
   "source": [
    "* La siguiente celda intentará aplicar el operador ```*``` a dos objetos de tipo ```list```, desencadenando un error de tipo ```TypeError```."
   ]
  },
  {
   "cell_type": "code",
   "execution_count": null,
   "metadata": {},
   "outputs": [],
   "source": [
    "[1, 2, 3] * [3]"
   ]
  },
  {
   "cell_type": "markdown",
   "metadata": {},
   "source": [
    "## Operadores de asignación.\n",
    "\n",
    "Los operadores de asignación se utilizan para enlazar a un nombre con un objeto/valor en el espacio de nombres.\n",
    "\n",
    "El operador de asignación ```=``` es el más conocido, sin embargo existen otros operadores de asignación tales como:\n",
    "\n",
    "|Operador|Expresión|Equivale a|\n",
    "|:------:|:-----:|:-----------:|\n",
    "|```=```|```x = y```|```x = y```|\n",
    "|```+=```|```x += y```|```x = x + y```|\n",
    "|```-=```|```x -= y```|```x = x - y```|\n",
    "|```*=```|```x * = y```|```x = x * y```|\n",
    "|```**=```|```x **= y```|```x = x ** y```|\n",
    "|```/=```|```x /= y```|```x = x / y```|\n",
    "|```//=```|```x //= y```|```x = x // y```|\n",
    "|```%=```|```x %= y```|```x = x % y```|\n",
    "\n",
    "Donde:\n",
    "\n",
    "* ```x``` es  un nombre.\n",
    "* ```y``` es un objeto complatible con el operador."
   ]
  },
  {
   "cell_type": "markdown",
   "metadata": {},
   "source": [
    "**Ejemplos:**"
   ]
  },
  {
   "cell_type": "markdown",
   "metadata": {},
   "source": [
    "* La siguiente celda utilizará al operador ```=``` para asignarle el nombre ```x``` al objeto ```2```."
   ]
  },
  {
   "cell_type": "code",
   "execution_count": null,
   "metadata": {},
   "outputs": [],
   "source": [
    "x = 2"
   ]
  },
  {
   "cell_type": "markdown",
   "metadata": {},
   "source": [
    "* La siguiente celda ejecutará una operación similar a ```x = x + 3```. "
   ]
  },
  {
   "cell_type": "code",
   "execution_count": null,
   "metadata": {},
   "outputs": [],
   "source": [
    "x += 3"
   ]
  },
  {
   "cell_type": "markdown",
   "metadata": {},
   "source": [
    "* Ahora ```x``` es ```5```."
   ]
  },
  {
   "cell_type": "code",
   "execution_count": null,
   "metadata": {},
   "outputs": [],
   "source": [
    "x"
   ]
  },
  {
   "cell_type": "markdown",
   "metadata": {},
   "source": [
    "* La siguiente celda ejecutará una operación similar a ```x = x ** 3```."
   ]
  },
  {
   "cell_type": "code",
   "execution_count": null,
   "metadata": {},
   "outputs": [],
   "source": [
    "x **= 3"
   ]
  },
  {
   "cell_type": "markdown",
   "metadata": {},
   "source": [
    "* Ahora ```x``` es ```125```."
   ]
  },
  {
   "cell_type": "code",
   "execution_count": null,
   "metadata": {},
   "outputs": [],
   "source": [
    "x"
   ]
  },
  {
   "cell_type": "markdown",
   "metadata": {},
   "source": [
    "* La siguiente celda ejecutará una operación similar a ```x = x // 14.2```."
   ]
  },
  {
   "cell_type": "code",
   "execution_count": null,
   "metadata": {},
   "outputs": [],
   "source": [
    "x //= 14.2"
   ]
  },
  {
   "cell_type": "markdown",
   "metadata": {},
   "source": [
    "* Ahora ```x``` es ```8.0```."
   ]
  },
  {
   "cell_type": "code",
   "execution_count": null,
   "metadata": {},
   "outputs": [],
   "source": [
    "x"
   ]
  },
  {
   "cell_type": "markdown",
   "metadata": {},
   "source": [
    "* La siguiente celda ejecutará una operación similar a ```x = x % 1.5```."
   ]
  },
  {
   "cell_type": "code",
   "execution_count": null,
   "metadata": {},
   "outputs": [],
   "source": [
    "x %= 1.5"
   ]
  },
  {
   "cell_type": "markdown",
   "metadata": {},
   "source": [
    "* Ahora ```x``` es ```0.5```."
   ]
  },
  {
   "cell_type": "code",
   "execution_count": null,
   "metadata": {},
   "outputs": [],
   "source": [
    "x"
   ]
  },
  {
   "cell_type": "markdown",
   "metadata": {},
   "source": [
    "* La siguiente celda creará al objeto ```(1, 2, 3)``` al que se le asignará el nombre de ```tupla```."
   ]
  },
  {
   "cell_type": "code",
   "execution_count": null,
   "metadata": {},
   "outputs": [],
   "source": [
    "tupla = (1, 2, 3)"
   ]
  },
  {
   "cell_type": "code",
   "execution_count": null,
   "metadata": {},
   "outputs": [],
   "source": [
    "id(tupla)"
   ]
  },
  {
   "cell_type": "markdown",
   "metadata": {},
   "source": [
    "* La siguiente celda realizará una operación de concatenación usando el operador ```+```."
   ]
  },
  {
   "cell_type": "code",
   "execution_count": null,
   "metadata": {},
   "outputs": [],
   "source": [
    "tupla += ('cuatro', 'cinco', 'seis')"
   ]
  },
  {
   "cell_type": "markdown",
   "metadata": {},
   "source": [
    "* Ahora ```tupla``` corresponde al objeto ```(1, 2, 3, 'cuatro', 'cinco', 'seis')```"
   ]
  },
  {
   "cell_type": "code",
   "execution_count": null,
   "metadata": {},
   "outputs": [],
   "source": [
    "tupla"
   ]
  },
  {
   "cell_type": "code",
   "execution_count": null,
   "metadata": {},
   "outputs": [],
   "source": [
    "id(tupla)"
   ]
  },
  {
   "cell_type": "markdown",
   "metadata": {},
   "source": [
    "## Expresiones lógicas.\n",
    "\n",
    "Las expresiones lógicas permiten evaluar una condición, la cual da por resultado un valor *Verdadero* (```True```) en caso de que dicha condición se cumpla o *Falso* (```False```) en caso de que no sea así."
   ]
  },
  {
   "cell_type": "markdown",
   "metadata": {},
   "source": [
    "### Operadores de evaluación. \n",
    "\n",
    "Estos operadores comparan dos expresiones. El resultado de esta evaluación es un objeto de tipo ```bool```.\n",
    "\n",
    "|Operador|Evalúa          |\n",
    "|:------:|:---------------|\n",
    "|```==```    |```a == b``` ¿a igual a b?|\n",
    "|```!=``` \t |```a != b``` ¿a distinta de b?|\n",
    "|```>```     |```a > b``` ¿a mayor que b?|\n",
    "|```<``` \t |```a < b``` ¿a menor que b?|\n",
    "|```>=```    |```a >= b``` ¿a mayor o igual que b?|\n",
    "|```<=```    |```a <= b``` ¿a menor o igual que b?|\n"
   ]
  },
  {
   "cell_type": "markdown",
   "metadata": {},
   "source": [
    "**Ejemplos:**"
   ]
  },
  {
   "cell_type": "markdown",
   "metadata": {},
   "source": [
    "* La siguiente celda evalúa si los valores de los objetos ```\"hola\"``` y ```'hola'``` son iguales. El resultado es ```True```."
   ]
  },
  {
   "cell_type": "code",
   "execution_count": null,
   "metadata": {},
   "outputs": [],
   "source": [
    "\"hola\" == 'hola'"
   ]
  },
  {
   "cell_type": "markdown",
   "metadata": {},
   "source": [
    "* La siguiente celda evalúa si los valores de los objetos ```\"hola\"``` y ```'Hola'``` son distintos. El resultado es ```True```."
   ]
  },
  {
   "cell_type": "code",
   "execution_count": null,
   "metadata": {},
   "outputs": [],
   "source": [
    "\"hola\" != 'Hola'"
   ]
  },
  {
   "cell_type": "markdown",
   "metadata": {},
   "source": [
    "* La siguiente celda evalúa si el valor de```5``` es mayor que ```3``` . El resultado es ```True```."
   ]
  },
  {
   "cell_type": "code",
   "execution_count": null,
   "metadata": {},
   "outputs": [],
   "source": [
    "5 > 3"
   ]
  },
  {
   "cell_type": "markdown",
   "metadata": {},
   "source": [
    "* La siguiente celda evalúa si el valor de```5``` es menor o igual que ```3``` . El resultado es ```False```."
   ]
  },
  {
   "cell_type": "code",
   "execution_count": null,
   "metadata": {},
   "outputs": [],
   "source": [
    "5 <= 3"
   ]
  },
  {
   "cell_type": "markdown",
   "metadata": {},
   "source": [
    "* La siguiente celda evalúa si el resultado de la expresión ```2 * 9 ** 0.5``` es igual a ```6``` . El resultado es ```True```."
   ]
  },
  {
   "cell_type": "code",
   "execution_count": null,
   "metadata": {},
   "outputs": [],
   "source": [
    "2 * 9 ** 0.5 == 6"
   ]
  },
  {
   "cell_type": "markdown",
   "metadata": {},
   "source": [
    "* La siguiente celda evalúa si el resultado de la expresión ```(2 * 9) ** 0.5``` es igual a ```6``` . El resultado es ```False```."
   ]
  },
  {
   "cell_type": "code",
   "execution_count": null,
   "metadata": {},
   "outputs": [],
   "source": [
    "(2 * 9) ** 0.5 == 6"
   ]
  },
  {
   "cell_type": "markdown",
   "metadata": {},
   "source": [
    "### Operadores de identidad.\n",
    "\n",
    "Los operadores ```is``` e ```is not``` evalúan si un identificador se refiere exactamente al mismo objeto o pertenece a un tipo.\n",
    "\n",
    "|Operador \t|Evalúa|\n",
    "|:---------:|:----:|\n",
    "|```is```       |```a is b``` Equivale a ```id(a) == id(b)```|\n",
    "|```is not```   |```a is not b``` Equivale a ```id(a) != id(b)```|"
   ]
  },
  {
   "cell_type": "markdown",
   "metadata": {},
   "source": [
    "**Ejemplos:**"
   ]
  },
  {
   "cell_type": "markdown",
   "metadata": {},
   "source": [
    "* La siguiente celda le asignará los nombres ```a```y ```b``` al objeto ```45```."
   ]
  },
  {
   "cell_type": "code",
   "execution_count": null,
   "metadata": {},
   "outputs": [],
   "source": [
    "a = b = 45"
   ]
  },
  {
   "cell_type": "markdown",
   "metadata": {},
   "source": [
    "* La siguiente celda evaluará si los nombres ```a``` y ```b``` hacen referencia al mismo objeto. El resultado es ```True```."
   ]
  },
  {
   "cell_type": "code",
   "execution_count": null,
   "metadata": {},
   "outputs": [],
   "source": [
    "a is b"
   ]
  },
  {
   "cell_type": "markdown",
   "metadata": {},
   "source": [
    "* La siguiente celda evaluará si el resultado de la expresión ```type(\"Hola\")``` es el objeto ```str```. El resultado es ```True```."
   ]
  },
  {
   "cell_type": "code",
   "execution_count": null,
   "metadata": {},
   "outputs": [],
   "source": [
    "type(\"Hola\") is str"
   ]
  },
  {
   "cell_type": "markdown",
   "metadata": {},
   "source": [
    "* La siguiente celda evaluará si el resultado de la expresión ```type(\"Hola\")``` NO es el objeto ```complex```. El resultado es ```True```."
   ]
  },
  {
   "cell_type": "code",
   "execution_count": null,
   "metadata": {},
   "outputs": [],
   "source": [
    "type(\"Hola\") is not complex"
   ]
  },
  {
   "cell_type": "markdown",
   "metadata": {},
   "source": [
    "* Las siguientes celdas ilustran que ```True``` y ```1``` tienen el mismo valor, pero no son el mismo objeto."
   ]
  },
  {
   "cell_type": "code",
   "execution_count": null,
   "metadata": {},
   "outputs": [],
   "source": [
    "True == 1"
   ]
  },
  {
   "cell_type": "code",
   "execution_count": null,
   "metadata": {},
   "outputs": [],
   "source": [
    "True is 1"
   ]
  },
  {
   "cell_type": "markdown",
   "metadata": {},
   "source": [
    "### Operadores de pertenencia.\n",
    "\n",
    "Los operadores ```in``` y ```not in``` evalúan si un objeto se encuentra dentro de una colección.\n",
    "\n",
    "\n",
    "**Ejemplos:**\n"
   ]
  },
  {
   "cell_type": "markdown",
   "metadata": {},
   "source": [
    "* La siguiente celda evaulará si el objeto ```'a'``` se encuentra dentro del objeto ```'Hola'```. El resultado es ```True```."
   ]
  },
  {
   "cell_type": "code",
   "execution_count": null,
   "metadata": {},
   "outputs": [],
   "source": [
    "'a' in 'Hola'"
   ]
  },
  {
   "cell_type": "markdown",
   "metadata": {},
   "source": [
    "* La siguiente celda evaulará si el objeto ```'z'``` se encuentra dentro del objeto ```'Hola'```. El resultado es ```False```."
   ]
  },
  {
   "cell_type": "code",
   "execution_count": null,
   "metadata": {},
   "outputs": [],
   "source": [
    "'z' in 'Hola'"
   ]
  },
  {
   "cell_type": "markdown",
   "metadata": {},
   "source": [
    "* La siguiente celda evaulará si el objeto ```'la'``` NO se encuentra dentro del objeto ```'Hola'```. El resultado es ```False```."
   ]
  },
  {
   "cell_type": "code",
   "execution_count": null,
   "metadata": {},
   "outputs": [],
   "source": [
    "'la' not in 'Hola'"
   ]
  },
  {
   "cell_type": "markdown",
   "metadata": {},
   "source": [
    "* La siguiente celda evaulará si el objeto ```'z'``` NO se encuentra dentro del objeto ```'Hola'```. El resultado es ```True```."
   ]
  },
  {
   "cell_type": "code",
   "execution_count": null,
   "metadata": {},
   "outputs": [],
   "source": [
    "'z' not in 'Hola'"
   ]
  },
  {
   "cell_type": "markdown",
   "metadata": {},
   "source": [
    "### Álgebra booleana y tablas de la verdad.\n",
    "\n",
    "El álgebra booleana o [Algebra de Boole](https://es.wikipedia.org/wiki/%C3%81lgebra_de_Boole) es una rama de las matemáticas que permite crear estructuras lógicas mendiante valores booleanos. \n",
    "\n",
    "En el caso de Python, los objetos de tipo ```bool```, ```True``` y ```False```, son los valores con los que se pueden realizar operaciones con lógica booleana."
   ]
  },
  {
   "cell_type": "markdown",
   "metadata": {},
   "source": [
    "### Operaciones booleanos.\n",
    "\n",
    "Un operación booleana permite definir un operador lógico, el cual relaciona a dos valores booleanos con un valor específico."
   ]
  },
  {
   "cell_type": "markdown",
   "metadata": {},
   "source": [
    "### Tablas de la verdad.\n",
    "\n",
    "Son tablas que describen los posibles resultados de aplicar un operador a dos valores booleanos. "
   ]
  },
  {
   "cell_type": "markdown",
   "metadata": {},
   "source": [
    "#### El operador lógico ```OR```.\n",
    "\n",
    "Este operador da por resultado ```True``` en caso de que al menos uno de los valores sea ```True```. Solamente regresa ```False``` si ambos valores son ```False```.\n",
    "\n",
    "|OR| True|False|\n",
    "|:--:|:--:|:--:|\n",
    "|**True**|True|True|\n",
    "|**False**|True|False|\n",
    "\n",
    "Este operador corresponde a la palabra reservada ```or``` en Python.\n",
    "\n",
    "```\n",
    "<valor 1> or <valor 2>\n",
    "```\n",
    "\n",
    "Donde:\n",
    "\n",
    "* ```<valor 1>``` y ```<valor 2>``` son generalmente valores de tipo ```bool```."
   ]
  },
  {
   "cell_type": "markdown",
   "metadata": {},
   "source": [
    "#### El operador lógico ```AND```.\n",
    "\n",
    "Este operador dar por resultado ```True``` en caso de que ambos valores sean ```True```. El resultado es ```False``` en los demás casos.\n",
    "\n",
    "|AND| True|False|\n",
    "|:--:|:--:|:--:|\n",
    "|**True**|True|False|\n",
    "|**False**|False|False|\n",
    "\n",
    "Este operador corresponde a la palabra reservada ```and``` en Python.\n",
    "\n",
    "```\n",
    "<valor 1> and <valor 2>\n",
    "```\n",
    "\n",
    "Donde:\n",
    "\n",
    "* ```<valor 1>``` y ```<valor 2>``` son generalmente valores de tipo ```bool```."
   ]
  },
  {
   "cell_type": "markdown",
   "metadata": {},
   "source": [
    "### El operador ```NOT```.\n",
    "\n",
    "El operador ```NOT``` hace que el valor booleano a su derecha inmediata cambie al valor contrario.\n",
    "\n",
    "Este operador corresponde a la palabra reservada ```not``` en Python.\n",
    "\n",
    "```\n",
    "not <valor>\n",
    "```\n",
    "\n",
    "Donde:\n",
    "\n",
    "* ```<valor>``` es un valor de tipo ```bool```."
   ]
  },
  {
   "cell_type": "markdown",
   "metadata": {},
   "source": [
    "### El operador ```XOR```.\n",
    "\n",
    "Este operador dar por resultado ```True``` en caso de que ambos valores sean distintos. El resultado es ```False``` en casos de que ambos valores sean iguales.\n",
    "\n",
    "|XOR| True|False|\n",
    "|:--:|:--:|:--:|\n",
    "|**True**|False|True|\n",
    "|**False**|True|False|\n",
    "\n",
    "No hay un operador lógico en Python para ```XOR```.\n",
    "\n"
   ]
  },
  {
   "cell_type": "markdown",
   "metadata": {},
   "source": [
    "### Operadores lógicos de Python.\n",
    "\n",
    "Estos operadores permiten la realización de las siguientes operaciones lógicas. Por lo general se realizan con objetos de tipo ```bool```, pero Python también permite operaciones lógicas con otros tipos de datos y expresiones. \n",
    "\n",
    "|Operador|Evalúa|\n",
    "|:------:|:----:|\n",
    "|```or```    |*a or b* ¿Se cumplen a o b?|\n",
    "|```and``` \t |*a and b* ¿Se comple a y b?|\n",
    "|```not```|*not x* Contrario a x|\n",
    "\n",
    "\n",
    "**Nota:** Las operaciones lógicas se ejecutan de izquierda a derecha, pero pueden ser agrupadas usando paréntesis."
   ]
  },
  {
   "cell_type": "markdown",
   "metadata": {},
   "source": [
    "**Ejemplos:**"
   ]
  },
  {
   "cell_type": "markdown",
   "metadata": {},
   "source": [
    "* La expresión de la siguiente celda dará por resultado ```True```."
   ]
  },
  {
   "cell_type": "code",
   "execution_count": null,
   "metadata": {},
   "outputs": [],
   "source": [
    "True or True"
   ]
  },
  {
   "cell_type": "markdown",
   "metadata": {},
   "source": [
    "* La expresión de la siguiente celda dará por resultado ```True```."
   ]
  },
  {
   "cell_type": "code",
   "execution_count": null,
   "metadata": {},
   "outputs": [],
   "source": [
    "False or True"
   ]
  },
  {
   "cell_type": "markdown",
   "metadata": {},
   "source": [
    "* La expresión de la siguiente celda dará por resultado ```False```."
   ]
  },
  {
   "cell_type": "code",
   "execution_count": null,
   "metadata": {},
   "outputs": [],
   "source": [
    "False or False"
   ]
  },
  {
   "cell_type": "markdown",
   "metadata": {},
   "source": [
    "* La expresión de la siguiente celda dará por resultado ```False```."
   ]
  },
  {
   "cell_type": "code",
   "execution_count": null,
   "metadata": {},
   "outputs": [],
   "source": [
    "False and False"
   ]
  },
  {
   "cell_type": "markdown",
   "metadata": {},
   "source": [
    "* La expresión de la siguiente celda dará por resultado ```True```."
   ]
  },
  {
   "cell_type": "code",
   "execution_count": null,
   "metadata": {},
   "outputs": [],
   "source": [
    "True and True"
   ]
  },
  {
   "cell_type": "markdown",
   "metadata": {},
   "source": [
    "* La expresión de la siguiente celda dará por resultado ```False```."
   ]
  },
  {
   "cell_type": "code",
   "execution_count": null,
   "metadata": {},
   "outputs": [],
   "source": [
    "not True"
   ]
  },
  {
   "cell_type": "markdown",
   "metadata": {},
   "source": [
    "* La expresión de la siguiente celda dará por resultado ```True```."
   ]
  },
  {
   "cell_type": "code",
   "execution_count": null,
   "metadata": {},
   "outputs": [],
   "source": [
    "not False or True"
   ]
  },
  {
   "cell_type": "markdown",
   "metadata": {},
   "source": [
    "* La expresión de la siguiente celda dará por resultado ```False```."
   ]
  },
  {
   "cell_type": "code",
   "execution_count": null,
   "metadata": {
    "scrolled": false
   },
   "outputs": [],
   "source": [
    "not (False or True)"
   ]
  },
  {
   "cell_type": "markdown",
   "metadata": {},
   "source": [
    "* La siguiente celda evalúa primero la expresión ```15 == 3``` y el resultado es el valor que el operador ```or``` utilizará."
   ]
  },
  {
   "cell_type": "code",
   "execution_count": null,
   "metadata": {},
   "outputs": [],
   "source": [
    "15 == 3 or False"
   ]
  },
  {
   "cell_type": "markdown",
   "metadata": {},
   "source": [
    "* La siguiente celda evalúa primero las expresiones ```15 > 3``` y  ```15 <= 20``` el resultado de cada una será usado por el operador```and```."
   ]
  },
  {
   "cell_type": "code",
   "execution_count": null,
   "metadata": {},
   "outputs": [],
   "source": [
    "15 > 3 and 15 <= 20"
   ]
  },
  {
   "cell_type": "markdown",
   "metadata": {},
   "source": [
    "\n",
    "### Operadores lógicos relacionados con otros objetos de Python. \n",
    "\n",
    "Es posible usar los operadores lógicos de Python con otros objetos que no sean de tipo ```bool``` bajo las siguientes premisas:\n",
    "\n",
    "* El ```0``` equivale a ```False```.\n",
    "* El valor```None``` equivale a ```False```.\n",
    "* Una colección vacía equivale a ```False```.\n",
    "* Cualquier otro objeto equivale a ```True```.\n",
    "\n",
    "**Nota:** En algunos casos, el resultado de estas operaciones no es un valor de tipo ```bool```."
   ]
  },
  {
   "cell_type": "markdown",
   "metadata": {},
   "source": [
    "**Ejemplos:**"
   ]
  },
  {
   "cell_type": "markdown",
   "metadata": {},
   "source": [
    "* La expresión de la siguiente celda da por resultado ```False```."
   ]
  },
  {
   "cell_type": "code",
   "execution_count": null,
   "metadata": {},
   "outputs": [],
   "source": [
    "None or False"
   ]
  },
  {
   "cell_type": "markdown",
   "metadata": {},
   "source": [
    "* La expresión de la siguiente celda da por resultado ```True```."
   ]
  },
  {
   "cell_type": "code",
   "execution_count": null,
   "metadata": {},
   "outputs": [],
   "source": [
    "True or None"
   ]
  },
  {
   "cell_type": "markdown",
   "metadata": {},
   "source": [
    "* La siguiente celda dará por resultado ```0```."
   ]
  },
  {
   "cell_type": "code",
   "execution_count": null,
   "metadata": {},
   "outputs": [],
   "source": [
    "True and 0"
   ]
  },
  {
   "cell_type": "markdown",
   "metadata": {},
   "source": [
    "* Para que el resultado de la expresión de la celda anterior sea de tipo ```bool``` es necesario convertirla explícitamente con la función ```bool()```."
   ]
  },
  {
   "cell_type": "code",
   "execution_count": null,
   "metadata": {},
   "outputs": [],
   "source": [
    "bool(True and 0)"
   ]
  },
  {
   "cell_type": "markdown",
   "metadata": {},
   "source": [
    "* La expresión de la siguiente celda regresará ```123```."
   ]
  },
  {
   "cell_type": "code",
   "execution_count": null,
   "metadata": {},
   "outputs": [],
   "source": [
    "'Hola' and 123"
   ]
  },
  {
   "cell_type": "markdown",
   "metadata": {},
   "source": [
    "* La expresión de la siuiente celda regresará ```'Hola'```."
   ]
  },
  {
   "cell_type": "code",
   "execution_count": null,
   "metadata": {},
   "outputs": [],
   "source": [
    "123 and 'Hola'"
   ]
  },
  {
   "cell_type": "markdown",
   "metadata": {},
   "source": [
    "## Operadores de bits.\n",
    "\n",
    "Las operaciones de bits son cálculos que implican a cada bit que conforma a un número representado de forma binaria.\n",
    "\n",
    "Los operadores de bits ```|```, ```^``` y ```&``` realizan operaciones idénticas a los operadores lógicos, pero para cada bit.\n",
    "\n",
    "\n",
    "|Operador    | Descripción |\n",
    "|:----------:|:-----------:|\n",
    "| ```\\|```|OR    |\n",
    "| ```^``` | XOR    |\n",
    "| ```&``` | AND    |  \n",
    "| ```<<``` | Mover x bits a la izquierda  |\n",
    "| ```>>``` | Mover x bits a la iderecha   |"
   ]
  },
  {
   "cell_type": "markdown",
   "metadata": {},
   "source": [
    "### Tablas de operadores de bits.\n",
    "\n",
    "| \\||1|0|\n",
    "|:--:|:--:|:--:|\n",
    "|**1**|1|1|\n",
    "|**0**|1|0|\n",
    "\n",
    "|^|1|0|\n",
    "|:--:|:--:|:--:|\n",
    "|**1**|0|1|\n",
    "|**0**|1|0|\n",
    "\n",
    "|&|1|0|\n",
    "|:--:|:--:|:--:|\n",
    "|**1**|1|0|\n",
    "|**0**|0|0|"
   ]
  },
  {
   "cell_type": "markdown",
   "metadata": {},
   "source": [
    "**Ejemplos:**"
   ]
  },
  {
   "cell_type": "markdown",
   "metadata": {},
   "source": [
    "* Se definirán los objetos ```a``` con valor igual a ```13```y ```b``` con valor igual a ```26```."
   ]
  },
  {
   "cell_type": "code",
   "execution_count": null,
   "metadata": {},
   "outputs": [],
   "source": [
    "a = 0b01101\n",
    "b = 0b11010"
   ]
  },
  {
   "cell_type": "code",
   "execution_count": null,
   "metadata": {},
   "outputs": [],
   "source": [
    "a"
   ]
  },
  {
   "cell_type": "code",
   "execution_count": null,
   "metadata": {},
   "outputs": [],
   "source": [
    "b"
   ]
  },
  {
   "cell_type": "markdown",
   "metadata": {},
   "source": [
    "* Se utilizará el operador ```|``` para cada bit de ```a``` y ```b```. La operación es la siguiente:\n",
    "\n",
    "```\n",
    "a = 01101\n",
    "b = 11010\n",
    "|   ______\n",
    "    11111\n",
    "\n",
    "```\n",
    "\n",
    "El resultado es ```31```."
   ]
  },
  {
   "cell_type": "code",
   "execution_count": null,
   "metadata": {},
   "outputs": [],
   "source": [
    "a | b"
   ]
  },
  {
   "cell_type": "code",
   "execution_count": null,
   "metadata": {},
   "outputs": [],
   "source": [
    "0b11111"
   ]
  },
  {
   "cell_type": "markdown",
   "metadata": {},
   "source": [
    "* Se utilizará el operador ```^``` para cada bit de ```a``` y ```b```. La operación es la siguiente:\n",
    "\n",
    "```\n",
    "a = 01101\n",
    "b = 11010\n",
    "^  ______\n",
    "    10111\n",
    "\n",
    "```\n",
    "\n",
    "El resultado es ```23```."
   ]
  },
  {
   "cell_type": "code",
   "execution_count": null,
   "metadata": {},
   "outputs": [],
   "source": [
    "a ^ b"
   ]
  },
  {
   "cell_type": "code",
   "execution_count": null,
   "metadata": {},
   "outputs": [],
   "source": [
    "0b10111"
   ]
  },
  {
   "cell_type": "markdown",
   "metadata": {},
   "source": [
    "* Se utilizará el operador ```&``` para cada bit de ```a``` y ```b```. La operación es la siguiente:\n",
    "\n",
    "```\n",
    "a = 01101\n",
    "b = 11010\n",
    "&   ______\n",
    "    01000\n",
    "\n",
    "```\n",
    "\n",
    "El resultado es ```8```."
   ]
  },
  {
   "cell_type": "code",
   "execution_count": null,
   "metadata": {
    "scrolled": true
   },
   "outputs": [],
   "source": [
    "a & b"
   ]
  },
  {
   "cell_type": "code",
   "execution_count": null,
   "metadata": {},
   "outputs": [],
   "source": [
    "0b01000"
   ]
  },
  {
   "cell_type": "markdown",
   "metadata": {},
   "source": [
    "* La siguiente celda moverá los bits de ```a```, 3 posiciones a la izquierda. Es decir, añádirá 3 ceros a la derecha de su representación binaria de la siguiente forma.\n",
    "\n",
    "```\n",
    "a = 01101\n",
    "a << 3\n",
    "01101000\n",
    "```\n",
    "El resultado es ```104```."
   ]
  },
  {
   "cell_type": "code",
   "execution_count": null,
   "metadata": {},
   "outputs": [],
   "source": [
    "a << 3"
   ]
  },
  {
   "cell_type": "code",
   "execution_count": null,
   "metadata": {},
   "outputs": [],
   "source": [
    "0b01101000"
   ]
  },
  {
   "cell_type": "markdown",
   "metadata": {},
   "source": [
    "* La siguiente celda moverá los bits de ```b```, 2 posiciones a la derfecha. Es decir, eliminará las 2 últimas posiciones a la derecha de su representación binaria de la siguiente forma.\n",
    "\n",
    "```\n",
    "b = 11010\n",
    "b >> 2\n",
    "110\n",
    "```\n",
    "El resultado es ```6```."
   ]
  },
  {
   "cell_type": "code",
   "execution_count": null,
   "metadata": {},
   "outputs": [],
   "source": [
    "b >> 2"
   ]
  },
  {
   "cell_type": "code",
   "execution_count": null,
   "metadata": {},
   "outputs": [],
   "source": [
    "0b110"
   ]
  },
  {
   "cell_type": "markdown",
   "metadata": {},
   "source": [
    "### Operadores de bits con objetos de tipo ```bool```.\n",
    "\n",
    "Los operadores de bits también pueden ser usados para crear expresiones que implica an objetos de tipo ```bool```."
   ]
  },
  {
   "cell_type": "markdown",
   "metadata": {},
   "source": [
    "**Ejemplos:**"
   ]
  },
  {
   "cell_type": "markdown",
   "metadata": {},
   "source": [
    "* En la expresión de la siguiente celda, el operador ```|``` se comporta como ```or```. El resultado es ```True```."
   ]
  },
  {
   "cell_type": "code",
   "execution_count": null,
   "metadata": {},
   "outputs": [],
   "source": [
    "True | False"
   ]
  },
  {
   "cell_type": "markdown",
   "metadata": {},
   "source": [
    "* En la expresión de la siguiente celda, el operador ```|``` se comporta como ```and```. El resultado es ```False```."
   ]
  },
  {
   "cell_type": "code",
   "execution_count": null,
   "metadata": {},
   "outputs": [],
   "source": [
    "True & False"
   ]
  },
  {
   "cell_type": "markdown",
   "metadata": {},
   "source": [
    "* La siguiente celda da por resultado ```False```."
   ]
  },
  {
   "cell_type": "code",
   "execution_count": null,
   "metadata": {},
   "outputs": [],
   "source": [
    "True ^ True"
   ]
  },
  {
   "cell_type": "markdown",
   "metadata": {},
   "source": [
    "* Las expresiónes de las siguientes celdas toman a ```True``` como a ```1```. "
   ]
  },
  {
   "cell_type": "code",
   "execution_count": null,
   "metadata": {},
   "outputs": [],
   "source": [
    "True >> 2"
   ]
  },
  {
   "cell_type": "code",
   "execution_count": null,
   "metadata": {},
   "outputs": [],
   "source": [
    "True << 4"
   ]
  },
  {
   "cell_type": "markdown",
   "metadata": {},
   "source": [
    "## Operador ternario.\n",
    "\n",
    "El operador ternario evalúa una expresión lógica con una sintaxis como la que se describe a continuación.\n",
    "\n",
    "```\n",
    "<expresión 1> if <expresión lógica> else <expresión 2>\n",
    "\n",
    "```\n",
    "\n",
    "Donde:\n",
    "\n",
    "* ```<expresión lógica>``` es una expresión lógica.\n",
    "* ```<expresion 1>``` es la expresión que se ejecutará en caso de que la expresión lógica de pro resultado ```True```.\n",
    "* ```<expresion 2>``` es la expresión que se ejecutará en caso de que la expresión lógica de pro resultado ```False```."
   ]
  },
  {
   "cell_type": "markdown",
   "metadata": {},
   "source": [
    "**Ejemplo:**"
   ]
  },
  {
   "cell_type": "markdown",
   "metadata": {},
   "source": [
    "* Se le asginará al objeto ```1126```el nombre ```numero```."
   ]
  },
  {
   "cell_type": "code",
   "execution_count": null,
   "metadata": {},
   "outputs": [],
   "source": [
    "numero = 1126"
   ]
  },
  {
   "cell_type": "markdown",
   "metadata": {},
   "source": [
    "* El residuo de dividir ```numero``` entre ```2``` es cero. Esto implica que ```numero``` es par."
   ]
  },
  {
   "cell_type": "code",
   "execution_count": null,
   "metadata": {},
   "outputs": [],
   "source": [
    "numero % 2"
   ]
  },
  {
   "cell_type": "markdown",
   "metadata": {},
   "source": [
    "* La expresión lógica ```numero % 2 == 0``` da por resultado ```True```."
   ]
  },
  {
   "cell_type": "code",
   "execution_count": null,
   "metadata": {},
   "outputs": [],
   "source": [
    "numero % 2 == 0"
   ]
  },
  {
   "cell_type": "markdown",
   "metadata": {},
   "source": [
    "* La siguiente expresión utiliza un operador ternario que regresa la cadena de caracteres ```\"par\"``` en caso de que el objeto con nombre ```numero``` sea divisible entre ```2``` o rergesará la cadena de caracteres ```\"non\"``` en caso contrario."
   ]
  },
  {
   "cell_type": "code",
   "execution_count": null,
   "metadata": {},
   "outputs": [],
   "source": [
    "\"par\" if numero % 2 == 0 else \"non\""
   ]
  },
  {
   "cell_type": "markdown",
   "metadata": {},
   "source": [
    "## Operador de atributo.\n",
    "\n",
    "En vista de que todo es un objeto en Python, es posible acceder a los atributos y métodos de un objeto mediante el operador de atributo el cual corresponde a un punto ```.```."
   ]
  },
  {
   "cell_type": "markdown",
   "metadata": {},
   "source": [
    "### Atributos.\n",
    "\n",
    "En el paradigma de programación orientada a objetos, un atributo es un valor que está asociado a un objeto mediante un nombre. En el caso de Python, los atributos son objetos asociados a un objeto mediante a un nombre.\n",
    "\n",
    "Para acceder al atributo de un objeto se utiliza la siguiente sintaxis:\n",
    "\n",
    "```\n",
    "<objeto>.<atributo>\n",
    "```\n",
    "\n",
    "Donde:\n",
    "\n",
    "* ```<objeto>``` es cualquier objeto de Python.\n",
    "* ```<atributo>``` es el nombre de un aributo que posee el objeto."
   ]
  },
  {
   "cell_type": "markdown",
   "metadata": {},
   "source": [
    "### Métodos.\n",
    "\n",
    "Los métodos son una especie de atributo, pero con la capacidad de ejecutar ciertas instrucciones del mismo modo que una función.\n",
    "\n",
    "Para poder ejecutar un método se usa la siguiente sintaxis:\n",
    "\n",
    "```\n",
    "<objeto>.<método>(<argumento 1>, <argumento 2>,..., <argumento n>)\n",
    "```\n",
    "\n",
    "Donde:\n",
    "\n",
    "* ```<objeto>``` es cualquier objeto de Python.\n",
    "* ```<atributo>``` es el nombre de un método que posee el objeto.\n",
    "* ```<argumento i>``` es un objeto que se ingresa al método para que pueda ser ejecutado. Un método puede no requerir argumentos."
   ]
  },
  {
   "cell_type": "markdown",
   "metadata": {},
   "source": [
    "**Ejemplos:**"
   ]
  },
  {
   "cell_type": "markdown",
   "metadata": {},
   "source": [
    "* Los objetos de tipo ```complex``` contiene a los atributos:\n",
    "    * ```real```, el cual corresponde a un objeto de tipo ```float``` que contiene al valor del componente real del número complejo.\n",
    "    * ```imag```, el cual corresponde a un objeto de tipo ```float``` que contiene al valor del componente imaginario del número complejo.\n",
    "* Del mismo modo,  los objetos de tipo ```complex``` contiene el método ```conjugate()```, el cual calcula y regresa al número complejo conjugado, el cual también es de tipo  ```complex```. "
   ]
  },
  {
   "cell_type": "markdown",
   "metadata": {},
   "source": [
    "* La siguiente celda regresará el atributo ```real``` del objeto ```(15-23j)``` de tipo ```complex```. El resultado es ```15.0```."
   ]
  },
  {
   "cell_type": "code",
   "execution_count": null,
   "metadata": {},
   "outputs": [],
   "source": [
    "(15-23j).real"
   ]
  },
  {
   "cell_type": "markdown",
   "metadata": {},
   "source": [
    "* La siguiente celda regresará el atributo ```imag``` del objeto ```(15-23j)``` de tipo ```complex```. El resultado es ```-23.0```."
   ]
  },
  {
   "cell_type": "code",
   "execution_count": null,
   "metadata": {},
   "outputs": [],
   "source": [
    "(15-23j).imag"
   ]
  },
  {
   "cell_type": "markdown",
   "metadata": {},
   "source": [
    "* El método ```(15-13j).conjugate``` es de tipo ```function```.\n",
    "\n",
    "**Nota:** Las funciones (objetos de tipo ```function```) se estudiarán mas adelante."
   ]
  },
  {
   "cell_type": "code",
   "execution_count": null,
   "metadata": {},
   "outputs": [],
   "source": [
    "(15-13j).conjugate"
   ]
  },
  {
   "cell_type": "markdown",
   "metadata": {},
   "source": [
    "* La siguiente celda regresará el número conjugado del objeto ```(15-23j)``` ejecutando el método ```conjugate()```. El resultado es ```(15+23j)```."
   ]
  },
  {
   "cell_type": "code",
   "execution_count": null,
   "metadata": {},
   "outputs": [],
   "source": [
    "(15-23j).conjugate()"
   ]
  },
  {
   "cell_type": "markdown",
   "metadata": {},
   "source": [
    "* Los objetos de tipo ```float``` cuentan con el método ```__int__()```, el cual regresa el valor entero trunco del objeto de tipo ```float``` como un objeto de tipo ```int```.\n",
    "    * La siguiente celda ejecutará el método ```__int__()``` del objeto ```-12.3```. El resultado es ```-12```."
   ]
  },
  {
   "cell_type": "code",
   "execution_count": null,
   "metadata": {},
   "outputs": [],
   "source": [
    "-12.3.__int__()"
   ]
  },
  {
   "cell_type": "markdown",
   "metadata": {},
   "source": [
    "* Los objetos de tipo ```float``` e ```int``` cuentan con el método ```__abs__()```, el cual regresa el valor absoluto del objeto.\n",
    "    * La siguiente celda ejecutará el método ```__abs__()``` del objeto ```-12```. El resultado es ```12```."
   ]
  },
  {
   "cell_type": "code",
   "execution_count": null,
   "metadata": {},
   "outputs": [],
   "source": [
    "(-12).__abs__()"
   ]
  },
  {
   "cell_type": "markdown",
   "metadata": {},
   "source": [
    "### Concatenacion de atributos.\n",
    "\n",
    "El operador ```.``` puede utilizarse con la siguiente sintaxis.\n",
    "\n",
    "```\n",
    "<objeto>.<atributo 1>.<atributo 2>. ... .<atributo n>\n",
    "```\n",
    "\n",
    "Donde:\n",
    "\n",
    "* ```<atributo i>``` puede ser un atributo/método que se aplica al objeto que regrese la invocación o ejecución del atributo/método previo. "
   ]
  },
  {
   "cell_type": "markdown",
   "metadata": {},
   "source": [
    "**Ejemplo:**"
   ]
  },
  {
   "cell_type": "markdown",
   "metadata": {},
   "source": [
    "* La siguiente celda realizará lo siguiente:\n",
    "    * Obtendrá el atributo ```real``` del objeto ```(-15.456-13.23j)``` el cual será el objeto de tipo ```float``` cuyo valor es de ```-15.456```.\n",
    "    * A partir del atributo ```(-15.456-13.23j).real``` se ejecutará el método ```__int__()```, el cual regresará al objeto de tipo ```int``` cuyo  valor es de ```-15```.\n",
    "    * A partir del resultado de ejecutar el método ```(-15.456-13.23j).real.__int__()```, se ejecutará el método ```__abs__()``` el cual regresará al objeto de tipo ```int``` cuyo valor es de ```15```."
   ]
  },
  {
   "cell_type": "code",
   "execution_count": null,
   "metadata": {},
   "outputs": [],
   "source": [
    "(-15.456-13.23j).real.__int__().__abs__()"
   ]
  },
  {
   "cell_type": "markdown",
   "metadata": {},
   "source": [
    "## La función ```eval()```.\n",
    "\n",
    "La función ```eval()``` evalúa un objeto de tipo ```str``` como si fuera una expresión.\n",
    "\n",
    "```\n",
    "eval(<objeto tipo str>)\n",
    "```\n",
    "\n",
    "Si el texto a evaluar no es una expresión válida, ```eval()``` generará un mensaje de error."
   ]
  },
  {
   "cell_type": "markdown",
   "metadata": {},
   "source": [
    "**Ejemplos:**"
   ]
  },
  {
   "cell_type": "markdown",
   "metadata": {},
   "source": [
    "* Las siguientes celdas ejemplifican el uso de la función ```eval()```."
   ]
  },
  {
   "cell_type": "code",
   "execution_count": null,
   "metadata": {},
   "outputs": [],
   "source": [
    "eval(\"12 * 300\")"
   ]
  },
  {
   "cell_type": "code",
   "execution_count": null,
   "metadata": {},
   "outputs": [],
   "source": [
    "eval(\"0x11 + 0x10010\")"
   ]
  },
  {
   "cell_type": "code",
   "execution_count": null,
   "metadata": {},
   "outputs": [],
   "source": [
    "eval(\"12 > 5\")"
   ]
  },
  {
   "cell_type": "code",
   "execution_count": null,
   "metadata": {},
   "outputs": [],
   "source": [
    "eval(\"type('Hola')\")"
   ]
  },
  {
   "cell_type": "code",
   "execution_count": null,
   "metadata": {
    "scrolled": true
   },
   "outputs": [],
   "source": [
    "eval(\"print('hola')\")"
   ]
  },
  {
   "cell_type": "markdown",
   "metadata": {},
   "source": [
    "* La expresión dentro de la cadena de caracteres que se ingresa como argumento para la función ```eval()``` en la siguiente celda hace referencia al nombre ```indefinido```, el cual no está definido y se desencadenará un error de tipo ```NameError```."
   ]
  },
  {
   "cell_type": "code",
   "execution_count": null,
   "metadata": {},
   "outputs": [],
   "source": [
    "eval(\"indefinido * 3\")"
   ]
  },
  {
   "cell_type": "markdown",
   "metadata": {},
   "source": [
    "* La cadena de caracteres usada como argumento para la función ```eval()``` en la siguiente celda no es una expresión válida y se generará un error de tipo ```SyntaxError```."
   ]
  },
  {
   "cell_type": "code",
   "execution_count": null,
   "metadata": {},
   "outputs": [],
   "source": [
    "eval(\"Hola Mundo\")"
   ]
  },
  {
   "cell_type": "markdown",
   "metadata": {},
   "source": [
    "<p style=\"text-align: center\"><a rel=\"license\" href=\"http://creativecommons.org/licenses/by/4.0/\"><img alt=\"Licencia Creative Commons\" style=\"border-width:0\" src=\"https://i.creativecommons.org/l/by/4.0/80x15.png\" /></a><br />Esta obra está bajo una <a rel=\"license\" href=\"http://creativecommons.org/licenses/by/4.0/\">Licencia Creative Commons Atribución 4.0 Internacional</a>.</p>\n",
    "<p style=\"text-align: center\">&copy; José Luis Chiquete Valdivieso. 2020.</p>"
   ]
  }
 ],
 "metadata": {
  "kernelspec": {
   "display_name": "Python 3",
   "language": "python",
   "name": "python3"
  },
  "language_info": {
   "codemirror_mode": {
    "name": "ipython",
    "version": 3
   },
   "file_extension": ".py",
   "mimetype": "text/x-python",
   "name": "python",
   "nbconvert_exporter": "python",
   "pygments_lexer": "ipython3",
   "version": "3.8.5"
  }
 },
 "nbformat": 4,
 "nbformat_minor": 1
}
