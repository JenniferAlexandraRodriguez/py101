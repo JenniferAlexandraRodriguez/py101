{
 "cells": [
  {
   "cell_type": "markdown",
   "metadata": {},
   "source": [
    "[![pythonista.io](imagenes/pythonista.png)](https://www.pythonista.io)"
   ]
  },
  {
   "cell_type": "markdown",
   "metadata": {},
   "source": [
    "\n",
    "## Funciones anidadas.\n",
    "\n",
    "Python permite definir funciones dentro de otras funciones.\n",
    "\n",
    "**Ejemplo:**\n"
   ]
  },
  {
   "cell_type": "markdown",
   "metadata": {},
   "source": [
    "* La función ```lista_primos()``` contiene a su vez a la función ```es_primo()```.\n",
    "* La función ```es_primo()``` solamente existe dentro del ámbito local de la función  ```lista_primos()```."
   ]
  },
  {
   "cell_type": "code",
   "execution_count": null,
   "metadata": {},
   "outputs": [],
   "source": [
    "def lista_primos(limite=100):\n",
    "    '''Genera una lista de los números primos comprendidos entre el 2 y el valor de limite.'''\n",
    "    #La lista inicia con el número 2\n",
    "    lista = [2]\n",
    "   \n",
    "    def esprimo(numero):\n",
    "        '''Valida si numero es divisible entre algún elemento de lista. De ocurrir, \n",
    "        regresa False. De lo contrario, regresa True.'''\n",
    "        for primo in lista:\n",
    "            if numero % primo == 0:\n",
    "                return False\n",
    "        return True\n",
    "    \n",
    "    #Se realizará una iteración de cada número entero desde 3 hasta el valor de limite.\n",
    "    for numero in range(3, limite + 1):\n",
    "        #Si esprimo(numero) regresa True, añade el valor de numero a lista\n",
    "        if esprimo(numero):\n",
    "            lista.append(numero)\n",
    "    return lista"
   ]
  },
  {
   "cell_type": "code",
   "execution_count": null,
   "metadata": {},
   "outputs": [],
   "source": [
    "lista_primos(1050)"
   ]
  },
  {
   "cell_type": "code",
   "execution_count": null,
   "metadata": {},
   "outputs": [],
   "source": [
    "es_primo()"
   ]
  },
  {
   "cell_type": "markdown",
   "metadata": {},
   "source": [
    "En el ejemplo anterior se definió a la función ```esprimo()``` dentro de la función ```lista_primos()```. Como se puede observar, el nombre ```lista``` está en el espacio de nombres de ```lista_primos()```, pero al estar en un entorno superior al ámbito de ```esprimo()```, ésta función puede acceder a ```lista```."
   ]
  },
  {
   "cell_type": "markdown",
   "metadata": {},
   "source": [
    "## Recursividad.\n",
    "\n",
    "Python permite hacer llamadas recursivas a una función. Es decir, que la función se invoque a si misma. \n",
    "\n",
    "Cada vez que una función se invoca a si misma, Python crea un nuevo objeto de tipo _function_ con las mismas características que la función original, pero con un ámbito totalmente nuevo y de nivel inferior a la función original.\n",
    "\n",
    "**Ejemplo:**"
   ]
  },
  {
   "cell_type": "markdown",
   "metadata": {},
   "source": [
    "5! = 5 * 4 * 3 * 2 * 1"
   ]
  },
  {
   "cell_type": "markdown",
   "metadata": {},
   "source": [
    "5! = 5 * 4!"
   ]
  },
  {
   "cell_type": "markdown",
   "metadata": {},
   "source": [
    "4! = 4 * 3!"
   ]
  },
  {
   "cell_type": "markdown",
   "metadata": {},
   "source": [
    "1! = 1"
   ]
  },
  {
   "cell_type": "code",
   "execution_count": null,
   "metadata": {},
   "outputs": [],
   "source": [
    "def factorial(numero):\n",
    "    if numero == 1:\n",
    "        return 1\n",
    "    else:\n",
    "        fact = numero * factorial(numero - 1)\n",
    "        return fact"
   ]
  },
  {
   "cell_type": "code",
   "execution_count": null,
   "metadata": {},
   "outputs": [],
   "source": [
    "factorial(5)"
   ]
  },
  {
   "cell_type": "markdown",
   "metadata": {},
   "source": [
    "En este caso, la función ```factorial()``` se invoca recursivamente, pero cada vez que lo hace, el valor del parámetro ```numero``` decrece en ```1``` de forma sucesiva hasta que el parámetro ```numero``` alcanza el valor de ```1``` y entonces regresa dicho valor. Es entonces que la cerradura de la función de nivel inferior se multiplica por el parámetro ```numero``` de la función superior hasta llegar a la función de más alto nivel."
   ]
  },
  {
   "cell_type": "markdown",
   "metadata": {},
   "source": [
    "Ahora se incluirán algunas modificaciones al ejemplo anterior para ilustrar el proceso."
   ]
  },
  {
   "cell_type": "code",
   "execution_count": null,
   "metadata": {},
   "outputs": [],
   "source": [
    "def factorial(numero):\n",
    "    print('En este ámbito, numero =', numero)\n",
    "    if numero == 1:\n",
    "        print('Llegó al final.\\nRegresa 1!')\n",
    "        return 1\n",
    "    else:\n",
    "        fact = numero * factorial(numero - 1)\n",
    "        print('Regresa %d!: %d' %(numero, fact))\n",
    "        return fact"
   ]
  },
  {
   "cell_type": "code",
   "execution_count": null,
   "metadata": {
    "scrolled": false
   },
   "outputs": [],
   "source": [
    "factorial(5)"
   ]
  },
  {
   "cell_type": "markdown",
   "metadata": {},
   "source": [
    "## Funciones de orden superior.\n",
    "\n",
    "Las funciones de orden superior son funciones que aceptan funciones como argumentos y a su vez regresan funciones.\n",
    "\n",
    "**Ejemplo:**\n",
    "\n",
    "* La función ```html() ``` puede recibir una función y regresará una función que de por resultado el cuerpo básico de un documento en HTML5 que envuelva al resultado de la función usada como argumento."
   ]
  },
  {
   "cell_type": "code",
   "execution_count": null,
   "metadata": {},
   "outputs": [],
   "source": [
    "def html(funcion):\n",
    "    '''Añade las etiquetas básicas de un documento HTML5 al elemento \n",
    "       resultante del argumento funcion.'''\n",
    "    etiquetas = \"<html>\\n  <head>\\n    <title>Página</title>\\n  </head>\\n  <body>\\n    {}\\n  </body>\\n</html>\"\n",
    "   \n",
    "\n",
    "    def empaqueta(texto):\n",
    "        '''Permite encerrar entre etiquetas de HTML5 al resultado de funcion(texto).'''\n",
    "        return etiquetas.format(funcion(texto))\n",
    "    \n",
    "    \n",
    "    return empaqueta"
   ]
  },
  {
   "cell_type": "code",
   "execution_count": null,
   "metadata": {},
   "outputs": [],
   "source": [
    "help(html)"
   ]
  },
  {
   "cell_type": "markdown",
   "metadata": {},
   "source": [
    "* La función ```parrafo()``` transforma un texto en un párrafo rodeado por las etiquetas HTML correspondientes."
   ]
  },
  {
   "cell_type": "code",
   "execution_count": null,
   "metadata": {},
   "outputs": [],
   "source": [
    "def parrafo(texto):\n",
    "    '''Encierra entre las etiquetas de párrafo al elemento texto.'''\n",
    "    return '<p>' + str(texto) + '</p>'"
   ]
  },
  {
   "cell_type": "code",
   "execution_count": null,
   "metadata": {},
   "outputs": [],
   "source": [
    "parrafo('Hola, Mundo.')"
   ]
  },
  {
   "cell_type": "code",
   "execution_count": null,
   "metadata": {
    "scrolled": false
   },
   "outputs": [],
   "source": [
    "help(parrafo)"
   ]
  },
  {
   "cell_type": "code",
   "execution_count": null,
   "metadata": {},
   "outputs": [],
   "source": [
    "html(parrafo)"
   ]
  },
  {
   "cell_type": "code",
   "execution_count": null,
   "metadata": {},
   "outputs": [],
   "source": [
    "type(html(parrafo))"
   ]
  },
  {
   "cell_type": "code",
   "execution_count": null,
   "metadata": {},
   "outputs": [],
   "source": [
    "funcion_resultante = html(parrafo)"
   ]
  },
  {
   "cell_type": "code",
   "execution_count": null,
   "metadata": {},
   "outputs": [],
   "source": [
    "funcion_resultante('Hola, Mundo.')"
   ]
  },
  {
   "cell_type": "code",
   "execution_count": null,
   "metadata": {
    "scrolled": true
   },
   "outputs": [],
   "source": [
    "print(funcion_resultante('Hola, Mundo.'))"
   ]
  },
  {
   "cell_type": "code",
   "execution_count": null,
   "metadata": {},
   "outputs": [],
   "source": [
    "help(funcion_resultante)"
   ]
  },
  {
   "cell_type": "markdown",
   "metadata": {},
   "source": [
    "## Decoradores.\n",
    "\n",
    "Los decoradores son un recurso de Python que permite aplicar una función de orden superior a otra función con la siguiente sintaxis.\n",
    "\n",
    "```\n",
    "@<nombre de función de orden superior>\n",
    "def <nombre>(<argumentos>):\n",
    "    ...\n",
    "    ...\n",
    "```\n",
    "\n",
    "**Ejemplo:**\n",
    "\n",
    "Se utilizará el decorador de la función ```html()``` aplicado a la función ```parrafo()```."
   ]
  },
  {
   "cell_type": "code",
   "execution_count": null,
   "metadata": {},
   "outputs": [],
   "source": [
    "@html\n",
    "def parrafo(texto):\n",
    "    '''Encierra entre las etiquetas de párrafo al elemento texto.'''\n",
    "    return '<p>' + str(texto) + '</p>'"
   ]
  },
  {
   "cell_type": "code",
   "execution_count": null,
   "metadata": {},
   "outputs": [],
   "source": [
    "parrafo"
   ]
  },
  {
   "cell_type": "code",
   "execution_count": null,
   "metadata": {
    "scrolled": true
   },
   "outputs": [],
   "source": [
    "print(parrafo(\"Hola, Mundo.\"))"
   ]
  },
  {
   "cell_type": "code",
   "execution_count": null,
   "metadata": {},
   "outputs": [],
   "source": [
    "help(parrafo)"
   ]
  },
  {
   "cell_type": "markdown",
   "metadata": {},
   "source": [
    "\n",
    "## Definición de funciones con la declaración *lambda*.\n",
    "\n",
    "Python permite definir funciones en una sola línea mediante el uso del la expresión lambda con la siguiente sintaxis:\n",
    "\n",
    "```\n",
    "lambda <parámetro 1>,  <parámetro 2>...  <parámetro n> : <expresión>\n",
    "```\n",
    "\n",
    "A este tipo de funciones se les conoce como funciones lambda o funciones anónimas debido a que no requieren de un nombre para ser definidas.\n",
    "\n",
    "Para nombrar a estas funciones se utiliza el operador de asignación ```=```."
   ]
  },
  {
   "cell_type": "markdown",
   "metadata": {},
   "source": [
    "**Ejemplos:**"
   ]
  },
  {
   "cell_type": "markdown",
   "metadata": {},
   "source": [
    "``` python\n",
    "def saluda(texto='extraño', ancho=50):\n",
    "    return 'Hola, {}.'.format(texto).center(ancho)\n",
    "```"
   ]
  },
  {
   "cell_type": "code",
   "execution_count": null,
   "metadata": {},
   "outputs": [],
   "source": [
    "saluda = lambda texto='extraño', ancho=50: 'Hola, {}.'.format(texto).center(ancho)"
   ]
  },
  {
   "cell_type": "code",
   "execution_count": null,
   "metadata": {},
   "outputs": [],
   "source": [
    "type(saluda)"
   ]
  },
  {
   "cell_type": "code",
   "execution_count": null,
   "metadata": {},
   "outputs": [],
   "source": [
    "saluda()"
   ]
  },
  {
   "cell_type": "code",
   "execution_count": null,
   "metadata": {},
   "outputs": [],
   "source": [
    "saluda('Mundo', 20)"
   ]
  },
  {
   "cell_type": "markdown",
   "metadata": {},
   "source": [
    "* La función ```es_par()``` regresa ```True``` si el argumento ingresado es un número par y regresa ```False``` si el argumento ingresado es un número non.\n",
    "\n",
    "``` python\n",
    "def es_par(numero):\n",
    "    return True if numero % 2  == 0 else False\n",
    "```"
   ]
  },
  {
   "cell_type": "code",
   "execution_count": null,
   "metadata": {},
   "outputs": [],
   "source": [
    "es_par = lambda numero: True if numero % 2  == 0 else False"
   ]
  },
  {
   "cell_type": "code",
   "execution_count": null,
   "metadata": {},
   "outputs": [],
   "source": [
    "es_par(2)"
   ]
  },
  {
   "cell_type": "code",
   "execution_count": null,
   "metadata": {},
   "outputs": [],
   "source": [
    "es_par(3)"
   ]
  },
  {
   "cell_type": "markdown",
   "metadata": {},
   "source": [
    "* La función ```factorial()``` calcula el factorial de un número mediante recursividad. \n",
    "``` python\n",
    "def factorial(numero):\n",
    "    return factorial(numero - 1) if numero > 1 else 1\n",
    "```\n"
   ]
  },
  {
   "cell_type": "code",
   "execution_count": null,
   "metadata": {},
   "outputs": [],
   "source": [
    "factorial = lambda numero: numero * factorial(numero - 1) if numero > 1 else 1"
   ]
  },
  {
   "cell_type": "code",
   "execution_count": null,
   "metadata": {},
   "outputs": [],
   "source": [
    "factorial(5)"
   ]
  },
  {
   "cell_type": "code",
   "execution_count": null,
   "metadata": {
    "scrolled": true
   },
   "outputs": [],
   "source": [
    "list(map(lambda x, y: x + y, [1, 2, 3, 4], [5, 6, 7, 8]))"
   ]
  },
  {
   "cell_type": "code",
   "execution_count": null,
   "metadata": {},
   "outputs": [],
   "source": [
    "from functools import reduce"
   ]
  },
  {
   "cell_type": "code",
   "execution_count": null,
   "metadata": {},
   "outputs": [],
   "source": [
    "reduce(lambda x, y: x + y, [1, 2, 3, 4])"
   ]
  },
  {
   "cell_type": "markdown",
   "metadata": {},
   "source": [
    "<p style=\"text-align: center\"><a rel=\"license\" href=\"http://creativecommons.org/licenses/by/4.0/\"><img alt=\"Licencia Creative Commons\" style=\"border-width:0\" src=\"https://i.creativecommons.org/l/by/4.0/80x15.png\" /></a><br />Esta obra está bajo una <a rel=\"license\" href=\"http://creativecommons.org/licenses/by/4.0/\">Licencia Creative Commons Atribución 4.0 Internacional</a>.</p>\n",
    "<p style=\"text-align: center\">&copy; José Luis Chiquete Valdivieso. 2020.</p>"
   ]
  }
 ],
 "metadata": {
  "kernelspec": {
   "display_name": "Python 3",
   "language": "python",
   "name": "python3"
  },
  "language_info": {
   "codemirror_mode": {
    "name": "ipython",
    "version": 3
   },
   "file_extension": ".py",
   "mimetype": "text/x-python",
   "name": "python",
   "nbconvert_exporter": "python",
   "pygments_lexer": "ipython3",
   "version": "3.8.5"
  }
 },
 "nbformat": 4,
 "nbformat_minor": 2
}
