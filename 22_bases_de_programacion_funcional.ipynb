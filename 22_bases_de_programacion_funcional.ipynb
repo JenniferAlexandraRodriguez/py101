{
 "cells": [
  {
   "cell_type": "markdown",
   "metadata": {},
   "source": [
    "[![pythonista.io](imagenes/pythonista.png)](https://www.pythonista.io)"
   ]
  },
  {
   "cell_type": "markdown",
   "metadata": {},
   "source": [
    "## Programación funcional."
   ]
  },
  {
   "cell_type": "markdown",
   "metadata": {},
   "source": [
    "\n",
    "## Funciones anidadas.\n",
    "\n",
    "A partir de concepto de cerradura, *Python* permite definir funciones dentro de otras funciones.\n",
    "\n",
    "Cada función crea y contiene su propio ámbito en cada invocación y la cerradura es entregada al ámbito inmediatamente superior. \n"
   ]
  },
  {
   "cell_type": "markdown",
   "metadata": {},
   "source": [
    "**Ejemplo:**"
   ]
  },
  {
   "cell_type": "markdown",
   "metadata": {},
   "source": [
    "* La función ```lista_primos()``` contiene a su vez a la función ```es_primo()```.\n",
    "* La función ```es_primo()``` solamente existe dentro del ámbito local de la función  ```lista_primos()```."
   ]
  },
  {
   "cell_type": "code",
   "execution_count": null,
   "metadata": {},
   "outputs": [],
   "source": [
    "def lista_primos(limite=100):\n",
    "    '''Genera una lista de los números primos comprendidos\n",
    "    entre el 2 y el valor de limite.'''\n",
    "    \n",
    "    #La lista inicia con el número 2.\n",
    "    lista = [2]\n",
    "   \n",
    "    def es_primo(numero):\n",
    "        '''Valida si numero es divisible entre un numero \n",
    "        contenido en lista.'''\n",
    "        \n",
    "        # Iterará cada número primo contenido en lista.\n",
    "        for primo in lista:\n",
    "        \n",
    "            # Si numero es divisible entre primo, regresa False.\n",
    "            if numero % primo == 0:\n",
    "                return False\n",
    "            \n",
    "        # Si numero no es divisible entre ningún número\n",
    "        # contenido en lista, regresa True.\n",
    "        return True\n",
    "    \n",
    "    # Iterará todos los número enteros entre 3 y limite.\n",
    "    for numero in range(3, limite + 1):\n",
    "        \n",
    "        # Si es_primo(numero) regresa True,  añade \n",
    "        # el valor de numero a lista.\n",
    "        if es_primo(numero):\n",
    "            lista.append(numero)\n",
    "    # Regresa la lista de numeros primos.        \n",
    "    return lista"
   ]
  },
  {
   "cell_type": "code",
   "execution_count": null,
   "metadata": {},
   "outputs": [],
   "source": [
    "lista_primos(1050)"
   ]
  },
  {
   "cell_type": "code",
   "execution_count": null,
   "metadata": {},
   "outputs": [],
   "source": [
    "es_primo()"
   ]
  },
  {
   "cell_type": "markdown",
   "metadata": {},
   "source": [
    "* En el ejemplo anterior se definió a la función ```es_primo()``` dentro de la función ```lista_primos()```. \n",
    "* Como se puede observar, el nombre ```lista``` está en el espacio de nombres de ```lista_primos()```, pero al estar en un entorno superior al ámbito de ```es_primo()```, ésta función puede acceder a ```lista```."
   ]
  },
  {
   "cell_type": "markdown",
   "metadata": {},
   "source": [
    "## Recursividad.\n",
    "\n",
    "*Python* permite hacer llamadas recursivas a una función. Es decir, que la función se invoque a si misma. \n",
    "\n",
    "Cada vez que una función se invoca a si misma, *Python* crea un nuevo objeto de tipo ```function``` con las mismas características que la función original, pero con un ámbito totalmente nuevo y de nivel inferior a la función original."
   ]
  },
  {
   "cell_type": "markdown",
   "metadata": {},
   "source": [
    "**Ejemplo:**"
   ]
  },
  {
   "cell_type": "markdown",
   "metadata": {},
   "source": [
    "```\n",
    "1! = 1\n",
    "2! = 2 * 1! = 2\n",
    "3! = 3 * 2! = 6\n",
    "4! = 4 * 3! = 24\n",
    "5! = 5 * 4! = 120\n",
    "```"
   ]
  },
  {
   "cell_type": "code",
   "execution_count": null,
   "metadata": {},
   "outputs": [],
   "source": [
    "def factorial(n):\n",
    "    if n == 1:\n",
    "        return 1\n",
    "    else:\n",
    "        return  n * factorial(n - 1)"
   ]
  },
  {
   "cell_type": "code",
   "execution_count": null,
   "metadata": {},
   "outputs": [],
   "source": [
    "factorial(5)"
   ]
  },
  {
   "cell_type": "markdown",
   "metadata": {},
   "source": [
    "En este caso, la función ```factorial()``` se invoca recursivamente, pero cada vez que lo hace, el valor del parámetro ```n``` decrece en ```1``` de forma sucesiva hasta que el parámetro ```n``` alcanza el valor de ```1``` y entonces regresa dicho valor. Es entonces que la cerradura de la función de nivel inferior se multiplica por el parámetro ```n``` de la función superior hasta llegar a la función de más alto nivel."
   ]
  },
  {
   "cell_type": "markdown",
   "metadata": {},
   "source": [
    "Ahora se incluirán algunas modificaciones al ejemplo anterior para ilustrar el proceso."
   ]
  },
  {
   "cell_type": "code",
   "execution_count": null,
   "metadata": {},
   "outputs": [],
   "source": [
    "def factorial(n):\n",
    "    print(f'En este ámbito, el valor de n es {n}.')\n",
    "    if n == 1:\n",
    "        print('Llegó a 1.')\n",
    "        print('Regresa 1! = 1.')\n",
    "        return 1\n",
    "    else:\n",
    "        fact = n * factorial(n - 1)\n",
    "        print(f'Regresa {n} * {n - 1}! = {fact}.')\n",
    "        return fact"
   ]
  },
  {
   "cell_type": "code",
   "execution_count": null,
   "metadata": {
    "scrolled": false
   },
   "outputs": [],
   "source": [
    "factorial(5)"
   ]
  },
  {
   "cell_type": "markdown",
   "metadata": {},
   "source": [
    "## Funciones de orden superior.\n",
    "\n",
    "Las funciones de orden superior son funciones que aceptan funciones como argumentos y a su vez regresan funciones."
   ]
  },
  {
   "cell_type": "markdown",
   "metadata": {},
   "source": [
    "**Ejemplo:**"
   ]
  },
  {
   "cell_type": "markdown",
   "metadata": {},
   "source": [
    "* La función ```p()``` transforma al texto ingresado como argumento to en el código *HTML* correspondiente a un elemento ```<p>```."
   ]
  },
  {
   "cell_type": "code",
   "execution_count": null,
   "metadata": {},
   "outputs": [],
   "source": [
    "def p(texto):\n",
    "    '''Crea el código HTML de un bloque <p>.'''\n",
    "    return f'<p>{texto}</p>'"
   ]
  },
  {
   "cell_type": "code",
   "execution_count": null,
   "metadata": {},
   "outputs": [],
   "source": [
    "p('Hola, Mundo.')"
   ]
  },
  {
   "cell_type": "code",
   "execution_count": null,
   "metadata": {
    "scrolled": false
   },
   "outputs": [],
   "source": [
    "help(p)"
   ]
  },
  {
   "cell_type": "markdown",
   "metadata": {},
   "source": [
    "* La función ```h1()``` transforma al texto ingresado como argumento to en el código *HTML* correspondiente a un elemento ```<h1>```."
   ]
  },
  {
   "cell_type": "code",
   "execution_count": null,
   "metadata": {},
   "outputs": [],
   "source": [
    "def h1(texto):\n",
    "    '''Genera el código HTML de un bloque <h1> '''\n",
    "    return \"<h1>\" + texto + \"</h1>\""
   ]
  },
  {
   "cell_type": "code",
   "execution_count": null,
   "metadata": {},
   "outputs": [],
   "source": [
    "h1('Título')"
   ]
  },
  {
   "cell_type": "code",
   "execution_count": null,
   "metadata": {
    "scrolled": false
   },
   "outputs": [],
   "source": [
    "help(h1)"
   ]
  },
  {
   "cell_type": "markdown",
   "metadata": {},
   "source": [
    "* La función ```doc()``` regresa una cadena de caracteres que representa a un documento *HTML5*, incluyendo el texto ingresado como argumento como el contenido de ```<body>```."
   ]
  },
  {
   "cell_type": "code",
   "execution_count": null,
   "metadata": {},
   "outputs": [],
   "source": [
    "def doc(texto):\n",
    "    '''Permite crear un documento HTML5.'''\n",
    "    plantilla = '<!DOCTYPE html>\\n\\\n",
    "    <html>\\n\\\n",
    "      <head>\\n\\\n",
    "        <title>Página</title>\\n\\\n",
    "      </head>\\n\\\n",
    "      <body>\\n\\\n",
    "        {}\\n\\\n",
    "      </body>\\n\\\n",
    "    </html>'\n",
    "    return plantilla.format(texto)"
   ]
  },
  {
   "cell_type": "code",
   "execution_count": null,
   "metadata": {},
   "outputs": [],
   "source": [
    "doc('<p>Hola</p>')"
   ]
  },
  {
   "cell_type": "code",
   "execution_count": null,
   "metadata": {
    "scrolled": true
   },
   "outputs": [],
   "source": [
    "print(doc('<p>Hola</p>'))"
   ]
  },
  {
   "cell_type": "code",
   "execution_count": null,
   "metadata": {},
   "outputs": [],
   "source": [
    "print(doc(p('Hola')))"
   ]
  },
  {
   "cell_type": "code",
   "execution_count": null,
   "metadata": {},
   "outputs": [],
   "source": [
    "print(doc(h1('Hola')))"
   ]
  },
  {
   "cell_type": "markdown",
   "metadata": {},
   "source": [
    "* La función ```html()``` es una función de orden superior que:\n",
    "    * Recibe una función como argumento para el parámetro ```func```. \n",
    "    * Define a la función anidada ```doc()```, la cual crea una cadena de caracteres a partir de una plantilla y del resutado de invocar ```func()``` pasándole el argumento ```texto```. "
   ]
  },
  {
   "cell_type": "code",
   "execution_count": null,
   "metadata": {},
   "outputs": [],
   "source": [
    "def html(func):\n",
    "    '''Regresa una función que construye un documento HTML5 \n",
    "    a partir del texto que regresa el parámetro func.'''\n",
    "    def doc(texto):\n",
    "        '''Permite crear un documento HTML5.'''\n",
    "        \n",
    "        plantilla = '<!DOCTYPE html>\\n\\\n",
    "        <html>\\n\\\n",
    "          <head>\\n\\\n",
    "            <title>Página</title>\\n\\\n",
    "          </head>\\n\\\n",
    "          <body>\\n\\\n",
    "            {}\\n\\\n",
    "          </body>\\n\\\n",
    "        </html>'\n",
    "        \n",
    "        # Se regresará la plantilla con lo que regrese\n",
    "        # la función` correspondiente al parámetro func.\n",
    "        return plantilla.format(func(texto))\n",
    "    \n",
    "    # Regresa a la función doc\n",
    "    return doc"
   ]
  },
  {
   "cell_type": "code",
   "execution_count": null,
   "metadata": {
    "scrolled": true
   },
   "outputs": [],
   "source": [
    "help(html)"
   ]
  },
  {
   "cell_type": "code",
   "execution_count": null,
   "metadata": {},
   "outputs": [],
   "source": [
    "html(p)"
   ]
  },
  {
   "cell_type": "code",
   "execution_count": null,
   "metadata": {},
   "outputs": [],
   "source": [
    "html(p)(\"Hola\")"
   ]
  },
  {
   "cell_type": "code",
   "execution_count": null,
   "metadata": {
    "scrolled": true
   },
   "outputs": [],
   "source": [
    "print(html(p)(\"Hola\"))"
   ]
  },
  {
   "cell_type": "code",
   "execution_count": null,
   "metadata": {},
   "outputs": [],
   "source": [
    "print(html(h1)(\"Hola\"))"
   ]
  },
  {
   "cell_type": "markdown",
   "metadata": {},
   "source": [
    "## Decoradores.\n",
    "\n",
    "Los decoradores son un recursos de *Python* que permiten aplicar una función de orden superior a otra función con la siguiente sintaxis.\n",
    "\n",
    "```\n",
    "@<nombre de función de orden superior>\n",
    "def <nombre>(<argumentos>):\n",
    "    ...\n",
    "    ...\n",
    "```\n",
    "\n",
    "**Ejemplo:**\n",
    "\n",
    "Se utilizará el decorador de la función ```html()``` aplicado a la función ```parrafo()```."
   ]
  },
  {
   "cell_type": "code",
   "execution_count": null,
   "metadata": {},
   "outputs": [],
   "source": [
    "@html\n",
    "def p(texto):\n",
    "    '''Crea el código HTML de un bloque <p>.'''\n",
    "    return f'<p>{texto}</p>'"
   ]
  },
  {
   "cell_type": "code",
   "execution_count": null,
   "metadata": {},
   "outputs": [],
   "source": [
    "p"
   ]
  },
  {
   "cell_type": "code",
   "execution_count": null,
   "metadata": {
    "scrolled": true
   },
   "outputs": [],
   "source": [
    "print(p(\"Hola, Mundo.\"))"
   ]
  },
  {
   "cell_type": "code",
   "execution_count": null,
   "metadata": {
    "scrolled": true
   },
   "outputs": [],
   "source": [
    "help(p)"
   ]
  },
  {
   "cell_type": "code",
   "execution_count": null,
   "metadata": {},
   "outputs": [],
   "source": [
    "@html\n",
    "def h1(texto):\n",
    "    '''Genera el código HTML de un bloque <h1> '''\n",
    "    return \"<h1>\" + texto + \"</h1>\""
   ]
  },
  {
   "cell_type": "code",
   "execution_count": null,
   "metadata": {},
   "outputs": [],
   "source": [
    "print(h1('Título'))"
   ]
  },
  {
   "cell_type": "code",
   "execution_count": null,
   "metadata": {},
   "outputs": [],
   "source": [
    "help(h1)"
   ]
  },
  {
   "cell_type": "markdown",
   "metadata": {},
   "source": [
    "\n",
    "## Definición de funciones con la declaración ```lambda```.\n",
    "\n",
    "Python permite definir funciones en una sola línea mediante el uso del la expresión lambda con la siguiente sintaxis:\n",
    "\n",
    "```\n",
    "lambda <parámetro 1>,  <parámetro 2>...  <parámetro n> : <expresión>\n",
    "```\n",
    "\n",
    "A este tipo de funciones se les conoce como funciones lambda o funciones anónimas debido a que no requieren de un nombre para ser definidas.\n",
    "\n",
    "Para nombrar a estas funciones se utiliza el operador de asignación ```=```."
   ]
  },
  {
   "cell_type": "markdown",
   "metadata": {},
   "source": [
    "**Ejemplos:**"
   ]
  },
  {
   "cell_type": "code",
   "execution_count": null,
   "metadata": {},
   "outputs": [],
   "source": [
    "saluda = lambda t='extraño', w=50: f'Hola, {t}.'.center(w)"
   ]
  },
  {
   "cell_type": "code",
   "execution_count": null,
   "metadata": {},
   "outputs": [],
   "source": [
    "type(saluda)"
   ]
  },
  {
   "cell_type": "code",
   "execution_count": null,
   "metadata": {},
   "outputs": [],
   "source": [
    "saluda()"
   ]
  },
  {
   "cell_type": "code",
   "execution_count": null,
   "metadata": {},
   "outputs": [],
   "source": [
    "saluda('Mundo', 20)"
   ]
  },
  {
   "cell_type": "markdown",
   "metadata": {},
   "source": [
    "* La función ```es_par()``` regresa ```True``` si el argumento ingresado es un número par y regresa ```False``` si el argumento ingresado es un número non."
   ]
  },
  {
   "cell_type": "code",
   "execution_count": null,
   "metadata": {},
   "outputs": [],
   "source": [
    "es_par = lambda n: True if n % 2  == 0 else False"
   ]
  },
  {
   "cell_type": "code",
   "execution_count": null,
   "metadata": {},
   "outputs": [],
   "source": [
    "es_par(2)"
   ]
  },
  {
   "cell_type": "code",
   "execution_count": null,
   "metadata": {},
   "outputs": [],
   "source": [
    "es_par(3)"
   ]
  },
  {
   "cell_type": "markdown",
   "metadata": {},
   "source": [
    "* La función ```factorial()``` calcula el factorial de un número mediante recursividad."
   ]
  },
  {
   "cell_type": "code",
   "execution_count": null,
   "metadata": {},
   "outputs": [],
   "source": [
    "factorial = lambda n: n * factorial(n - 1) if n > 1 else 1"
   ]
  },
  {
   "cell_type": "code",
   "execution_count": null,
   "metadata": {},
   "outputs": [],
   "source": [
    "factorial(5)"
   ]
  },
  {
   "cell_type": "code",
   "execution_count": null,
   "metadata": {
    "scrolled": true
   },
   "outputs": [],
   "source": [
    "list(map(lambda x, y: x + y, [1, 2, 3, 4], [5, 6, 7, 8]))"
   ]
  },
  {
   "cell_type": "code",
   "execution_count": null,
   "metadata": {},
   "outputs": [],
   "source": [
    "from functools import reduce"
   ]
  },
  {
   "cell_type": "code",
   "execution_count": null,
   "metadata": {},
   "outputs": [],
   "source": [
    "reduce(lambda x, y: x + y, [1, 2, 3, 4])"
   ]
  },
  {
   "cell_type": "markdown",
   "metadata": {},
   "source": [
    "<p style=\"text-align: center\"><a rel=\"license\" href=\"http://creativecommons.org/licenses/by/4.0/\"><img alt=\"Licencia Creative Commons\" style=\"border-width:0\" src=\"https://i.creativecommons.org/l/by/4.0/80x15.png\" /></a><br />Esta obra está bajo una <a rel=\"license\" href=\"http://creativecommons.org/licenses/by/4.0/\">Licencia Creative Commons Atribución 4.0 Internacional</a>.</p>\n",
    "<p style=\"text-align: center\">&copy; José Luis Chiquete Valdivieso. 2022.</p>"
   ]
  }
 ],
 "metadata": {
  "kernelspec": {
   "display_name": "Python 3 (ipykernel)",
   "language": "python",
   "name": "python3"
  },
  "language_info": {
   "codemirror_mode": {
    "name": "ipython",
    "version": 3
   },
   "file_extension": ".py",
   "mimetype": "text/x-python",
   "name": "python",
   "nbconvert_exporter": "python",
   "pygments_lexer": "ipython3",
   "version": "3.10.4"
  }
 },
 "nbformat": 4,
 "nbformat_minor": 2
}
