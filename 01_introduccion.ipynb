{
 "cells": [
  {
   "cell_type": "markdown",
   "metadata": {},
   "source": [
    "[![pythonista.io](imagenes/pythonista.png)](https://www.pythonista.io)"
   ]
  },
  {
   "cell_type": "markdown",
   "metadata": {},
   "source": [
    "# Introducción.\n",
    "\n",
    "[Python](http://python.org) es un lenguaje de programación de alto nivel, interactivo e interpretado, creado por Guido Van Rossum en 1991. El nombre del lenguaje es en honor al programa cómico de la televisión británica llamado “Monty Python Flying Circus”.\n",
    "\n",
    "Es de código abierto, multi-plataforma y se adecua a diversos paradigmas de programación (programación funcional, programación orientada a objetos, programación procesal, etc.).\n",
    "\n",
    "Python se ha vuelto muy popular ya sea como un primer lenguaje de programación o como el lenguaje seleccionado por defecto por diversos proyectos de primer nivel tales como Openstack, Blender, Google App Engine, Django, Jupyter, etc."
   ]
  },
  {
   "cell_type": "markdown",
   "metadata": {},
   "source": [
    "## Características de Python.\n",
    "\n",
    "A lo largo de estos cursos se explorarán y aprovecharán las características que hacen de Python un lenguaje tan popular y poderoso.\n",
    "\n",
    "* Sintaxis muy clara y legible.\n",
    "* Fuerte capacidad de introspección.\n",
    "* Orientación a objetos intuitiva.\n",
    "* Expresión del código procedimental.\n",
    "* Altamente modular, soporta  paquetes jerárquicos.\n",
    "* Enfocado en el uso de excepciones para el manejo de errores.\n",
    "* Tipos de datos dinámicos de muy alto nivel.\n",
    "* Extensa [biblioteca estándar](https://docs.python.org/3/library/) (STL) y módulos de terceros para prácticamente todas las tareas.\n",
    "* Extensiones y módulos fácilmente escritos en C, C + + (o Java para Jython, o. NET para IronPython).\n",
    "* Integrable dentro de las aplicaciones como una interfaz de scripting."
   ]
  },
  {
   "cell_type": "markdown",
   "metadata": {},
   "source": [
    "## Aplicaciones de Python.\n",
    "\n",
    "Al ser un lenguaje multipropósito y altamente portable, Python se ha utilizado para desarrollar:\n",
    "\n",
    "* Aplicaciones de escritorio.\n",
    "* Aplicaciones web.\n",
    "* Análisis de datos.\n",
    "* Administración de servidores.\n",
    "* Seguridad y análisis de penetración.\n",
    "* Cómputo en la nube.\n",
    "* Cómputo científico.\n",
    "* Análisis de lenguaje natural.\n",
    "* Visión artificial.\n",
    "* Animación, videojuegos e imágenes generadas por computadora.\n",
    "* Aplicaciones móviles *.\n",
    "* Internet de las cosas (IoT).\n",
    "* DevOps."
   ]
  },
  {
   "cell_type": "markdown",
   "metadata": {},
   "source": [
    "## Python 2 y Python 3.\n",
    "\n",
    "Debido a la continua evolución y revisión del lenguaje de programación, actualmente existen dos versiones de Python cuyo código no es compatible.\n",
    "\n",
    "Python 3  es una versión revisada del lenguaje, la cual fue publicada en 2009 y que incluye modificaciones y mejoras que lo hacen incompatible con código de versiones previas; mientras que Python 2 es una versión que es compatible con código antiguo. \n",
    "\n",
    "Python 2.7 es una versión \"de transición\" que permite usar algunos elementos sintácticos tanto de Python 2 como de Python 3.\n",
    "\n",
    "Python 3 presenta mejoras notables con respecto a Python 2, sin embargo aún existe mucho código \"heredado\" compatible con Python 2.\n",
    "\n",
    "Se prevé que la publicación y soporte de nuevas versiones de Python 2 cese a partir del año 2020.\n",
    "\n",
    "**NOTA:** En este documento se utilizará código escrito en Python 3, pero se discutirá sobre las diferencias entre cada versión cuando se considere pertinente."
   ]
  },
  {
   "cell_type": "markdown",
   "metadata": {},
   "source": [
    "## Implementaciones.\n",
    "\n",
    "Python no sólo ha sido portado a diversos sistemas operativos, sino que existen implementaciones específicas del lenguaje. Algunas implementaciones más populares de Python son:\n",
    "\n",
    "* CPython o es la implementación común de Python.\n",
    "* [PyPy](http://pypy.org/) es una implementación de Python enfocada en optimizar su velocidad de ejecución y eficiencia en el uso de la memoria entre otras cosas.\n",
    "* [Jython](http://www.jython.org/) es una implementación de Python sobre la máquina virtual de Java (JVM).\n",
    "* [IronPython](http://ironpython.net/) es una implementación de Python para .NET.\n",
    "* [MicroPython](https://micropython.org/) es una implementaci;ónd e Python para microcontroladores (ESP32 y ESP8266)."
   ]
  },
  {
   "cell_type": "markdown",
   "metadata": {},
   "source": [
    "## Distribuciones.\n",
    "\n",
    "Python ya viene con una gran biblioteca estándar, sin embargo existen algunas \"distribuciones\" que pretenden extender al lenguaje con propósitos particulares. Es posible consultar las diversas distribuciones de Python en https://wiki.python.org/moin/PythonDistributions."
   ]
  },
  {
   "cell_type": "markdown",
   "metadata": {},
   "source": [
    "## Instalación.\n",
    "\n",
    "Las principales distribuciones de GNU/Linux, los sistemas \\*BSD, así como Mac OS X y la mayoría de los UNIX vienen al menos con Python 2 preinstalado. Del mismo modo, las principales distribuciones de GNU/Linux cuentan con paquetes de instalación de Python 3.\n",
    "\n",
    "Las versiones más recientes de Python pueden ser descargadas desde el sitio principal, https://python.org, incluyendo binarios para Mac OS X y Windows e incluso es posible descargar el código fuente.\n",
    "\n",
    "**Nota:** [Anaconda](https://www.anaconda.com/distribution/) es una distribución de Python 2 y Python 3 especializada en cómputo científico, sin embargo es de muy fácil instalación y gestión tanto en Windows como en Mac OS X y GNU/Linux. Es una alternativa muy recomendable a las versiones oficiales de Python."
   ]
  },
  {
   "cell_type": "markdown",
   "metadata": {},
   "source": [
    "## Breve introducción a los lenguajes de programación.\n",
    "\n",
    "Un lenguaje es un conjunto de cadenas de símbolos con los que se pueden crear mensajes. De ese modo los mensajes son transmitidos de un emisor a un receptor. Aún cuando en la naturaleza se pueden identificar ciertos lenguajes, los seres humanos hemos desarrollado lenguajes de diversos tipos y gran complejidad.\n",
    "\n",
    "Los lenguajes constan principamente de la gramática, la cual trata sobre la construcción del lenguaje, y la semántica, la cual trata sobre el significado del lenguaje.\n",
    "\n",
    "A su vez, la gramática consta de: \n",
    "\n",
    "* Morfología: cómo se construyen las notaciones (género, tiempos, declinaciones).\n",
    "* Sintaxis: cómo se deben escribir las notaciones (orden, estructura).\n",
    "\n",
    "Durante el siglo XX, científicos como [Alan Turing](https://en.wikipedia.org/wiki/Alan_Turing) y [Alonzo Church](https://en.wikipedia.org/wiki/Alonzo_Church) fundaron las bases del cómputo, la programación y sus lenguajes. Los lenguajes de programación actuales, a diferencia de los lenguajes humanos tienen una morfología rígida y simplificada con el fin de ejecutar instrucciones específicas en los sistemas de cómputo."
   ]
  },
  {
   "cell_type": "markdown",
   "metadata": {},
   "source": [
    "### Lenguajes de alto y bajo nivel.\n",
    "\n",
    "Los lenguajes de bajo nivel constan de un conjunto básico de instrucciones que son ejecutados directamente por la unidad de procesamiento de un sistema de cómputo, tal como es el caso del lenguaje ensamblador. Dichos lenguajes están ligados intrínsecamente al tipo de procesador que los ejecuta y resultan ser muy complicados de elaborar e interpretar por las personas. \n",
    "\n",
    "Por su parte, los lenguajes de alto nivel son más accesibles para el ser humano e incluso menos dependientes del tipo de hardware, pero deben de ser a su vez traducidos a lenguaje de de bajo nivel."
   ]
  },
  {
   "cell_type": "markdown",
   "metadata": {},
   "source": [
    "### Lenguajes compilados e interpretados.\n",
    "\n",
    "Los lenguajes de alto nivel interactúan con los sistema de cómputo de dos formas.\n",
    "\n",
    "* Mediante un compilador, el cual traduce el código de un programa a lenguaje de bajo nivel, dando por resultado un \"archivo binario\" el cual es susceptible de ser ejecutado.\n",
    "* Mediante un intérprete, el cual ejecuta de inmediato las instrucciones que se ingresan.\n",
    "\n",
    "Por lo general los lenguajes compilados son más rápidos y consumen menos recursos que los lenguajes interpretados en vista de que el archivo resultante es código de bajo nivel, mientras que los lenguajes interpretados deben seguir un proceso a través de varios niveles de abstracción hasta que las instrucciones son ejecutadas por el sistema.\n",
    "\n",
    "**Python es un lenguaje interpretado de alto nivel.**"
   ]
  },
  {
   "cell_type": "markdown",
   "metadata": {},
   "source": [
    "## Entornos  interactivos, guiones y *'Hola Mundo'*.\n",
    "\n",
    "Debido a que Python es un lenguaje interpretado, es posible utilizarlo mediante un entorno interactivo (shell) o mediante el uso de guiones (scripts)."
   ]
  },
  {
   "cell_type": "markdown",
   "metadata": {},
   "source": [
    "### El entorno interactivo.\n",
    "\n",
    "El entorno interactivo (shell) de Python se ejecuta desde una terminal de texto. \n",
    "\n",
    "En el caso de los sistemas basados en UNIX, como GNU/Linux \\*BSD y Mac OS X, es necesario abrir una terminal de texto e invocar el shell de la siguiente manera:\n",
    "\n",
    "```\n",
    "python\n",
    "```\n",
    "Es común que el intérprete de Python 2 y el de Python 3 se encuentren instalados en el mismo sistema. En ese caso, es común que el in'terprete de Python 3  se invoque mediante la siguiente sintaxis.\n",
    "\n",
    "```\n",
    "python3\n",
    "```\n",
    "\n",
    "En el caso de Windows, se selecciona el lanzador de Python, el cual abrirá una terminal de texto corriendo el entorno interactivo.\n",
    "\n",
    "El entorno interactivo se verá de forma similar a la siguiente:\n",
    "\n",
    "```\n",
    "Python 3.4.3+ (default, Oct 14 2015, 16:03:50) \n",
    "[GCC 5.2.1 20151010] on linux\n",
    "```\n",
    "\n",
    "```\n",
    "Type \"help\", \"copyright\", \"credits\" or \"license\" for more information.\n",
    ">>> \n",
    "```\n",
    "\n",
    "**NOTA:** Para salir del entorno interactivo se debe teclear ```exit()``` y oprimir la tecla <kbd>Intro</kbd>."
   ]
  },
  {
   "cell_type": "markdown",
   "metadata": {},
   "source": [
    "### *'Hola Mundo'* en el entorno interactivo.\n",
    "Para desplegar el texto Hola Mundo desde en entorno interactivo sólo es necesario teclear lo siguiente:\n",
    "\n",
    "```\n",
    ">>> print(\"Hola, Mundo.\")\n",
    "```\n",
    "\n",
    "Y el resultado es el siguiente:\n",
    "\n",
    "```\n",
    "Hola, Mundo.\n",
    ">>>\n",
    "```"
   ]
  },
  {
   "cell_type": "markdown",
   "metadata": {},
   "source": [
    "### *'Hola Mundo'* en la notebook de Jupyter.\n",
    "\n",
    "Las notebooks de Jupyter funcionan mediante *kernels* los cuales son conexiones a un intérprete del lenguaje correspondiente.\n",
    "\n",
    "Para ejecutar un comando de Python en una notebook de Jupyter con el kernel de Python 3, sólo es necesario escribir el código en una terminal de tipo ```Code``` y ejecutarla."
   ]
  },
  {
   "cell_type": "markdown",
   "metadata": {},
   "source": [
    "**Ejemplo:**"
   ]
  },
  {
   "cell_type": "code",
   "execution_count": 1,
   "metadata": {},
   "outputs": [
    {
     "name": "stdout",
     "output_type": "stream",
     "text": [
      "Hola, Mundo.\n"
     ]
    }
   ],
   "source": [
    " print(\"Hola, Mundo.\")"
   ]
  },
  {
   "cell_type": "markdown",
   "metadata": {},
   "source": [
    "### Ejecución de guiones (scripts).\n",
    "\n",
    "Los scripts de Python son archivos de texto que contienen código que será leído y ejecutado por el intérprete de Python. Dichos archivos tiene la extensión ```.py```. Algunos editores de texto cuentan con reconocimiento de la sintaxis de Python y utilizan colores para identificar sus componentes."
   ]
  },
  {
   "cell_type": "markdown",
   "metadata": {},
   "source": [
    "#### El script ```src/holamundo.py```.\n",
    "\n",
    "El documento  [```src/holamundo.py```](src/holamundo.py)contiene el siguiente código.\n",
    "\n",
    "``` python\n",
    "#!/usr/bin/env python                                                     \n",
    "print(\"Hola, Mundo.\")\n",
    "```"
   ]
  },
  {
   "cell_type": "markdown",
   "metadata": {},
   "source": [
    "#### Ejecución mediante el intérprete.\n",
    "\n",
    "Para ejecutar el script, es necesario que el intérprete acceda al archivo con uina sintaxis similar a: \n",
    "\n",
    "``` \n",
    "python <script>\n",
    "```"
   ]
  },
  {
   "cell_type": "markdown",
   "metadata": {},
   "source": [
    "**Ejemplo:**"
   ]
  },
  {
   "cell_type": "markdown",
   "metadata": {},
   "source": [
    "Las notebooks de Jupyter permiten enviar comandos al sistema anteponiendio un signo de admiración ```!``` antes del comando."
   ]
  },
  {
   "cell_type": "markdown",
   "metadata": {},
   "source": [
    "* La siguiente celda ejecutará el script ```src/holamundo.py```usando el intérprete de Python.\n",
    "\n",
    "**Nota:** La celda sólo se ejecutará si el intérprete de Python esté en una ruta por defecto del sistema. En algunos casos el intérprete es ```python3```."
   ]
  },
  {
   "cell_type": "code",
   "execution_count": 2,
   "metadata": {},
   "outputs": [
    {
     "name": "stdout",
     "output_type": "stream",
     "text": [
      "Hola, Mundo.\n"
     ]
    }
   ],
   "source": [
    "!python src/holamundo.py"
   ]
  },
  {
   "cell_type": "markdown",
   "metadata": {},
   "source": [
    "#### Ejecución de un script en Jupyter.\n",
    "Jupyter puede ejecutar scripts mediante el \"comando mágico\" ```%run```.\n",
    "\n",
    "Más adelante se discutirán los comandos mágicos de IPython."
   ]
  },
  {
   "cell_type": "code",
   "execution_count": 3,
   "metadata": {
    "scrolled": true
   },
   "outputs": [
    {
     "name": "stdout",
     "output_type": "stream",
     "text": [
      "Hola, Mundo.\n"
     ]
    }
   ],
   "source": [
    "%run src/holamundo.py"
   ]
  },
  {
   "cell_type": "markdown",
   "metadata": {},
   "source": [
    "#### Ejecución directa de un script en entornos basados en UNIX.\n",
    "\n",
    "La ejecución directa del script en entornos basados en UNIX requiere que se indique la ruta en la que se encuentra el intérprete de Python mediante el texto: \n",
    "\n",
    "```\n",
    "#!/usr/bin/env python \n",
    "```\n",
    "\n",
    "Esta línea no afecta la ejecución del script en Windows, por lo que se recomienda incluirla siempre.\n",
    "\n",
    "Si se desea ejecutar cualquier script en entornos basados en UNIX, es necesario que el script cuente con los permisos necesarios. Para asignar permisos de ejecución a un archivo en \\*NIX se utiliza el comando: \n",
    "\n",
    "```\n",
    "chmod +x <ruta del archivo>\n",
    "```"
   ]
  },
  {
   "cell_type": "markdown",
   "metadata": {},
   "source": [
    "**Ejemplo:**\n",
    "\n",
    "* En caso de que esta notebook se encuentre orriendo en un sistema basado en UNIX como GNU/Linux o Mac OS X, la siguiente comando en la terminal asignará permisos de ejecución al script ```codigo/holamundo.py```.\n",
    "\n",
    "**Advertencia:** Las siguientes celdas no funcionarán en Windows."
   ]
  },
  {
   "cell_type": "code",
   "execution_count": null,
   "metadata": {
    "scrolled": true
   },
   "outputs": [],
   "source": [
    "!chmod +x src/holamundo.py"
   ]
  },
  {
   "cell_type": "markdown",
   "metadata": {},
   "source": [
    "* La siguiente celda se ejecutará en un entorno basado en UNIX si existe la ruta a un interprete configurado en la variable de entrono ```PATH```."
   ]
  },
  {
   "cell_type": "code",
   "execution_count": null,
   "metadata": {},
   "outputs": [],
   "source": [
    "!./src/holamundo.py"
   ]
  },
  {
   "cell_type": "markdown",
   "metadata": {},
   "source": [
    "#### Ejecución en Windows.\n",
    "\n",
    "En el caso de Windows, el sistema relacionará a los archivos con la extensión ```.py``` con el intérprete de Python, por lo que con hacer doble click en el archivo, éste se ejecutará y tan  pronto termine, cerrará la terminal.\n",
    "\n",
    "Cuando se ejecute el script ```src/holamundo.py``` en Windows, se abrirá y cerrará una terminal de forma casi inmediata."
   ]
  },
  {
   "cell_type": "markdown",
   "metadata": {},
   "source": [
    "**Ejemplo:**"
   ]
  },
  {
   "cell_type": "markdown",
   "metadata": {},
   "source": [
    "* La siguiente celda se ejecutará en un entorno basado en Windows si existe la ruta a un interprete de Python configurado.\n",
    "\n",
    "**Advertencia:** Las siguientes celdas no funcionarán en entornos distintos a Windows."
   ]
  },
  {
   "cell_type": "code",
   "execution_count": 4,
   "metadata": {},
   "outputs": [],
   "source": [
    "!src\\holamundo.py"
   ]
  },
  {
   "cell_type": "markdown",
   "metadata": {},
   "source": [
    "### El script ```src/holamundo2.py```.\n",
    "\n",
    "El  script [```src/holamundo2.py```](src/holamundo2.py) es similar a ```src/holamundo2.py```, pero incluye una instrucción que no terminará su ejecución hasta que se oprima la tecla <kbd>Intro</kbd>.\n",
    "\n",
    "``` python\n",
    "#!/usr/bin/env python\n",
    "print(\"Hola Mundo\")\n",
    "input()\n",
    "```"
   ]
  },
  {
   "cell_type": "code",
   "execution_count": 5,
   "metadata": {},
   "outputs": [
    {
     "name": "stdout",
     "output_type": "stream",
     "text": [
      "Hola, Mundo.\n",
      "hiuhhiuhiuhiuhi\n"
     ]
    }
   ],
   "source": [
    "%run src/holamundo2.py"
   ]
  },
  {
   "cell_type": "markdown",
   "metadata": {},
   "source": [
    "## Codificación de caracteres .\n",
    "\n",
    "Python 3 utiliza la codificación [*UTF-8*](https://www.utf8-chartable.de/unicode-utf8-table.pl) por defecto.\n",
    "\n",
    "Python 2 utiliza por defecto una codificación [*ASCII*](http://www.asciitable.com/), por lo que desplegar caracteres especiales como la \"ñ\" y los acentos generan un mensaje de error. \n",
    "\n",
    "\n",
    "### Codificación *UTF-8* en Python 2.\n",
    "Para indicarle al intérprete de Python 2 que utilice la codificación UTF-8 se debe incluir la siguiente línea al principio el script:\n",
    "``` python\n",
    "# -*- coding: utf-8 -*-\n",
    "```\n",
    "Es muy recomendable definir siempre el tipo de codificación UTF-8 en los scripts hechos para Python 2.\n",
    "\n",
    "El script *hola_ninos.py* es un ejemplo de código en Python 2.\n",
    "\n",
    "``` python\n",
    "#! /usr/bin/python\n",
    "# -*- coding: utf-8 -*- \n",
    "print \"Hola niños\"\n",
    "input()\n",
    "```\n",
    "\n",
    "Cabe hacer notar que el código de este script no es compatible con Python 3, ya que *print* requiere del uso de paréntesis en dicha versión. "
   ]
  },
  {
   "cell_type": "markdown",
   "metadata": {},
   "source": [
    "## Entornos de Desarrollo Integrado.\n",
    "\n",
    "Un Entorno de Desarrollo Integrado (IDE) es un conjunto de herramientas e interfaces que facilitan la programación y que están integrados por algunos de los siguientes elementos:\n",
    "* Editor.\n",
    "* Depurador.\n",
    "* Compilador (no es necesario para Python).\n",
    "* Interfaz de ejecución.\n",
    "* Gestor de componentes.\n",
    "* Control de versiones."
   ]
  },
  {
   "cell_type": "markdown",
   "metadata": {},
   "source": [
    "### IDLE.\n",
    "\n",
    "IDLE es el IDE que viene preinstalado con Python, el cual se ejecuta desde una ventana en el Escritorio de un entorno gráfico.\n",
    "\n",
    "![IDLE](imagenes/idle.png)\n",
    "\n",
    "Existen varios editores e IDE que pueden soportar a Python. Algunos de ellos son: \n",
    "* [Eclipse](https://www.eclipse.org/).\n",
    "* [XCode](https://developer.apple.com/xcode/).\n",
    "* [Visual Studio Code](https://code.visualstudio.com/).\n",
    "* [NetBeans](https://netbeans.org/).\n",
    "* [Atom](https://atom.io/).\n",
    "* [Sublime text](https://www.sublimetext.com/).\n",
    "* [Komodo IDE](https://www.activestate.com/products/komodo-ide/).\n",
    "* [Vim](https://www.vim.org/).\n",
    "* [Emacs](https://www.gnu.org/software/emacs/).\n",
    "* [PyCharm](https://www.jetbrains.com/pycharm/).\n",
    "* [Wing IDE](https://wingware.com/).\n",
    "* [Ninja IDE](http://ninja-ide.org).\n",
    "* [Spyder IDE](https://www.spyder-ide.org/)."
   ]
  },
  {
   "cell_type": "markdown",
   "metadata": {},
   "source": [
    "## La comunidad de Python.\n",
    "\n",
    "Python es un lenguaje que ha crecido gracias a una amplia y participativa comunidad. Aún cuando Guido Van Rossum tiene la última palabra en el desarrollo de Python, todos los comentarios son bienvenidos y existen cientos de proyectos en torno a este lenguaje de programación.\n",
    "\n",
    "A los programadores de Python se le conoce como \"pythonistas\" y con el tiempo han desarrollado todo un  compendio de mejores prácticas y códigos de estilo para programar en este lenguaje."
   ]
  },
  {
   "cell_type": "markdown",
   "metadata": {},
   "source": [
    "### El Zen de Python.\n",
    "\n",
    "El *Zen de Python* es una lista de aforismos que indican de forma general lo que se espera del código hecho en Python, y ha sido reconocido de tal forma por la comunidad que puede ser consultado desde el intérprete de Python de la siguiente manera."
   ]
  },
  {
   "cell_type": "code",
   "execution_count": 6,
   "metadata": {},
   "outputs": [
    {
     "name": "stdout",
     "output_type": "stream",
     "text": [
      "The Zen of Python, by Tim Peters\n",
      "\n",
      "Beautiful is better than ugly.\n",
      "Explicit is better than implicit.\n",
      "Simple is better than complex.\n",
      "Complex is better than complicated.\n",
      "Flat is better than nested.\n",
      "Sparse is better than dense.\n",
      "Readability counts.\n",
      "Special cases aren't special enough to break the rules.\n",
      "Although practicality beats purity.\n",
      "Errors should never pass silently.\n",
      "Unless explicitly silenced.\n",
      "In the face of ambiguity, refuse the temptation to guess.\n",
      "There should be one-- and preferably only one --obvious way to do it.\n",
      "Although that way may not be obvious at first unless you're Dutch.\n",
      "Now is better than never.\n",
      "Although never is often better than *right* now.\n",
      "If the implementation is hard to explain, it's a bad idea.\n",
      "If the implementation is easy to explain, it may be a good idea.\n",
      "Namespaces are one honking great idea -- let's do more of those!\n"
     ]
    }
   ],
   "source": [
    "import this"
   ]
  },
  {
   "cell_type": "markdown",
   "metadata": {},
   "source": [
    "Aquí la traducción de los aforismos.\n",
    "\n",
    "* Bello es mejor que feo.\n",
    "* Explícito es mejor que implícito.\n",
    "* Simple es mejor que complejo.\n",
    "* Complejo es mejor que complicado.\n",
    "* Plano es mejor que anidado.\n",
    "* Escaso es mejor que denso.\n",
    "* La legibilidad cuenta.\n",
    "* Los casos especiales no son tan especiales como para romper las reglas.\n",
    "* Aunque lo práctico le gana a la pureza.\n",
    "* Los errores no deben pasar en silencio.\n",
    "* A menos que sean silenciados explícitamente.\n",
    "* En caso de ambigüedad, resiste la tentación a adivinar.\n",
    "* Debería haber una --y preferiblemente sólo una-- manera obvia de hacer las cosas.\n",
    "* Aunque esa manera no parezca ser tan obvia a menos que seas Holandés.\n",
    "* Ahora es mejor que nunca.\n",
    "* Aunque nunca es normalmente mejor que ahora \"mismo\".\n",
    "* Si la implementación es difícil de explicar, es una mala idea.\n",
    "* Si la implementación es fácil de explicar, podría ser una buena idea.\n",
    "* Los Espacios de Nombres son una magnífica idea -- ¡Hagamos más de esos!"
   ]
  },
  {
   "cell_type": "markdown",
   "metadata": {},
   "source": [
    "### Las PEP  de Python.\n",
    "\n",
    "Es muy problable que algún pythonista comparta alguna inquietud o tenga alguna propuesta relacionada con algún aspecto de Python y es por eso que existe un espacio que compendia una inmensa cantidad de propuestas e ideas relacionadas con el lenguaje. \n",
    "\n",
    "[PEP](http://www.python.org/dev/peps/) es el acrónimo de \"Propuesta de mejora de Python\" y es el sitio en el que se puede proponer, consultar e incluso debatir sobre todas estas inquietudes de forma abierta y directa con los desarrolladores del lenguaje.\n",
    "\n",
    "La [PEP-8](https://www.python.org/dev/peps/pep-0008/) es particularmente interesante, ya que se refiere a las reglas de estilo que se sugieren para programar en Python."
   ]
  },
  {
   "cell_type": "markdown",
   "metadata": {},
   "source": [
    "### El índice de paquetes de Python (PyPI).\n",
    "\n",
    "Python es un lenguaje que viene con una gran biblioteca estándar, sin embargo existe una biblioteca en línea aún más grande y que sirve como repositorio de diversos proyectos publicados por sus desarrolladores para uso de la comunidad.\n",
    "El sitio [https://pypi.org](https://pypi.org) no sólo enlista a dichos proyectos, sino que además cuenta con ```pip```, una herramienta que puede instalar de forma local los paquetes correspondientes a uno o diversos proyectos contenidos en PyPI."
   ]
  },
  {
   "cell_type": "markdown",
   "metadata": {},
   "source": [
    "<p style=\"text-align: center\"><a rel=\"license\" href=\"http://creativecommons.org/licenses/by/4.0/\"><img alt=\"Licencia Creative Commons\" style=\"border-width:0\" src=\"https://i.creativecommons.org/l/by/4.0/80x15.png\" /></a><br />Esta obra está bajo una <a rel=\"license\" href=\"http://creativecommons.org/licenses/by/4.0/\">Licencia Creative Commons Atribución 4.0 Internacional</a>.</p>\n",
    "<p style=\"text-align: center\">&copy; José Luis Chiquete Valdivieso. 2020.</p>"
   ]
  }
 ],
 "metadata": {
  "kernelspec": {
   "display_name": "Python 3",
   "language": "python",
   "name": "python3"
  },
  "language_info": {
   "codemirror_mode": {
    "name": "ipython",
    "version": 3
   },
   "file_extension": ".py",
   "mimetype": "text/x-python",
   "name": "python",
   "nbconvert_exporter": "python",
   "pygments_lexer": "ipython3",
   "version": "3.8.5"
  }
 },
 "nbformat": 4,
 "nbformat_minor": 1
}
