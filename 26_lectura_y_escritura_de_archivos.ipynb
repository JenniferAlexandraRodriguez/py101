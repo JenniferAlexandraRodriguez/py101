{
 "cells": [
  {
   "cell_type": "markdown",
   "metadata": {},
   "source": [
    "[![pythonista.io](imagenes/pythonista.png)](https://www.pythonista.io)"
   ]
  },
  {
   "cell_type": "markdown",
   "metadata": {},
   "source": [
    "# Lectura y escritura de archivos.\n",
    "\n",
    "Python tiene la capacidad de acceder y realizar operaciones de lectura/escritura sobre los documentos localizados en un sistema de archivos si el usuario cuenta con los permisos correspondientes."
   ]
  },
  {
   "cell_type": "markdown",
   "metadata": {},
   "source": [
    "## Flujos de datos en sistemas basados en *UNIX*.\n",
    "\n",
    "Ls sistemas *UNIX*, *MacOS X* y *GNU/Linux* se basan en la premisa de que todo es un archivo un directorio, por lo que es común acceder a flujos de datos (streams) de dispositivos y/o procesos como si se accediera a un archivo binario. Este tipo de accesos están fuera del alcance de este curso introductorio."
   ]
  },
  {
   "cell_type": "markdown",
   "metadata": {},
   "source": [
    "## Tamaño y posición de los archivos.\n",
    "\n",
    "Los archivos contienen una sucesión lineal de bytes o de caracteres.\n",
    "\n",
    "La posición de cada byte o caracter corresponde a un número entero positivo iniciando a partir de ```0```."
   ]
  },
  {
   "cell_type": "markdown",
   "metadata": {},
   "source": [
    "\n",
    "## Apertura de un archivo con la función ```open()```.\n",
    "\n",
    "La función ```open()``` tiene por objeto interactuar con el sistema de archivos local para crear, escribir, leer o desplazarse dentro de un archivo ya sea de texto o binario. \n",
    "\n",
    "```\n",
    "open(<ruta>, <modo>)\n",
    "```\n",
    "\n",
    "Donde:\n",
    "\n",
    "* ```<ruta>``` es un objeto de tipo ```str``` que indica la ruta en la que se encuentra el archivo.\n",
    "* ```<modo>``` es un objeto de tipo ```str``` que indica la forma en la que Python accederá al archivo en cuestión.\n",
    "\n",
    "**Nota:**\n",
    "\n",
    "En el caso de Windows, las rutas utlizan la diagonal invertida ```\\```. Debido a que la diagonal invertida es un caracter de escape de Python, es necesario agregar dos diagonales invertidas ```\\\\```."
   ]
  },
  {
   "cell_type": "markdown",
   "metadata": {},
   "source": [
    "### Modos de acceso a un archivo."
   ]
  },
  {
   "cell_type": "markdown",
   "metadata": {},
   "source": [
    "#### Por el tipo de acceso.\n",
    "\n",
    "* El caracter ```'r'``` indica que se accederá a un archivo exclusivamente para su lectura y el apuntador se localizará en la posición ```0``` de dicho archivo. En caso de que el archivo no exista se desencadenará un error de tipo ```FileNotFoundError```.\n",
    "* El caracter ```'w'``` indica que se creará un archivo nuevo para escritura. En caso de que ya exista ese archivo éste será reemplazado.\n",
    "* El caracter ```'x'``` indica que se creará un archivo nuevo para escritura. En caso de que el archivo exista se emitirá un error de tipo ```FileExistsError```. \n",
    "* El caracter ```'a'``` indica que se accederá a un archivo para escritura. En caso de existir un archivo el puntero se localizará al final de éste. En caso de no existir, creará al archivo.\n",
    "* Los caracteres ```'r+'``` indican que se accederá a un archivo para realizar operaciones de de escritura y lectura. En caso de que el archivo no exista se desencadenará un error de tipo ```FileNotFoundError```."
   ]
  },
  {
   "cell_type": "markdown",
   "metadata": {},
   "source": [
    "#### Por el tipo de archivo.\n",
    "\n",
    "Los archivos de texto y los archivos binarios representan dos tipos de objeto distintos en Python.\n",
    "\n",
    "* El caracter ```'t'``` indica que se trata de un archivo de texto. Este es el tipo de archivo que se usa por defecto.\n",
    "* El caracter ```'b'``` indica que se trata de un archivo binario. Se creará un objeto específico dependiendo del tipo de acceso.\n",
    "\n"
   ]
  },
  {
   "cell_type": "markdown",
   "metadata": {},
   "source": [
    "**Ejemplos:**\n",
    "\n",
    "* ```'bw'``` indica que se creará o sobreescribirá un archivo binario y se accederá en modo de escritura.\n",
    "\n",
    "* ```'a'``` indica que se accederá a un archivo de texto en modo escritura. Si el archivo existe, el puntero se posicionará al final de dicho archivo. Si el archivo no existe, este será creado.\n",
    "\n",
    "* ```'br+'``` indica que se accederá a un archivo binario en modo escritura/lectura, situándose en la posición ```0``` del archivo.\n",
    "\n",
    "* ```'tr'``` indica que se accederá a un archivo de texto existente en modo de lectura, situándose en la posición ```0``` del archivo."
   ]
  },
  {
   "cell_type": "markdown",
   "metadata": {},
   "source": [
    "### Tipos de objetos creados por ```open()```.\n",
    "\n",
    "La función ```open()``` puede crear objetos que permiten relizar las operaciones de lectura y escritura de archivos.\n",
    "\n",
    "La siguiente tabla describe los tipos de objetos que se crearán depenediendo del tipo de archivo y del tipo de acceso del que se trate.\n",
    "\n",
    "|Tipo de accesso|Texto|Binario|\n",
    "|:----------------:|:-------:|:---------:|\n",
    "|Lectura|```_io.TextIOWrapper```|```_io.BufferedReader``` \n",
    "|Escritura|```_io.TextIOWrapper```|```_io.BufferedWriter```\n",
    "|Escritura/Lectura|```_io.TextIOWrapper```|```_io.BufferedRandom```"
   ]
  },
  {
   "cell_type": "markdown",
   "metadata": {},
   "source": [
    "## Atributos y métodos más utilizados para gestión de archivos comunes para archivos binarios y de texto."
   ]
  },
  {
   "cell_type": "markdown",
   "metadata": {},
   "source": [
    "### El atributo ```mode```.\n",
    "\n",
    "Este atributo regresa un objeto de tipo ```str``` describiendo el modo de acceso al archivo.\n",
    "\n",
    "```\n",
    "<objeto de archivo>.mode\n",
    "```"
   ]
  },
  {
   "cell_type": "markdown",
   "metadata": {},
   "source": [
    "### El atributo ```name```.\n",
    "\n",
    "Este atributo regresa un objeto de tipo ```str``` con la ruta del archivo.\n",
    "\n",
    "```\n",
    "<objeto de archivo>.name\n",
    "```"
   ]
  },
  {
   "cell_type": "markdown",
   "metadata": {},
   "source": [
    "### El método ```close()```.\n",
    "\n",
    "Es imperativo que una vez que se hayan realizado todas las operaciones de entrada y de salida de archivos, este sea cerrado de manera adecuada. En caso de no hacerlo, es altamente probable que el archivo se encuentre en un estado inestable y se corra el riesgo de que la información contenida se corrompa o destruya.\n",
    "\n",
    "```\n",
    "<objeto de archivo>.close()\n",
    "```"
   ]
  },
  {
   "cell_type": "markdown",
   "metadata": {},
   "source": [
    "### El atributo ```closed```.\n",
    "\n",
    "Este atributo regresará un objeto de tipo ```bool```.\n",
    "\n",
    "* Regresará ```True``` indica que la conexión con el archivo está cerrada.\n",
    "* Regresará ```False``` indica que la conexión con el archivo está abierta."
   ]
  },
  {
   "cell_type": "markdown",
   "metadata": {},
   "source": [
    "### El método ```writable()```.\n",
    "\n",
    "Este método valida si el archivo está habilitado para escritura, regresando un objeto de tipo ```bool```. \n",
    "\n",
    "* Regresará ```True``` si el archivo está en modo de escritura.\n",
    "* Regresará ```False``` si el archivo está exclusivamente en modo de lectura.\n",
    "\n",
    "```\n",
    "<objeto de archivo>.writable()\n",
    "```"
   ]
  },
  {
   "cell_type": "markdown",
   "metadata": {},
   "source": [
    "### El método ```readable()```.\n",
    "\n",
    "Este método valida si el archivo está habilitado para escritura, regresando un objeto de tipo ```bool```. \n",
    "\n",
    "* Regresará ```True``` si el archivo está en modo de lectura.\n",
    "* Regresará ```False``` si el archivo está exclusivamente en modo de lectura.\n",
    "\n",
    "```\n",
    "<objeto de archivo>.readable()\n",
    "```"
   ]
  },
  {
   "cell_type": "markdown",
   "metadata": {},
   "source": [
    "### El método ```seekable()```.\n",
    "\n",
    "Este método valida si es posible trasladarse a lo largo del archivo. Devolverá ```True``` si es posible desplazarse dentro del archivo.\n",
    "\n",
    "```\n",
    "<objeto de archivo>.seekable()\n",
    "```"
   ]
  },
  {
   "cell_type": "markdown",
   "metadata": {},
   "source": [
    "### El método ```tell()```.\n",
    "\n",
    "Regresará la posición en la que se encuentra el puntero dentro del archivo.\n",
    "\n",
    "```\n",
    "<objeto de archivo>.tell()\n",
    "```"
   ]
  },
  {
   "cell_type": "markdown",
   "metadata": {
    "collapsed": true
   },
   "source": [
    "### El método ```seek()```.\n",
    "\n",
    "Moverá el puntero a la posición indicada.\n",
    "\n",
    "```\n",
    "<objeto de archivo>.seek(<n>)\n",
    "```\n",
    "\n",
    "Donde:  \n",
    "\n",
    "* ```<n>``` es el índice dentro de un archivo en el que se posicionará el apuntador."
   ]
  },
  {
   "cell_type": "markdown",
   "metadata": {},
   "source": [
    "### El método ```read()```.\n",
    "\n",
    "En caso de que el archivo se encuentre en modo de lectura, este método leerá y regresará el contenido de un archivo en caso de que el archivo se encuentre en modo de lectura.\n",
    "\n",
    "* Si se ingresa un número entero como argumento:\n",
    "    * Leerá el número de posiciones indicadas en el argumento a partir de la posición en la que se encuentre.\n",
    "    * Desplazará el puntero hasta la posición inicada.\n",
    "    * Regresará el contenido leido.\n",
    "\n",
    "* Si no se ingresa un argumento:\n",
    "    * Leerá el archivo completo a partir de la posición en la que se encuentre.\n",
    "    * Desplazará el puntero hasta el final del archivo.\n",
    "    * Regresará el contenido leido.\n",
    "\n",
    "```\n",
    "<objeto de archivo>.read(<n>)\n",
    "```\n",
    "\n",
    "Donde:  \n",
    "\n",
    "* ```<n>``` es el número de posiciones que leerá el método."
   ]
  },
  {
   "cell_type": "markdown",
   "metadata": {},
   "source": [
    "### El método```readline()```.\n",
    "\n",
    "En caso de que el archivo se encuentre en modo de lectura, este método leerá y regresará el contenido que va desde la posición en la que se encuentra el puntero hasta encontrar un retorno de línea ```'\\n'```. Cuando el puntero se encuentre al final del archivo (```EOF```), regresará un objeto de tipo ```str``` o ```bytes``` vacío.\n",
    "\n",
    "```\n",
    "<objeto de archivo>.readline()\n",
    "```"
   ]
  },
  {
   "cell_type": "markdown",
   "metadata": {},
   "source": [
    "### El método ```readlines()```.\n",
    "\n",
    "En caso de que el archivo se encuentre en modo de lectura, este método leerá el contenido que va desde la posición en la que se encuentra el puntero hasta el final del archivo y regresará un objeto de tipo ```tuple``` en el que cada elemento corresponde a un objeto de tipo ```str``` o ```bytes``` conteniendo una línea del archivo.\n",
    "\n",
    "```\n",
    "<objeto de archivo>.readlines()\n",
    "```"
   ]
  },
  {
   "cell_type": "markdown",
   "metadata": {},
   "source": [
    "### El método ```write()```.\n",
    "\n",
    "Este método escribirá en el archivo en caso de que el archivo se encuentre en modo de escritura. \n",
    "\n",
    "```\n",
    "<objeto de archivo>.write(<contenido>)\n",
    "```\n",
    "\n",
    "* El contenido ingresado como argumento se escribirá partir de la posición en la que se encuentre el puntero.\n",
    "* El contenido ingresado como argumento sobreescribirá al texto existente. \n",
    "* Una vez terminada la operación, regresará la nueva posición del puntero.\n"
   ]
  },
  {
   "cell_type": "markdown",
   "metadata": {},
   "source": [
    "\n",
    "### El método ```writelines()```.\n",
    "\n",
    "En caso de que el archivo se encuentre en modo de escritura, este método escribirá desde la posición en la que se encuentre el puntero cada elemento de una colección uno después de otro.\n",
    "\n",
    "```\n",
    "<objeto de archivo>.writelines(<colección>)\n",
    "```\n",
    "\n",
    "Donde:\n",
    "\n",
    "* ```<colección>``` es una colección que contiene objetos de tipo ```str``` o ```bytes```.\n",
    "\n",
    "**Nota:** Este método no añade saltos de línea ```\"\\n\"```."
   ]
  },
  {
   "cell_type": "markdown",
   "metadata": {},
   "source": [
    "**Ejemplos:**"
   ]
  },
  {
   "cell_type": "markdown",
   "metadata": {},
   "source": [
    "* La siguiente celda creará al archivo binario ```prueba.bin``` en el directorio en el que se encuentra esta notebook y lo abrirá en modo de escritura y el objeto resultante será nombrado ```mi_archivo```. "
   ]
  },
  {
   "cell_type": "code",
   "execution_count": null,
   "metadata": {},
   "outputs": [],
   "source": [
    "mi_archivo = open(\"prueba.bin\", \"wb\")"
   ]
  },
  {
   "cell_type": "markdown",
   "metadata": {},
   "source": [
    "* La siguiente celda regresará el tipo de objeto al que pertenece el objeto ```mi_archivo```. El resultado es ```_io.BufferedWriter```."
   ]
  },
  {
   "cell_type": "code",
   "execution_count": null,
   "metadata": {},
   "outputs": [],
   "source": [
    "type(mi_archivo)"
   ]
  },
  {
   "cell_type": "markdown",
   "metadata": {},
   "source": [
    "* La siguiente celda desplegará la posición en la que se encuentra el apuntador. Debido a que el archivo apenas fue creado, regresará  ```0```."
   ]
  },
  {
   "cell_type": "code",
   "execution_count": null,
   "metadata": {},
   "outputs": [],
   "source": [
    "mi_archivo.tell()"
   ]
  },
  {
   "cell_type": "markdown",
   "metadata": {},
   "source": [
    "* Se escribirá en el archivo la cadena de bytes ```b'Hola, mundo.'```. Una vez realizada la operación, el método ```mi_archivo.write()``` regresará la nueva posición del puntero, la cual será ```12```."
   ]
  },
  {
   "cell_type": "code",
   "execution_count": null,
   "metadata": {},
   "outputs": [],
   "source": [
    "mi_archivo.write(b'Hola, mundo.')"
   ]
  },
  {
   "cell_type": "markdown",
   "metadata": {},
   "source": [
    "* La siguiente celda validará si es posible mover el apuntador a lo largo del archivo relacionado al objeto ```mi_archivo```. El resultado será ```True```."
   ]
  },
  {
   "cell_type": "code",
   "execution_count": null,
   "metadata": {},
   "outputs": [],
   "source": [
    "mi_archivo.seekable()"
   ]
  },
  {
   "cell_type": "markdown",
   "metadata": {},
   "source": [
    "* La siguiete celda regresará la posición actual de puntero en el archivo relacionado al objeto ```mi_archivo```. El resultado será ```12```. "
   ]
  },
  {
   "cell_type": "code",
   "execution_count": null,
   "metadata": {},
   "outputs": [],
   "source": [
    "mi_archivo.tell()"
   ]
  },
  {
   "cell_type": "markdown",
   "metadata": {},
   "source": [
    "* La siguiente celda regresará un objeto de tipo ```str``` indicando el modo de acceso usado. El resultado será ```'wb'```"
   ]
  },
  {
   "cell_type": "code",
   "execution_count": null,
   "metadata": {},
   "outputs": [],
   "source": [
    "mi_archivo.mode"
   ]
  },
  {
   "cell_type": "markdown",
   "metadata": {},
   "source": [
    "* La siguiente celda regresará un objeto de tipo ```str``` contendiendo la ruta del archivo. El resultado será ```'prueba.bin'```"
   ]
  },
  {
   "cell_type": "code",
   "execution_count": null,
   "metadata": {},
   "outputs": [],
   "source": [
    "mi_archivo.name"
   ]
  },
  {
   "cell_type": "markdown",
   "metadata": {},
   "source": [
    "* La siguiente celda cerrará la conexión entre el archivo ```prueba.bin``` y el objeto ```mi_archivo```."
   ]
  },
  {
   "cell_type": "code",
   "execution_count": null,
   "metadata": {},
   "outputs": [],
   "source": [
    "mi_archivo.close()"
   ]
  },
  {
   "cell_type": "markdown",
   "metadata": {},
   "source": [
    "* La siguiente celda verfificará si el archivo ligado a ```mi_archivo``` está abierto. El resutado será ```True```."
   ]
  },
  {
   "cell_type": "code",
   "execution_count": null,
   "metadata": {
    "scrolled": false
   },
   "outputs": [],
   "source": [
    "mi_archivo.closed"
   ]
  },
  {
   "cell_type": "markdown",
   "metadata": {},
   "source": [
    "* Las siguientes celdas incluyen comandos del sistema operativo que desplegarán el contenido del archivo ```prueba.bin```."
   ]
  },
  {
   "cell_type": "markdown",
   "metadata": {},
   "source": [
    "* Para plataformas basadas en UNIX."
   ]
  },
  {
   "cell_type": "code",
   "execution_count": null,
   "metadata": {
    "scrolled": false
   },
   "outputs": [],
   "source": [
    "!cat prueba.bin"
   ]
  },
  {
   "cell_type": "markdown",
   "metadata": {},
   "source": [
    "* Para plataformas Windows."
   ]
  },
  {
   "cell_type": "code",
   "execution_count": null,
   "metadata": {
    "scrolled": true
   },
   "outputs": [],
   "source": [
    "!type prueba.bin"
   ]
  },
  {
   "cell_type": "markdown",
   "metadata": {},
   "source": [
    "* La siguiente celda abrirá al archivo ```prueba.bin``` en modo de lectura y crerá al objeto ```lee_archivo```."
   ]
  },
  {
   "cell_type": "code",
   "execution_count": null,
   "metadata": {},
   "outputs": [],
   "source": [
    "lee_archivo = open(\"prueba.bin\", \"br\")"
   ]
  },
  {
   "cell_type": "markdown",
   "metadata": {},
   "source": [
    "* La siguiente celda regresará el tipo de objeto al que pertenece el objeto ```lee_archivo```. El resultado es ```_io.BufferedReader```."
   ]
  },
  {
   "cell_type": "code",
   "execution_count": null,
   "metadata": {},
   "outputs": [],
   "source": [
    "type(lee_archivo)"
   ]
  },
  {
   "cell_type": "markdown",
   "metadata": {},
   "source": [
    "* La siguiente celda regresará la posición del puntero. El resultado es ```0```."
   ]
  },
  {
   "cell_type": "code",
   "execution_count": null,
   "metadata": {
    "scrolled": true
   },
   "outputs": [],
   "source": [
    "lee_archivo.tell()"
   ]
  },
  {
   "cell_type": "markdown",
   "metadata": {},
   "source": [
    "* La siguiente celda moverá el puntero a la posición ```5```."
   ]
  },
  {
   "cell_type": "code",
   "execution_count": null,
   "metadata": {},
   "outputs": [],
   "source": [
    "lee_archivo.seek(5)"
   ]
  },
  {
   "cell_type": "markdown",
   "metadata": {},
   "source": [
    "* La siguiente celda regresará el contenido desde la posición ```5``` hasta el final del archivo . El resultado es ```b' mundo.'```."
   ]
  },
  {
   "cell_type": "code",
   "execution_count": null,
   "metadata": {},
   "outputs": [],
   "source": [
    "lee_archivo.read()"
   ]
  },
  {
   "cell_type": "markdown",
   "metadata": {},
   "source": [
    "* La siguiente celda moverá el puntero a la posición ```0```."
   ]
  },
  {
   "cell_type": "code",
   "execution_count": null,
   "metadata": {},
   "outputs": [],
   "source": [
    "lee_archivo.seek(0)"
   ]
  },
  {
   "cell_type": "markdown",
   "metadata": {},
   "source": [
    "* La siguiente celda regresará 4 bytes del archivo desde la posición ```0```. El resultado es ```b'Hola'```."
   ]
  },
  {
   "cell_type": "code",
   "execution_count": null,
   "metadata": {},
   "outputs": [],
   "source": [
    "lee_archivo.read(4)"
   ]
  },
  {
   "cell_type": "markdown",
   "metadata": {},
   "source": [
    "* La siguiente celda cerrará la conexión entre el archivo ```prueba.bin``` y el objeto ```lee_archivo```."
   ]
  },
  {
   "cell_type": "code",
   "execution_count": null,
   "metadata": {},
   "outputs": [],
   "source": [
    "lee_archivo.close()"
   ]
  },
  {
   "cell_type": "markdown",
   "metadata": {},
   "source": [
    "## La declaración ```with ```.\n",
    "\n",
    "La declaración ```with``` se utiliza con objetos que contienen un método ```close()```, permitiendo ejecutar el bloque de código que contiene, y que una vez ejecutado, ejecutrá el método ```close()``` del objeto.\n",
    "\n",
    "```\n",
    "with open (<ruta>, <modo>) as <nombre>:\n",
    "    ...\n",
    "    ...\n",
    "```\n",
    "\n",
    "Donde:\n",
    "\n",
    "* ```<ruta>``` es un objeto de tipo ```str``` que indica la ruta en la que se encuentra el archivo.\n",
    "* ```<modo>``` es un objeto de tipo ```str``` que indica la forma en la que Python accederá al archivo dado.\n",
    "* ```<nombre>``` es el nombre que se le asignará al objeto generado por ```open()```."
   ]
  },
  {
   "cell_type": "markdown",
   "metadata": {},
   "source": [
    "**Ejemplos:**"
   ]
  },
  {
   "cell_type": "markdown",
   "metadata": {},
   "source": [
    "* La siguiente celda realizará las siguientes acciones: \n",
    "    * Creará un  nuevo archivo de texto con el nombre ```prueba.txt```.\n",
    "    * Al objeto generado por ```open()``` se le asignará el nombre ```archivo```.\n",
    "    * Se escribirán 3 líneas usando el método ```archivo.writelines()``` ingresando ```[\"Hola.\\n\", \"Bienvenido al curso de Python.\\n\", \"Esperamos que sea una agradable experiencia.\\n\"] ``` como argumento.\n",
    "    * Se desplegará la posición del puntero del archivo, correspondiente a ```85```.\n",
    "    * Se desplegará el tipo de dato que es el objeto ```archivo```, correspondiente a ```<class '_io.TextIOWrapper'>```.\n",
    " * Se cerrará el archivo."
   ]
  },
  {
   "cell_type": "code",
   "execution_count": null,
   "metadata": {
    "scrolled": true
   },
   "outputs": [],
   "source": [
    "with open(\"prueba.txt\", \"w\") as archivo:\n",
    "    archivo.writelines([\"Hola.\\n\",\n",
    "                        \"Bienvenido al curso de Python.\\n\", \n",
    "                        \"Esperamos que sea una agradable experiencia.\\n\"])\n",
    "    print(archivo.tell())\n",
    "    print(type(archivo))"
   ]
  },
  {
   "cell_type": "markdown",
   "metadata": {},
   "source": [
    "* Las siguientes celdas incluyen comandos del sistema operativo que desplegarán el contenido del archivo ```prueba.txt```."
   ]
  },
  {
   "cell_type": "markdown",
   "metadata": {},
   "source": [
    "* Para plataformas basadas en UNIX."
   ]
  },
  {
   "cell_type": "code",
   "execution_count": null,
   "metadata": {
    "scrolled": true
   },
   "outputs": [],
   "source": [
    "!cat prueba.txt"
   ]
  },
  {
   "cell_type": "markdown",
   "metadata": {},
   "source": [
    "* Para la plataforma Windows."
   ]
  },
  {
   "cell_type": "code",
   "execution_count": null,
   "metadata": {},
   "outputs": [],
   "source": [
    "!type prueba.txt"
   ]
  },
  {
   "cell_type": "markdown",
   "metadata": {},
   "source": [
    "* La siguiente celda realizará las siguientes acciones: \n",
    "    * Creará un  nuevo archivo de texto con el nombre ```prueba.txt``` en modo de lectura.\n",
    "    * Al objeto generado por ```open()``` se le asignará el nombre ```archivo```.\n",
    "    * Se leerá y desplegará la primera línea de texto, la cual corresponde a ```Hola```.\n",
    "    * Se leerán las siguientes líneas del documento y desplegará ```['Bienvenido al curso de Python.\\n', 'Esperamos que sea una agradable experiencia.\\n']```.\n",
    "    * Se cerrará el archivo."
   ]
  },
  {
   "cell_type": "code",
   "execution_count": null,
   "metadata": {},
   "outputs": [],
   "source": [
    "with open(\"prueba.txt\", \"r\") as archivo:\n",
    "    print(archivo.readline())\n",
    "    print(archivo.readlines())"
   ]
  },
  {
   "cell_type": "markdown",
   "metadata": {},
   "source": [
    "* La siguiente celda realizará las siguientes acciones: \n",
    "    * Creará un  nuevo archivo de texto con el nombre ```prueba.txt``` en modo de lectura.\n",
    "    * Al objeto generado por ```open()``` se le asignará el nombre ```archivo```.\n",
    "    * Se localizará el puntero en la posición ```12``` del archivo.\n",
    "    * Se leerán todas líneas a partir de dicha posición.\n",
    "    * Se desplegará cada línea.\n",
    "    * Se cerrará el archivo."
   ]
  },
  {
   "cell_type": "code",
   "execution_count": null,
   "metadata": {
    "scrolled": true
   },
   "outputs": [],
   "source": [
    "with open(\"prueba.txt\", \"r\") as archivo:\n",
    "    archivo.seek(12)\n",
    "    print(archivo.readlines())\n",
    "    archivo.seek(0)\n",
    "    for linea in archivo.readlines():\n",
    "        print(linea)"
   ]
  },
  {
   "cell_type": "markdown",
   "metadata": {},
   "source": [
    "* La siguiente celda realizará las siguientes acciones: \n",
    "    * Creará un  nuevo archivo de texto con el nombre ```prueba.txt``` en modo de inserción.\n",
    "    * Al objeto generado por ```open()``` se le asignará el nombre ```archivo```.\n",
    "    * Se desplegará la posición del puntero, correspondiente a ```85```.\n",
    "    * Se añadirán 2 líneas de texto ingresando ```(\"\\nNueva linea.\\nAqui \\ty alla.\"``` como argumento del método ```archivo.write()```.\n",
    "    * Se desplegará la nueva posición del puntero, correspondiente a ```114```.\n",
    "    * Se cerrará el archivo."
   ]
  },
  {
   "cell_type": "code",
   "execution_count": null,
   "metadata": {
    "scrolled": true
   },
   "outputs": [],
   "source": [
    "with open(\"prueba.txt\", \"a\") as archivo:\n",
    "    print(archivo.tell())\n",
    "    archivo.write(\"\\nNueva linea.\\nAqui \\ty alla.\")\n",
    "    print(archivo.tell())"
   ]
  },
  {
   "cell_type": "markdown",
   "metadata": {},
   "source": [
    "* Las siguientes celdas incluyen comandos del sistema operativo que desplegarán el contenido del archivo ```prueba.txt```."
   ]
  },
  {
   "cell_type": "markdown",
   "metadata": {},
   "source": [
    "* Para plataformas basadas en UNIX."
   ]
  },
  {
   "cell_type": "code",
   "execution_count": null,
   "metadata": {},
   "outputs": [],
   "source": [
    "!cat prueba.txt"
   ]
  },
  {
   "cell_type": "markdown",
   "metadata": {},
   "source": [
    "* Para plataformas Windows."
   ]
  },
  {
   "cell_type": "code",
   "execution_count": null,
   "metadata": {},
   "outputs": [],
   "source": [
    "!type prueba.txt"
   ]
  },
  {
   "cell_type": "markdown",
   "metadata": {},
   "source": [
    "* La siguiente celda realizará las siguientes acciones: \n",
    "    * Creará un  nuevo archivo de texto con el nombre ```prueba.txt``` en modo de escritura/lectura.\n",
    "    * Al objeto generado por ```open()``` se le asignará el nombre ```archivo```.\n",
    "    * Se sobreescribirá el texto inicial ingresando ```\"HOLA\"``` como argumento del método ```archivo.write()```.\n",
    "    * Se posicionará al puntero al inicio del archivo.\n",
    "    * Se desplegará todo texto.\n",
    "    * Se cerrará el archivo."
   ]
  },
  {
   "cell_type": "code",
   "execution_count": null,
   "metadata": {},
   "outputs": [],
   "source": [
    "with open(\"prueba.txt\", \"r+\") as archivo:\n",
    "    archivo.write(\"HOLA\")\n",
    "    archivo.seek(0)\n",
    "    print(archivo.read())"
   ]
  },
  {
   "cell_type": "markdown",
   "metadata": {},
   "source": [
    "## Iteraciones con archivos de texto.\n",
    "\n",
    "Cuando se utiliza un objeto de tipo archivo de texto en modo de lectura dentro de una estructura ```for``` ... ```in```, el comportamiento será idéntico a usar el método  ```readlines()```."
   ]
  },
  {
   "cell_type": "markdown",
   "metadata": {},
   "source": [
    "**Ejemplo:**"
   ]
  },
  {
   "cell_type": "markdown",
   "metadata": {},
   "source": [
    "* Las siguiente celdas realizará las siguientes acciones de forma idéntica: \n",
    "    * Creará un  nuevo archivo de texto con el nombre ```prueba.txt``` en modo de escritura/lectura.\n",
    "    * Al objeto generado por ```open()``` se le asignará el nombre ```archivo```.\n",
    "    * Se desplegará cada línea del archivo.\n",
    "    * Se cerrará el archivo."
   ]
  },
  {
   "cell_type": "code",
   "execution_count": null,
   "metadata": {},
   "outputs": [],
   "source": [
    "with open(\"prueba.txt\", \"r\") as archivo:\n",
    "    for linea in archivo:\n",
    "        print(linea)"
   ]
  },
  {
   "cell_type": "code",
   "execution_count": null,
   "metadata": {},
   "outputs": [],
   "source": [
    "with open(\"prueba.txt\", \"r\") as archivo:\n",
    "    for linea in archivo.readlines():\n",
    "        print(linea)"
   ]
  },
  {
   "cell_type": "markdown",
   "metadata": {},
   "source": [
    "<p style=\"text-align: center\"><a rel=\"license\" href=\"http://creativecommons.org/licenses/by/4.0/\"><img alt=\"Licencia Creative Commons\" style=\"border-width:0\" src=\"https://i.creativecommons.org/l/by/4.0/80x15.png\" /></a><br />Esta obra está bajo una <a rel=\"license\" href=\"http://creativecommons.org/licenses/by/4.0/\">Licencia Creative Commons Atribución 4.0 Internacional</a>.</p>\n",
    "<p style=\"text-align: center\">&copy; José Luis Chiquete Valdivieso. 2020.</p>"
   ]
  }
 ],
 "metadata": {
  "kernelspec": {
   "display_name": "Python 3",
   "language": "python",
   "name": "python3"
  },
  "language_info": {
   "codemirror_mode": {
    "name": "ipython",
    "version": 3
   },
   "file_extension": ".py",
   "mimetype": "text/x-python",
   "name": "python",
   "nbconvert_exporter": "python",
   "pygments_lexer": "ipython3",
   "version": "3.8.5"
  }
 },
 "nbformat": 4,
 "nbformat_minor": 1
}
