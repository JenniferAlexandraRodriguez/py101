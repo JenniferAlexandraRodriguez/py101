{
 "cells": [
  {
   "cell_type": "markdown",
   "metadata": {},
   "source": [
    "[![imagenes](imagenes/pythonista.png)](https://pythonista.io)"
   ]
  },
  {
   "cell_type": "markdown",
   "metadata": {
    "collapsed": true
   },
   "source": [
    "# f-strings."
   ]
  },
  {
   "cell_type": "markdown",
   "metadata": {},
   "source": [
    "Como se ha visto en capítulos anteriores, es posible formatear cadenas de caracteres utilizando la sintaxis del caracter de escape ```%``` y el método ```str.format()```.\n",
    "\n",
    "Ambas técnicas sustituyen dentro de un texto el resultado de las expresiones que se ingresan ya sea como una tupla en el caso del caracter de escape ```%``` o como argumentos del método ```str.format())```."
   ]
  },
  {
   "cell_type": "markdown",
   "metadata": {},
   "source": [
    "**Ejemplos:**"
   ]
  },
  {
   "cell_type": "code",
   "execution_count": null,
   "metadata": {},
   "outputs": [],
   "source": [
    "radio = 12\n",
    "pi = 3.14"
   ]
  },
  {
   "cell_type": "code",
   "execution_count": null,
   "metadata": {},
   "outputs": [],
   "source": [
    "'La superficie de una circunferencia de radio %f es de %f' %(radio, pi * radio **2)"
   ]
  },
  {
   "cell_type": "code",
   "execution_count": null,
   "metadata": {},
   "outputs": [],
   "source": [
    "'La superficie de una circunferencia de radio %d es de %f' %(radio, pi * radio **2)"
   ]
  },
  {
   "cell_type": "code",
   "execution_count": null,
   "metadata": {
    "scrolled": true
   },
   "outputs": [],
   "source": [
    "'La superficie de una circunferencia de radio {} es de {}'.format(radio, pi * radio ** 2)"
   ]
  },
  {
   "cell_type": "markdown",
   "metadata": {},
   "source": [
    "## Las *f-tstrings*."
   ]
  },
  {
   "cell_type": "markdown",
   "metadata": {},
   "source": [
    "La [*PEP-498*](https://peps.python.org/pep-0498/) define el uso de cadenas de caracteres especiales, conocidas como *f-strings*, las cuales permiten sustituir expresiones directamente en un texto. La representaciópn de cada expresión debe de estar delimitada por llaves ```{``` ```}```.\n",
    "\n",
    "\n",
    "```\n",
    "f'...{<exp 1>}...{<exp 2>}...{<exp n>}... \"\n",
    "```\n",
    "\n",
    "```\n",
    "f\"...{<exp 1>}...{<exp 2>}...{<exp n>}..\"\n",
    "```\n",
    "\n",
    "Donde:\n",
    "\n",
    "* ```<exp x>``` es la representación de una expresión de *Python*. "
   ]
  },
  {
   "cell_type": "markdown",
   "metadata": {},
   "source": [
    "**Ejemplos:**"
   ]
  },
  {
   "cell_type": "code",
   "execution_count": null,
   "metadata": {},
   "outputs": [],
   "source": [
    "mi_nombre = \"Juan\""
   ]
  },
  {
   "cell_type": "code",
   "execution_count": null,
   "metadata": {},
   "outputs": [],
   "source": [
    "f'Hola. Mi nombre es {mi_nombre}.'"
   ]
  },
  {
   "cell_type": "code",
   "execution_count": null,
   "metadata": {},
   "outputs": [],
   "source": [
    "f'Mi dirección decorreo electrónico es {e_mail}.'"
   ]
  },
  {
   "cell_type": "code",
   "execution_count": null,
   "metadata": {},
   "outputs": [],
   "source": [
    "radio = 12\n",
    "pi = 3.14"
   ]
  },
  {
   "cell_type": "code",
   "execution_count": null,
   "metadata": {},
   "outputs": [],
   "source": [
    "f'La superficie de una circunferencia de radio {radio} es de {pi * radio ** 2}'"
   ]
  },
  {
   "cell_type": "markdown",
   "metadata": {},
   "source": [
    "<p style=\"text-align: center\"><a rel=\"license\" href=\"http://creativecommons.org/licenses/by/4.0/\"><img alt=\"Licencia Creative Commons\" style=\"border-width:0\" src=\"https://i.creativecommons.org/l/by/4.0/80x15.png\" /></a><br />Esta obra está bajo una <a rel=\"license\" href=\"http://creativecommons.org/licenses/by/4.0/\">Licencia Creative Commons Atribución 4.0 Internacional</a>.</p>\n",
    "<p style=\"text-align: center\">&copy; José Luis Chiquete Valdivieso. 2022.</p>"
   ]
  }
 ],
 "metadata": {
  "kernelspec": {
   "display_name": "Python 3 (ipykernel)",
   "language": "python",
   "name": "python3"
  },
  "language_info": {
   "codemirror_mode": {
    "name": "ipython",
    "version": 3
   },
   "file_extension": ".py",
   "mimetype": "text/x-python",
   "name": "python",
   "nbconvert_exporter": "python",
   "pygments_lexer": "ipython3",
   "version": "3.9.2"
  }
 },
 "nbformat": 4,
 "nbformat_minor": 1
}
