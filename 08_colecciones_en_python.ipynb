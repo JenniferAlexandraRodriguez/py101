{
 "cells": [
  {
   "cell_type": "markdown",
   "metadata": {},
   "source": [
    "[![pythonista.io](imagenes/pythonista.png)](https://www.pythonista.io)"
   ]
  },
  {
   "cell_type": "markdown",
   "metadata": {},
   "source": [
    "# Colecciones en Python 3."
   ]
  },
  {
   "cell_type": "markdown",
   "metadata": {},
   "source": [
    "Las colecciones son tipos cuyos objetos son capaces de contener a otros objetos.\n",
    "\n",
    "Python 3 cuenta con los siguientes tipos de colecciones.\n",
    "\n",
    "* ```str```.\n",
    "* ```bytes```.\n",
    "* ```bytearray```.\n",
    "* ```list```.\n",
    "* ```tuple```.\n",
    "* ```dict```.\n",
    "* ```set```.\n",
    "* ```frozenset```."
   ]
  },
  {
   "cell_type": "markdown",
   "metadata": {},
   "source": [
    "**NOTA:** En este capítulo sólo se describirán los tipos enumerados previamente, pero cada uno de estos tipos será estudiado a fondo en capítulos posteriores."
   ]
  },
  {
   "cell_type": "markdown",
   "metadata": {},
   "source": [
    "## Cadenas de caracteres.\n",
    "\n",
    "Las cadenas de caracteres son colecciones ordenadas e indexables numéricamente de caracteres. "
   ]
  },
  {
   "cell_type": "markdown",
   "metadata": {},
   "source": [
    "### El tipo ``` str```.\n",
    "\n",
    "El tipo más común de cadenas de caracteres en Python 3 es ```str```.\n",
    "\n",
    "\n",
    "Los objetos de tipo ```str``` son colecciones ordenadas, inmutables  e indexables numéricamente de caracteres [*UTF-8*](https://es.wikipedia.org/wiki/UTF-8). \n",
    "\n",
    "Los objetos ```str``` se definen encerrando el texto entre comillas   ```\"``` o apóstrofes ```'```. \n",
    "\n",
    "Cualquiera de las siguientes sintaxis es válida:\n",
    "\n",
    "```\n",
    "\"<texto>\"\n",
    "'<texto>'\n",
    "```\n",
    "\n",
    "Donde:\n",
    "\n",
    "* ```<texto>``` es una sucesión de caracteres."
   ]
  },
  {
   "cell_type": "markdown",
   "metadata": {},
   "source": [
    "**Ejemplos:**"
   ]
  },
  {
   "cell_type": "code",
   "execution_count": null,
   "metadata": {},
   "outputs": [],
   "source": [
    "'Hola Mundo'"
   ]
  },
  {
   "cell_type": "code",
   "execution_count": null,
   "metadata": {},
   "outputs": [],
   "source": [
    "\"Vamos al McDonald's\""
   ]
  },
  {
   "cell_type": "code",
   "execution_count": null,
   "metadata": {},
   "outputs": [],
   "source": [
    "'Kurt Friedrich Gödel'"
   ]
  },
  {
   "cell_type": "markdown",
   "metadata": {},
   "source": [
    "* La siguiente celda, definirá a un objeto ```str``` vacío."
   ]
  },
  {
   "cell_type": "code",
   "execution_count": null,
   "metadata": {},
   "outputs": [],
   "source": [
    "''"
   ]
  },
  {
   "cell_type": "markdown",
   "metadata": {},
   "source": [
    "### El tipo ```bytes```.\n",
    "\n",
    "Los objetos de tipo ```bytes``` son colecciones ordenadas, inmutables  e indexables numéricamente de caracteres [*ASCII*](http://www.asciitable.com/), que corresponden a un valor numérico que va de ```0``` a ```255```. \n",
    "\n",
    "El contenido de este tipo de caracteres se encierra entre apóstrofes y comillas, pero se antecede una letra ```b``` al principio del objeto.\n",
    "\n",
    "\n",
    "Cualquiera de las siguientes sintaxis es válida:\n",
    "\n",
    "```\n",
    "b\"<texto>\"\n",
    "b'<texto>'\n",
    "```\n",
    "\n",
    "Donde:\n",
    "\n",
    "* ```<texto>``` es una sucesión de caracteres *ASCII*."
   ]
  },
  {
   "cell_type": "markdown",
   "metadata": {},
   "source": [
    "**Ejemplos:**"
   ]
  },
  {
   "cell_type": "markdown",
   "metadata": {},
   "source": [
    "* Las siguiente celdas son ejemplos correctos de objetos tipo ```bytes```."
   ]
  },
  {
   "cell_type": "code",
   "execution_count": null,
   "metadata": {},
   "outputs": [],
   "source": [
    "b'Hola'"
   ]
  },
  {
   "cell_type": "markdown",
   "metadata": {},
   "source": [
    "* La siguiente celda, definirá a un objeto ```bytes``` vacío."
   ]
  },
  {
   "cell_type": "code",
   "execution_count": null,
   "metadata": {},
   "outputs": [],
   "source": [
    "b''"
   ]
  },
  {
   "cell_type": "markdown",
   "metadata": {},
   "source": [
    "* La siguiente celda define a un objeto tipo ```bytes``` que incluye un caracter inexistente en la tabla del código *ASCII* , lo cual desencadenará un error de tipo ```SyntaxError```."
   ]
  },
  {
   "cell_type": "code",
   "execution_count": null,
   "metadata": {
    "scrolled": false
   },
   "outputs": [],
   "source": [
    "b'Kurt Friedrich Gödel'"
   ]
  },
  {
   "cell_type": "markdown",
   "metadata": {},
   "source": [
    "### El tipo ```bytearray```.\n",
    "\n",
    "Los objetos de tipo ```bytearray``` son colecciones ordenadas, mutables e indexables numéricamente de caracteres *ASCII*, los cuales son creado a partir de un objeto de tipo ```bytes``` mendiante la función ```bytearray()``` usando la siguiente sintaxis:\n",
    "\n",
    "```\n",
    "bytearray(<objeto bytes>)\n",
    "```\n",
    "\n",
    "Donde:\n",
    "\n",
    "* ```<objeto bytes>``` es un objeto de tipo ```bytes```.\n",
    "\n",
    "O también.\n",
    "\n",
    "```\n",
    "bytearray(<objeto tipo str>, encoding=\"<codificación>\")\n",
    "```\n",
    "\n",
    "Donde:\n",
    "\n",
    "* ```<objeto str>``` es un objeto de tipo ```str```.\n",
    "* ```<codificación>```es alguna de las codificaciones enlistadas en: https://docs.python.org/3/library/codecs.html#standard-encodings. \n"
   ]
  },
  {
   "cell_type": "markdown",
   "metadata": {},
   "source": [
    "**Ejemplos:**"
   ]
  },
  {
   "cell_type": "markdown",
   "metadata": {},
   "source": [
    "* La siguiente celda creará un objeto de tipo ```bytearray``` a partir del objeto ```\"Hola\"``` utilizando la codificación ```\"utf-8\"```."
   ]
  },
  {
   "cell_type": "code",
   "execution_count": null,
   "metadata": {},
   "outputs": [],
   "source": [
    "bytearray(\"Hola\", encoding=\"utf-8\")"
   ]
  },
  {
   "cell_type": "markdown",
   "metadata": {},
   "source": [
    "* La siguiente celda creará un objeto de tipo ```bytearray``` a partir del objeto ```b'hola'```."
   ]
  },
  {
   "cell_type": "code",
   "execution_count": null,
   "metadata": {},
   "outputs": [],
   "source": [
    "bytearray(b'hola')"
   ]
  },
  {
   "cell_type": "markdown",
   "metadata": {},
   "source": [
    "## El tipo ```list```.\n",
    "\n",
    "Los objetos tipo ```list``` son colecciones ordenadas de objetos, los cuales son indexables numéricamente y son mutables.\n",
    "\n",
    "Se definen encerrando entre corchetes ```[``` ```]``` una sucesión de objetos separados por comas ```,```.\n",
    "\n",
    "La sintaxis es la siguiente:\n",
    "\n",
    "```\n",
    "[<objeto 1>, <objeto 2>, ..., <objeto n>] \n",
    "```\n",
    "\n",
    "Donde:\n",
    "\n",
    "* ```<objeto i>``` es cualquier tipo de objeto de Python.\n",
    "\n",
    "**Nota:** No es necesario que los elementos contenidos sean del mismo tipo."
   ]
  },
  {
   "cell_type": "markdown",
   "metadata": {},
   "source": [
    "**Ejemplos:**"
   ]
  },
  {
   "cell_type": "markdown",
   "metadata": {},
   "source": [
    "* Las siguientes celdas definen objetos tipo ```list``` válidos."
   ]
  },
  {
   "cell_type": "code",
   "execution_count": null,
   "metadata": {},
   "outputs": [],
   "source": [
    "[1, 2, \"tres\", True, None]"
   ]
  },
  {
   "cell_type": "code",
   "execution_count": null,
   "metadata": {},
   "outputs": [],
   "source": [
    "[None]"
   ]
  },
  {
   "cell_type": "markdown",
   "metadata": {},
   "source": [
    "* La siguiente celda define a un objetos tipo ```list``` que a su vez contiene a otro objeto de tipo ```list```."
   ]
  },
  {
   "cell_type": "code",
   "execution_count": null,
   "metadata": {},
   "outputs": [],
   "source": [
    "[False, ['auto', 30, 'gasolina'], 73.12]"
   ]
  },
  {
   "cell_type": "markdown",
   "metadata": {},
   "source": [
    "* La siguiente celda define a un objeto tipo ```list``` vacío."
   ]
  },
  {
   "cell_type": "code",
   "execution_count": null,
   "metadata": {},
   "outputs": [],
   "source": [
    "[]"
   ]
  },
  {
   "cell_type": "markdown",
   "metadata": {},
   "source": [
    "## El tipo ```tuple```.\n",
    "\n",
    "Los objetos tipo ```tuple``` son colecciones ordenadas de objetos, los cuales son indexables numéricamente e inmutables.\n",
    "\n",
    "Se definen encerrando entre paréntesis ```(``` ```)``` una sucesión de objetos separados por comas ```,```.\n",
    "\n",
    "La sintaxis es la siguiente:\n",
    "\n",
    "```\n",
    "(<objeto 1>, <objeto 2>, ..., <objeto n>) \n",
    "```\n",
    "\n",
    "Donde:\n",
    "\n",
    "* ```<objeto i>``` es cualquier tipo de objeto de Python.\n",
    "\n",
    "**Nota:** No es necesario que los elementos contenidos sean del mismo tipo."
   ]
  },
  {
   "cell_type": "markdown",
   "metadata": {},
   "source": [
    "**Ejemplos:**"
   ]
  },
  {
   "cell_type": "markdown",
   "metadata": {},
   "source": [
    "* Las siguientes celdas también definen objetos tipo ```tuple``` válidos."
   ]
  },
  {
   "cell_type": "code",
   "execution_count": null,
   "metadata": {},
   "outputs": [],
   "source": [
    "(1, 2, \"tres\", True, None)"
   ]
  },
  {
   "cell_type": "markdown",
   "metadata": {},
   "source": [
    "* La siguiente celda define a un objeto de tipo ```tuple``` que a su vez contiene a otro objeto de tipo ```list```."
   ]
  },
  {
   "cell_type": "code",
   "execution_count": null,
   "metadata": {},
   "outputs": [],
   "source": [
    "(False, ['auto', 30, 'gasolina'], 73.12)"
   ]
  },
  {
   "cell_type": "markdown",
   "metadata": {},
   "source": [
    "* La siguiente celda define a un objeto tipo ```tuple``` vacío."
   ]
  },
  {
   "cell_type": "code",
   "execution_count": null,
   "metadata": {},
   "outputs": [],
   "source": [
    "()"
   ]
  },
  {
   "cell_type": "markdown",
   "metadata": {},
   "source": [
    "* Un objeto de tipo ```tuple``` que solo contiene un elemento ```None``` se convierte en ```None```."
   ]
  },
  {
   "cell_type": "code",
   "execution_count": null,
   "metadata": {},
   "outputs": [],
   "source": [
    "(None)"
   ]
  },
  {
   "cell_type": "markdown",
   "metadata": {},
   "source": [
    "* Para crear un objeto ```tuple``` que contenga un elemento ```None```, se debe de poner una coma ```,``` al final. "
   ]
  },
  {
   "cell_type": "code",
   "execution_count": null,
   "metadata": {},
   "outputs": [],
   "source": [
    "(None,)"
   ]
  },
  {
   "cell_type": "markdown",
   "metadata": {},
   "source": [
    "## El tipo ```dict```.\n",
    "\n",
    "El tipo ```dict``` es una colección mutable de pares ```<clave>:<valor>```, el cual es indexable mediante la clave de cada elemento.\n",
    "    \n",
    "Los pares están separados por comas ```,``` y delimitados por llaves ```{``` ```}```.\n",
    "\n",
    "La sintaxis para definir un objeto tipo ```dict``` es: \n",
    "\n",
    "```\n",
    "{<clave 1>:<objeto 1>, <clave 2>:<objeto 2>, ... , <clave n>:<objeto n>} \n",
    "```\n",
    "Donde:\n",
    "\n",
    "* ```<clave i>``` corresponde un objeto inmutable y único dentro del objeto tipo ```dict```. \n",
    "* ```<objeto i>``` corresponde a un objeto de cualquier tipo y puede repetirse dentro del objeto de tipo ```dict```.\n",
    "\n",
    "En caso de que se definan dos pares con la misma clave, se utilizará el último.\n",
    "\n",
    "**Nota:** A partir de Python 3.7, los objetos de tipo ```dict``` respetan el orden en el que los elementos son ingresados, aun cuando no son indexables numéricamente. Las versiones previas de Python no necesariamente lo respetan."
   ]
  },
  {
   "cell_type": "markdown",
   "metadata": {},
   "source": [
    "**Ejemplos:**"
   ]
  },
  {
   "cell_type": "markdown",
   "metadata": {},
   "source": [
    "* Las siguientes celdas definen objetos tipo ```dict``` válidos."
   ]
  },
  {
   "cell_type": "code",
   "execution_count": null,
   "metadata": {},
   "outputs": [],
   "source": [
    "{'nulo':None, True:'V', 2:[1, 2, 3], '2':False, ('x', 'y'): 15.3}"
   ]
  },
  {
   "cell_type": "code",
   "execution_count": null,
   "metadata": {},
   "outputs": [],
   "source": [
    "{'nombre':'Juan', 'apellido': 'Pérez', 'promedio':7.5}"
   ]
  },
  {
   "cell_type": "markdown",
   "metadata": {},
   "source": [
    "* La siguiente celda define un objeto tipo ```dict``` vacio."
   ]
  },
  {
   "cell_type": "code",
   "execution_count": null,
   "metadata": {},
   "outputs": [],
   "source": [
    "{}"
   ]
  },
  {
   "cell_type": "markdown",
   "metadata": {},
   "source": [
    "* La siguiente celda definen un objeto tipo ```dict``` que repite un par con la clave ```nombre```. El último par es el que será conservado."
   ]
  },
  {
   "cell_type": "code",
   "execution_count": null,
   "metadata": {},
   "outputs": [],
   "source": [
    "{'nombre':'Juan', 'apellido': 'Pérez', 'promedio':7.5, 'nombre':'Laura'}"
   ]
  },
  {
   "cell_type": "markdown",
   "metadata": {},
   "source": [
    "* La siguiente celda define a un objeto tipo ```dict``` ingresando como identificador al objeto ```[True, 1]``` de tipo ```list```, el cual es mutable, lo cual desencadenará un error de tipo ```TypeError```."
   ]
  },
  {
   "cell_type": "code",
   "execution_count": null,
   "metadata": {
    "scrolled": true
   },
   "outputs": [],
   "source": [
    "{'nombre':'Juan', 'apellido': 'Pérez', [True, 1]:7.5}"
   ]
  },
  {
   "cell_type": "markdown",
   "metadata": {},
   "source": [
    "## El tipo ```set```.\n",
    "\n",
    "Los objetos de tipo ```set``` son colecciones de objetos capaces de realizar operaciones de conjuntos. \n",
    "\n",
    "Aún cuando los objetos ```set``` son mutables, los elementos contenidos en ellos son únicos e inmutables. \n",
    "\n",
    "Los objetos de tipo ```set``` se definen encerrando entre llaves ```{``` ```}``` una sucesión de objetos separados por comas ```,```.\n",
    "\n",
    "La sintaxis es la siguiente:\n",
    "\n",
    "```\n",
    "{<objeto 1>,<objeto 2>, ..., <objeto n>} \n",
    "```\n",
    "\n",
    "Donde:\n",
    "\n",
    "* ```<objeto i>``` corresponde un objeto inmutable y único dentro del objeto tipo ```dict```. En caso de que se definan varios elementos del mismo valor, sólo se conservará uno.\n",
    "\n",
    "**Nota:** Los objetos de tipo ```set``` no respetan necsariamente el orden en el que los elementos son ingresado."
   ]
  },
  {
   "cell_type": "markdown",
   "metadata": {},
   "source": [
    "**Ejemplos:**"
   ]
  },
  {
   "cell_type": "markdown",
   "metadata": {},
   "source": [
    "* Las siguientes celdas definen objetos tipo ```set``` válidos."
   ]
  },
  {
   "cell_type": "code",
   "execution_count": null,
   "metadata": {},
   "outputs": [],
   "source": [
    "{False, ('auto', 30, 'gasolina'), 73.12}"
   ]
  },
  {
   "cell_type": "markdown",
   "metadata": {},
   "source": [
    "* La siguiente celda define un objeto de tipo ```set``` que incluye a varios elementos de valor numérico equivalente a ```3``` aún cuando no son del mismo tipo y también se incluye el objeto ```'3'```, el cual no es un valor numérico, sino un caracter."
   ]
  },
  {
   "cell_type": "code",
   "execution_count": null,
   "metadata": {},
   "outputs": [],
   "source": [
    "{3, 2, True, None, 0, False, 3.0, 5, 3., '3', 'Hola', 3, 3, 1}"
   ]
  },
  {
   "cell_type": "markdown",
   "metadata": {},
   "source": [
    "* En la siguiente celda se define un objeto de tipo ```set``` en donde ```1``` y  ```True``` tienen el mismo valor aunque no son del mismo tipo. En este caso, se desecha uno de estos objetos."
   ]
  },
  {
   "cell_type": "code",
   "execution_count": null,
   "metadata": {
    "scrolled": true
   },
   "outputs": [],
   "source": [
    "{1, 2, \"tres\", True, None}"
   ]
  },
  {
   "cell_type": "markdown",
   "metadata": {},
   "source": [
    "* La siguiente celda define a un objeto de tipo ```set``` que incluye al objeto ```['auto', 30, 'gasolina']``` de tipo ```list```, el cual es mutable, lo cual desencadenará un error de tipo ```TypeError```."
   ]
  },
  {
   "cell_type": "code",
   "execution_count": null,
   "metadata": {},
   "outputs": [],
   "source": [
    "{False, ['auto', 30, 'gasolina'], 73.12}"
   ]
  },
  {
   "cell_type": "markdown",
   "metadata": {},
   "source": [
    "* La siguiente celda define a un objeto de tipo ```set``` que incluye a un objeto de tipo ```dict```, el cual es mutable, lo cual desencadenará un error de tipo ```TypeError```."
   ]
  },
  {
   "cell_type": "code",
   "execution_count": null,
   "metadata": {},
   "outputs": [],
   "source": [
    "{None, {'uno':1, 'dos': 2}}"
   ]
  },
  {
   "cell_type": "markdown",
   "metadata": {},
   "source": [
    "## El tipo ```frozenset```.\n",
    "\n",
    "Los objetos de tipo ```frozenset``` son conjuntos inmutables de objetos únicos.  \n",
    "\n",
    "Este tipo de objetos sólo puede contener objetos inmutables.\n",
    "\n",
    "Se definen utilizando la función  ```frozenset()``` e ingresando una colección como argumento.\n",
    "\n",
    "La sintaxis es la siguiente:\n",
    "\n",
    "```\n",
    "frozenset(<colección>) \n",
    "```\n",
    "\n",
    "Donde:\n",
    "\n",
    "* ```colección> ``` es una colección que contiene objetos inmutables.\n",
    "\n",
    "La función ```frozenset()``` puede aceptar los siguientes tipos de objetos, siempre y cuando contengan exclusivamente objetos inmutables.\n",
    "* ```set```.\n",
    "* ```list```.\n",
    "* ```tuple```.\n",
    "* En el caso de los objetos de  ```dict```, se toma exclusivamente a las claves para formar el objeto.\n",
    "* En el caso de los objetos de tipo ```str``` y ```bytes```, cada caracter de la cadena se vuelve un elemento separado.\n",
    "    \n",
    "**NOTA:** Los objetos de tipo ```frozenset``` no necesariamente respetan el orden en el que los elementos son ingresados."
   ]
  },
  {
   "cell_type": "markdown",
   "metadata": {},
   "source": [
    "**Ejemplos:**"
   ]
  },
  {
   "cell_type": "markdown",
   "metadata": {},
   "source": [
    "* La siguiente celda separará cada caracter del objeto  ```'Caracoles'``` y creará un conjunto de caracteres únicos. "
   ]
  },
  {
   "cell_type": "code",
   "execution_count": null,
   "metadata": {},
   "outputs": [],
   "source": [
    "frozenset('Caracoles')"
   ]
  },
  {
   "cell_type": "markdown",
   "metadata": {},
   "source": [
    "* La siguiente celda separará cada caracter del objeto  ```b'Caracoles'``` y creará un conjunto de valores enteros únicos. Cada valor corresponde a la posición de cada caracter en el código *ASCII*."
   ]
  },
  {
   "cell_type": "code",
   "execution_count": null,
   "metadata": {},
   "outputs": [],
   "source": [
    "frozenset(b'Caracoles')"
   ]
  },
  {
   "cell_type": "markdown",
   "metadata": {},
   "source": [
    "* La siguiente celda creará un objeto ```frozenset``` a partir de un objeto de tipo ```list```."
   ]
  },
  {
   "cell_type": "code",
   "execution_count": null,
   "metadata": {},
   "outputs": [],
   "source": [
    "frozenset([1, 2, 3])"
   ]
  },
  {
   "cell_type": "markdown",
   "metadata": {},
   "source": [
    "* La siguiente celda creará un objeto ```frozenset``` a partir de un objeto de tipo ```tuple```."
   ]
  },
  {
   "cell_type": "code",
   "execution_count": null,
   "metadata": {},
   "outputs": [],
   "source": [
    "frozenset((1, 2, 3))"
   ]
  },
  {
   "cell_type": "markdown",
   "metadata": {},
   "source": [
    "* La siguiente celda creará un objeto ```frozenset``` a partir de un objeto de tipo ```set```."
   ]
  },
  {
   "cell_type": "code",
   "execution_count": null,
   "metadata": {},
   "outputs": [],
   "source": [
    "frozenset({1, 2, 3})"
   ]
  },
  {
   "cell_type": "markdown",
   "metadata": {},
   "source": [
    "* La siguiente celda creará un objeto ```frozenset``` a partir de un objeto de tipo ```dict```. En este caso las claves serán las que conformen el nuevo objeto."
   ]
  },
  {
   "cell_type": "code",
   "execution_count": null,
   "metadata": {},
   "outputs": [],
   "source": [
    "frozenset({'nombre': 'Juan', 'apellido': 'Pérez'})"
   ]
  },
  {
   "cell_type": "markdown",
   "metadata": {},
   "source": [
    "* La siguiente celda define un objeto de tipo ```frozenset``` vacío."
   ]
  },
  {
   "cell_type": "code",
   "execution_count": null,
   "metadata": {},
   "outputs": [],
   "source": [
    "frozenset({})"
   ]
  },
  {
   "cell_type": "markdown",
   "metadata": {},
   "source": [
    "* La siguiente celda contiene al elemento ```['auto', 30, 'gasolina']``` de tipo ```list``` el cual es mutable, lo cual desencadenará un error de tipo ```TypeError```."
   ]
  },
  {
   "cell_type": "code",
   "execution_count": null,
   "metadata": {
    "scrolled": true
   },
   "outputs": [],
   "source": [
    "frozenset((False, ['auto', 30, 'gasolina'], 73.12))"
   ]
  },
  {
   "cell_type": "markdown",
   "metadata": {},
   "source": [
    "* La siguiente celda no contiene a una colección sino a una secuencia de elementos, por lo que se desencadenará un error de tipo ```TypeError```."
   ]
  },
  {
   "cell_type": "code",
   "execution_count": null,
   "metadata": {},
   "outputs": [],
   "source": [
    "frozenset(False, 'auto', 30, 'gasolina', 73.12)"
   ]
  },
  {
   "cell_type": "markdown",
   "metadata": {},
   "source": [
    "## Indexado de colecciones.\n",
    "\n",
    "Los siguientes tipos de colecciones permiten identificar a uno o a un rango de elementos mediante un índice.\n",
    "\n",
    "* ```str```.\n",
    "* ```bytes```.\n",
    "* ```bytearray```.\n",
    "* ```list```.\n",
    "* ```tuple```.\n",
    "* ```dict```.\n",
    "\n",
    "Dependiendo del tipo de colección, el índice puede ser un número entero, un rango numérico o una clave. El índice se denota delimitándolo entre corchetes ```[``` ```]``` y colocándolo a la derecha del objeto del cual se extraerá el o los elemento.\n",
    "\n",
    "La sintaxis es la siguiente:\n",
    "\n",
    "```\n",
    "<colección>[<índice>]\n",
    "```\n",
    "\n",
    "Donde:\n",
    "\n",
    "* ```<colección>``` es un objeto indexable.\n",
    "* ```<índice>``` puede ser dependiendo del tipo de colección:\n",
    "   * Para los tipos ```str```, ```bytes```,  ```bytearray```, ```list``` o ```tuple```, un objeto de tipo ```int``` o un rango numérico.\n",
    "   * Para el tipo ```dict```, un objeto inmutable correspondiente a una clave.\n"
   ]
  },
  {
   "cell_type": "markdown",
   "metadata": {},
   "source": [
    "### Indexado numérico.\n",
    "\n",
    "Este tipo de indexado es propio de los tipos:\n",
    "\n",
    "* ```str```.\n",
    "* ```bytes```.\n",
    "* ```bytearray```.\n",
    "* ```list```.\n",
    "* ```tuple```.\n",
    "\n",
    "Los tipos con indexado numérico identifican a cada elemento que contienen mediante un objeto de tipo ```int``` de las siguientes formas:\n",
    "\n",
    "* **Índices positivos**:  En los que el primer elemento del extremo izquierdo tiene el índice ```0```, el elemento a su derecha tiene el índice ```1``` y así sucesivamente en incrementos de uno  en uno hasta llegar al elemento del extremo derecho.\n",
    "* **Índices negativos**: En los que el primer elemento del extremo derecho tiene el índice ``-1``, el elemento a su izquierda tiene el índice ```-2``` y así sucesivamente en decrementos de uno en uno hasta llegar al elemento del extremo izquierdo.\n",
    "\n",
    "Si el índice sobrepasa el tamaño del objeto, se desencadenará un error de tipo ```IndexError```."
   ]
  },
  {
   "cell_type": "markdown",
   "metadata": {},
   "source": [
    "**Ejemplos:**"
   ]
  },
  {
   "cell_type": "markdown",
   "metadata": {},
   "source": [
    "* La siguiente celda obtendrá el caracter ```'l'``` del objeto ```'saludo'```, cuyo índice corresponde al índice ```2```."
   ]
  },
  {
   "cell_type": "code",
   "execution_count": null,
   "metadata": {},
   "outputs": [],
   "source": [
    "'saludo'[2]"
   ]
  },
  {
   "cell_type": "markdown",
   "metadata": {},
   "source": [
    "* La siguiente celda obtendrá el número ```108```, a partir del objeto ```b'saludo'```. Dicho número corresponde al valor del caracter ```l``` en la tabla de código *ASCII*. El índice corresponde al índice ```-4```."
   ]
  },
  {
   "cell_type": "code",
   "execution_count": null,
   "metadata": {},
   "outputs": [],
   "source": [
    "b'saludo'[-4]"
   ]
  },
  {
   "cell_type": "markdown",
   "metadata": {},
   "source": [
    "* La siguiente celda hace referencia al índice ```10```, el cual está fuera de rango, por lo que se desecadenará un error de tipo ```IndexError```."
   ]
  },
  {
   "cell_type": "code",
   "execution_count": null,
   "metadata": {
    "scrolled": true
   },
   "outputs": [],
   "source": [
    "'saludo'[10]"
   ]
  },
  {
   "cell_type": "markdown",
   "metadata": {},
   "source": [
    "* La siguientes celdas ejemplificarán el uso del indexado numérico en objetos tipo ```list``` al que se le asignará el nombre ```lista```."
   ]
  },
  {
   "cell_type": "code",
   "execution_count": null,
   "metadata": {},
   "outputs": [],
   "source": [
    "lista = [1, 2, 3, 4]"
   ]
  },
  {
   "cell_type": "markdown",
   "metadata": {},
   "source": [
    "* La siguiente celda regresará al objeto ```2``` cuyo índice es ```1```. "
   ]
  },
  {
   "cell_type": "code",
   "execution_count": null,
   "metadata": {},
   "outputs": [],
   "source": [
    "lista[1]"
   ]
  },
  {
   "cell_type": "markdown",
   "metadata": {},
   "source": [
    "* La siguiente celda regresará al objeto ```1``` cuyo índice es ```-4```. "
   ]
  },
  {
   "cell_type": "code",
   "execution_count": null,
   "metadata": {},
   "outputs": [],
   "source": [
    "lista[-4]"
   ]
  },
  {
   "cell_type": "markdown",
   "metadata": {},
   "source": [
    "* La siguientes celdas ejemplifican el uso del indexado numérico en objetos tipo ```tuple``` al que se le asignará el nombre ```tupla```."
   ]
  },
  {
   "cell_type": "code",
   "execution_count": null,
   "metadata": {},
   "outputs": [],
   "source": [
    "tupla = (1, [4, True, None, 'Saludo'], 6, 22.5)"
   ]
  },
  {
   "cell_type": "markdown",
   "metadata": {},
   "source": [
    "* La siguientes celda regresará al objeto ```4```, el cual corresponde al índice ```0``` del objeto   ```tupla```."
   ]
  },
  {
   "cell_type": "code",
   "execution_count": null,
   "metadata": {},
   "outputs": [],
   "source": [
    "tupla[0]"
   ]
  },
  {
   "cell_type": "markdown",
   "metadata": {},
   "source": [
    "* La siguientes celda regresará al objeto```[4, True, None, 'Saludo']```, el cual corresponde al índice ```-3``` del objeto   ```tupla```."
   ]
  },
  {
   "cell_type": "code",
   "execution_count": null,
   "metadata": {
    "scrolled": true
   },
   "outputs": [],
   "source": [
    "tupla[-3]"
   ]
  },
  {
   "cell_type": "markdown",
   "metadata": {},
   "source": [
    "* La siguientes celdas ejemplifican el uso del indexado numérico en objetos tipo ```bytearray``` al que se le asignará el nombre ```arreglo``` creado a partir de ```b'saludo'```."
   ]
  },
  {
   "cell_type": "code",
   "execution_count": null,
   "metadata": {},
   "outputs": [],
   "source": [
    "arreglo = bytearray(b'saludo')"
   ]
  },
  {
   "cell_type": "markdown",
   "metadata": {},
   "source": [
    "* La siguiente celda obtendrá el número ```117```, a partir del objeto ```arreglo```. Dicho número corresponde al valor del caracter ```u``` en la tabla de código *ASCII*, correspondiente al índice ```3```."
   ]
  },
  {
   "cell_type": "code",
   "execution_count": null,
   "metadata": {},
   "outputs": [],
   "source": [
    "arreglo[3]"
   ]
  },
  {
   "cell_type": "markdown",
   "metadata": {},
   "source": [
    "### Indexado mediante la clave en los objetos de tipo ```dict```.\n",
    "\n",
    "Los objetos de tipo ```dict``` no cuentan con índices numéricos. En su defecto, es posible obtener un valor mediante su clave correspondiente.\n",
    "\n",
    "Si la clave que se ingresa no existe, se desencadenará un error de tipo ```KeyError```."
   ]
  },
  {
   "cell_type": "markdown",
   "metadata": {},
   "source": [
    "**Ejemplo:**"
   ]
  },
  {
   "cell_type": "markdown",
   "metadata": {},
   "source": [
    "* La siguiente celda definirá al objeto ```persona```, el cual contiene las claves:\n",
    "    * ```'nombre'```.\n",
    "    * ```'primer apellido'```.\n",
    "    * ```'promedio'```.\n",
    "    * ```True```."
   ]
  },
  {
   "cell_type": "code",
   "execution_count": null,
   "metadata": {},
   "outputs": [],
   "source": [
    "persona = {'nombre': 'Juan', 'primer apellido': 'Pérez', 'promedio':7.8, True:'V'}"
   ]
  },
  {
   "cell_type": "markdown",
   "metadata": {},
   "source": [
    "* La siguiente celda regresará el objeto ```7.8``` correspondiente a la clave ```'promedio'``` del objeto ```persona```."
   ]
  },
  {
   "cell_type": "code",
   "execution_count": null,
   "metadata": {},
   "outputs": [],
   "source": [
    "persona['promedio']"
   ]
  },
  {
   "cell_type": "markdown",
   "metadata": {},
   "source": [
    "* La siguiente celda regresará el objeto ```'Juan'``` correspondiente a la clave ```'nombre'``` del objeto ```persona```."
   ]
  },
  {
   "cell_type": "code",
   "execution_count": null,
   "metadata": {},
   "outputs": [],
   "source": [
    "persona['nombre']"
   ]
  },
  {
   "cell_type": "markdown",
   "metadata": {},
   "source": [
    "* La siguiente celda regresará el objeto ```'V'``` correspondiente a la clave ```True``` del objeto ```persona```."
   ]
  },
  {
   "cell_type": "code",
   "execution_count": null,
   "metadata": {},
   "outputs": [],
   "source": [
    "persona[True]"
   ]
  },
  {
   "cell_type": "markdown",
   "metadata": {},
   "source": [
    "* La siguiente celda hace referencia a la clave ```'indefinido'```, la cual no existe en el objeto ```persona```, lo que desencdenará unn error de tipo ```KeyError```."
   ]
  },
  {
   "cell_type": "code",
   "execution_count": null,
   "metadata": {},
   "outputs": [],
   "source": [
    "persona['indefinido']"
   ]
  },
  {
   "cell_type": "markdown",
   "metadata": {},
   "source": [
    "###  Indíces anidados.\n",
    "\n",
    "En el caso de que un elemento seleccionado dentro de una colección indexables también sea una colección indexable, es posible realizar una indexación anidada colocando el índice a la derecha del índice superior.\n",
    "\n",
    "```\n",
    "<colección>[<índice 1>][<índice 2>]...[<índice n>]\n",
    "```\n",
    "\n",
    "Donde:\n",
    "\n",
    "* ```<colección>``` es un objeto de tipo indexable que contiene a otros objetos de tipo indexable.\n",
    "* ```<índice i>``` es un índice de un objeto indexable. El primer índice es el índice del objeto ```<colección>``` y los índices subsecuentes se aplican al objeto indexable al que se refiere el índice previo.\n"
   ]
  },
  {
   "cell_type": "markdown",
   "metadata": {},
   "source": [
    "**Ejemplos:**"
   ]
  },
  {
   "cell_type": "markdown",
   "metadata": {},
   "source": [
    "* A continuación se definirá a un objeto de tipo ```tuple``` con el nombre ```tupla``` el cual contiene a un elemento de tipo ```list``` en el índice ```1```,  el cual a su vez contiene a un elemento de tipo ```str``` en su índice ```3```."
   ]
  },
  {
   "cell_type": "code",
   "execution_count": null,
   "metadata": {},
   "outputs": [],
   "source": [
    "tupla = (1, [4, True, None, 'Saludo'], 6, 22.5)"
   ]
  },
  {
   "cell_type": "markdown",
   "metadata": {},
   "source": [
    "* La siguiente celda regresará al objeto ```[4, True, None, 'Saludo']``` a partir de ```tupla[1]```."
   ]
  },
  {
   "cell_type": "code",
   "execution_count": null,
   "metadata": {},
   "outputs": [],
   "source": [
    "tupla[1]"
   ]
  },
  {
   "cell_type": "markdown",
   "metadata": {},
   "source": [
    "* La siguiente celda regresará al objeto ```'Saludo'``` a partir de ```tupla[1][3]```."
   ]
  },
  {
   "cell_type": "code",
   "execution_count": null,
   "metadata": {},
   "outputs": [],
   "source": [
    "tupla[1][3]"
   ]
  },
  {
   "cell_type": "markdown",
   "metadata": {},
   "source": [
    "* La siguiente celda regresará al cracter ```'l'``` a partir de ```tupla[1][3][2]```."
   ]
  },
  {
   "cell_type": "code",
   "execution_count": null,
   "metadata": {
    "scrolled": false
   },
   "outputs": [],
   "source": [
    "tupla[1][3][2]"
   ]
  },
  {
   "cell_type": "markdown",
   "metadata": {},
   "source": [
    "* A continuación se definirá al objeto de tipo ```dict```  con el nombre ```persona```."
   ]
  },
  {
   "cell_type": "code",
   "execution_count": null,
   "metadata": {},
   "outputs": [],
   "source": [
    "persona = {'nombre': 'Juan', 'primer apellido': 'Pérez', 'promedio':7.8}"
   ]
  },
  {
   "cell_type": "markdown",
   "metadata": {},
   "source": [
    "* La siguiente celda obtendrá al objeto ```'Pérez'``` a partir de ```persona['primer apellido']```."
   ]
  },
  {
   "cell_type": "code",
   "execution_count": null,
   "metadata": {},
   "outputs": [],
   "source": [
    "persona['primer apellido']"
   ]
  },
  {
   "cell_type": "markdown",
   "metadata": {},
   "source": [
    "* La siguiente celda obtendrá al caracter ```'é'``` a partir de ```persona['primer apellido'][-4]```."
   ]
  },
  {
   "cell_type": "code",
   "execution_count": null,
   "metadata": {},
   "outputs": [],
   "source": [
    "persona['primer apellido'][-4]"
   ]
  },
  {
   "cell_type": "markdown",
   "metadata": {},
   "source": [
    "### Indexado de elementos por rangos numéricos.\n",
    "\n",
    "Las colecciones con índices numéricos como ```tuple```, ```list```, ```str```, ```bytearray``` y ```bytes``` permiten indexar rangos de elementos con la siguiente sintaxis.\n",
    "\n",
    "```\n",
    "<colección>[<m>:<n>:<i>]\n",
    "```\n",
    "\n",
    "Donde:\n",
    "\n",
    "* ```<m>``` es el índice inicial.\n",
    "* ```<n>``` es el índice final.\n",
    "* ```<i>``` es un número entero que indica los incrementos (si es positivo) o decrementos (si es negativo).\n",
    "\n",
    "El resultado será un nuevo objeto del mismo tipo que el original incluyendo los elementos comprendidos entre el índice inicial y uno antes que el índice final en los incrementos o decrementos indicados. A esto se le conoce como \"rebanado\".\n",
    "\n",
    "* Si no se indica un número de incremento/decremento, el número será igual a ```1```.\n",
    "* En caso de que se indiquen incrementos:\n",
    "   * El índice inicial debe de ser menor que el índice final.\n",
    "   * Si no se indica un índice inicial, el rango empieza desde el índice ```0```.\n",
    "   * Si no se indica un índice final, el rango termina con el último elemento contenido.\n",
    "* En caso de que se indiquen decrementos:\n",
    "   * El índice inicial debe de ser mayor que el índice final.\n",
    "   * Si no se indica un índice inicial, el rango empieza desde el índice del último elemento contenido.\n",
    "   * Si no se indica un índice final, el rango termina en el primer elemento.\n",
    "* Si no se indica ningún índice y sólo se colocan los dos puntos ```:```, se hará un rebanado completo del objeto.\n",
    "* Los índices pueden ser superiores al tamaño de la colección.\n",
    "* Si el rango no tiene sentido, se regresará una colección vacía. "
   ]
  },
  {
   "cell_type": "markdown",
   "metadata": {},
   "source": [
    "**Ejemplos:**"
   ]
  },
  {
   "cell_type": "markdown",
   "metadata": {},
   "source": [
    "* Para ilustrar el uso del rebanado se creara el objeto ```lista``` de tipo ```list```."
   ]
  },
  {
   "cell_type": "code",
   "execution_count": null,
   "metadata": {},
   "outputs": [],
   "source": [
    "lista = [0, 1, 2, 3, 4, 5, 6, 7, 8]"
   ]
  },
  {
   "cell_type": "markdown",
   "metadata": {},
   "source": [
    "* La siguiente celda regresará un objeto tipo ```list``` con los elementos con índices que van de  ```0``` a antes de ```6``` en incrementos de ```2```."
   ]
  },
  {
   "cell_type": "code",
   "execution_count": null,
   "metadata": {},
   "outputs": [],
   "source": [
    "lista[0:6:2]"
   ]
  },
  {
   "cell_type": "markdown",
   "metadata": {},
   "source": [
    "* La siguiente celda regresará un objeto tipo ```list``` con los elementos con índices que van de  ```6``` a antes de ```0``` en decrementos de ```-2```."
   ]
  },
  {
   "cell_type": "code",
   "execution_count": null,
   "metadata": {},
   "outputs": [],
   "source": [
    "lista[6:0:-2]"
   ]
  },
  {
   "cell_type": "markdown",
   "metadata": {},
   "source": [
    "* La siguiente celda regresará un objeto tipo ```list``` vacío en vista de que el rango no tiene sentido."
   ]
  },
  {
   "cell_type": "code",
   "execution_count": null,
   "metadata": {},
   "outputs": [],
   "source": [
    "lista[0:6:-2]"
   ]
  },
  {
   "cell_type": "markdown",
   "metadata": {},
   "source": [
    "* La siguiente celda regresará un objeto tipo ```list``` con los elementos con índices ```2``` a ```4```."
   ]
  },
  {
   "cell_type": "code",
   "execution_count": null,
   "metadata": {},
   "outputs": [],
   "source": [
    "lista[2:5]"
   ]
  },
  {
   "cell_type": "markdown",
   "metadata": {},
   "source": [
    "* La siguiente celda regresará un objeto tipo ```list``` con el elemento con índice ```8```, en vista de que ese el último elemento del objeto ```lista```."
   ]
  },
  {
   "cell_type": "code",
   "execution_count": null,
   "metadata": {},
   "outputs": [],
   "source": [
    "lista[8:25]"
   ]
  },
  {
   "cell_type": "markdown",
   "metadata": {},
   "source": [
    "* La siguiente celda regresará un objeto tipo ```list``` con los elementos con índices ```-2``` y ```-1```."
   ]
  },
  {
   "cell_type": "code",
   "execution_count": null,
   "metadata": {},
   "outputs": [],
   "source": [
    "lista[-2:25]"
   ]
  },
  {
   "cell_type": "markdown",
   "metadata": {},
   "source": [
    "* Las siguientes celdas indican rangos impropios y regresan un objeto ```list``` vacío."
   ]
  },
  {
   "cell_type": "code",
   "execution_count": null,
   "metadata": {},
   "outputs": [],
   "source": [
    "lista[-2:3]"
   ]
  },
  {
   "cell_type": "code",
   "execution_count": null,
   "metadata": {
    "scrolled": true
   },
   "outputs": [],
   "source": [
    "lista[5:3]"
   ]
  },
  {
   "cell_type": "markdown",
   "metadata": {},
   "source": [
    "* La siguiente celda traerá los caracteres que van del inicio a uno antes de índice ```8``` en incremementos de ```3``` a partir del objeto ```\"Polimorfismo\"```."
   ]
  },
  {
   "cell_type": "code",
   "execution_count": null,
   "metadata": {},
   "outputs": [],
   "source": [
    "\"Polimorfismo\"[:8:3]"
   ]
  },
  {
   "cell_type": "markdown",
   "metadata": {},
   "source": [
    "* La siguiente celda traerá los caracteres que van del final a uno antes de índice ```3``` en decremementos de ```-1``` a partir del objeto ```\"Polimorfismo\"```."
   ]
  },
  {
   "cell_type": "code",
   "execution_count": null,
   "metadata": {},
   "outputs": [],
   "source": [
    "\"Polimorfismo\"[:3:-1]"
   ]
  },
  {
   "cell_type": "markdown",
   "metadata": {},
   "source": [
    "* La siguiente celda realizará un rebanado completo de un objeto tipo ```tuple```."
   ]
  },
  {
   "cell_type": "code",
   "execution_count": null,
   "metadata": {},
   "outputs": [],
   "source": [
    "(0,1,2,3,4,5)[:]"
   ]
  },
  {
   "cell_type": "markdown",
   "metadata": {},
   "source": [
    "* La siguiente celda realizará un rebanado completo de un objeto de tipo ```tuple```, pero en sentido inverso."
   ]
  },
  {
   "cell_type": "code",
   "execution_count": null,
   "metadata": {},
   "outputs": [],
   "source": [
    "(0,1,2,3,4,5)[::-1]"
   ]
  },
  {
   "cell_type": "markdown",
   "metadata": {},
   "source": [
    "* A continuación se hará un rebanado completo del objeto ```lista``` el cual regresará un objetos nuevo al que se le asignará el nombre ```nueva_lista```"
   ]
  },
  {
   "cell_type": "code",
   "execution_count": null,
   "metadata": {},
   "outputs": [],
   "source": [
    "nueva_lista = lista[:]"
   ]
  },
  {
   "cell_type": "markdown",
   "metadata": {},
   "source": [
    "* Los objetos ```lista``` y ```nueva_lista``` comparten el contenido, pero son objetos distintos."
   ]
  },
  {
   "cell_type": "code",
   "execution_count": null,
   "metadata": {},
   "outputs": [],
   "source": [
    "nueva_lista"
   ]
  },
  {
   "cell_type": "code",
   "execution_count": null,
   "metadata": {},
   "outputs": [],
   "source": [
    "id(lista)"
   ]
  },
  {
   "cell_type": "code",
   "execution_count": null,
   "metadata": {},
   "outputs": [],
   "source": [
    "id(nueva_lista)"
   ]
  },
  {
   "cell_type": "markdown",
   "metadata": {},
   "source": [
    "## Mutablidad e inmutabilidad.\n",
    "\n",
    "Un objeto es mutable si es posible de algún modo modificar o eliminar los elementos que contiene. \n",
    "\n",
    "Aquellos objetos cuyos contenidos no puedan ser modificados o eliminados son inmutables.\n",
    "\n",
    "**Nota:** En capítulos posteriores se explorará con mayor profundidad la mutabilidad o inmutabilidad de las colecciones de Python."
   ]
  },
  {
   "cell_type": "markdown",
   "metadata": {},
   "source": [
    "### Tipos mutables.\n",
    "\n",
    "Las colecciones ```list```, ```dict```, ```bytearray``` y ```set``` son mutables, ya que de algún modo es posible modificar o eliminar los elementos que contienen.\n",
    "\n",
    "Los elementos dentro de una colección de tipo ```bytearray```, ```list``` y ```dict``` pueden ser modificados mediante eliminación o sustitución tal como se describirá a continuación."
   ]
  },
  {
   "cell_type": "markdown",
   "metadata": {},
   "source": [
    "#### Eliminación de elementos contenidos en una colección.\n",
    "\n",
    "Para eliminar un elemento o un rango de elementos dentro de una colección mutable se utiliza la declaración ```del``` de la siguiente forma:\n",
    "\n",
    "```\n",
    "del <colección>[<índice>]\n",
    "```\n",
    "Donde: \n",
    "* ```<colección>``` es una colección de tipo mutable.\n",
    "* ```<índice>``` puede ser un índice o un rango. \n",
    "\n",
    "Los elementos correspondientes al índice o al rango serán eliminados de la colección y los elementos a la derecha de los elementos eliminados correrán su índice a la izquierda. "
   ]
  },
  {
   "cell_type": "markdown",
   "metadata": {},
   "source": [
    "#### Sustitución de elementos contenidos en una colección.\n",
    "\n",
    "Para sustituir un elemento o un rango de elementos dentro de una colección mutable se utiliza el operador de asignación ```=``` de las siguiente formas:\n",
    "\n",
    "```\n",
    "<colección>[<índice>] = <objeto>\n",
    "```\n",
    "Donde: \n",
    "* ```<colección>``` es una colección de tipo mutable.\n",
    "* ```<índice>``` es un índice numérico o una clave, dependiendo del tipo de dato. \n",
    "* ```<objeto>``` es el objeto que sustituirá al objeto especificado dentro de la colección mutable.\n",
    "\n",
    "O bien.\n",
    "\n",
    "```\n",
    "<colección>[<rango>] = <objeto 1>, <objeto 2> ... <objeto n>\n",
    "```\n",
    "Donde: \n",
    "* ```<colección>``` es una colección de tipo indexable numéricamente y mutable.\n",
    "* ```<rango>``` es un rango numérico. \n",
    "* ```<objeto i>``` es un objeto que forma parte de una sucesión, el cual sustituirá a un elemento dentro del rango."
   ]
  },
  {
   "cell_type": "markdown",
   "metadata": {},
   "source": [
    "**Ejemplo:**"
   ]
  },
  {
   "cell_type": "markdown",
   "metadata": {},
   "source": [
    "* La siguiente celda definirá al objeto ```list``` de nombre ```mutable```."
   ]
  },
  {
   "cell_type": "code",
   "execution_count": null,
   "metadata": {},
   "outputs": [],
   "source": [
    "mutable = [1, 2, 3, 4]"
   ]
  },
  {
   "cell_type": "markdown",
   "metadata": {},
   "source": [
    "* La siguiente celda eliminará al elemento con índice ```mutable[2]``` mediante la declaración ```del```. Dicho objeto sera eliminado y los elementos a la derecha de este, se recorrerán a la izquierda. "
   ]
  },
  {
   "cell_type": "code",
   "execution_count": null,
   "metadata": {},
   "outputs": [],
   "source": [
    "del mutable[2]"
   ]
  },
  {
   "cell_type": "markdown",
   "metadata": {},
   "source": [
    "* El resultado es que ahora el objeto ```mutable``` es ```[1, 2, 4]```."
   ]
  },
  {
   "cell_type": "code",
   "execution_count": null,
   "metadata": {
    "scrolled": true
   },
   "outputs": [],
   "source": [
    "mutable"
   ]
  },
  {
   "cell_type": "markdown",
   "metadata": {},
   "source": [
    "* Ahora el elemento ```mutable[2]``` es ```4```."
   ]
  },
  {
   "cell_type": "code",
   "execution_count": null,
   "metadata": {},
   "outputs": [],
   "source": [
    "mutable[2]"
   ]
  },
  {
   "cell_type": "markdown",
   "metadata": {},
   "source": [
    "* La siguiente celda le asignará al elemento ```mutable[0]``` el objeto ```\"uno\"```."
   ]
  },
  {
   "cell_type": "code",
   "execution_count": null,
   "metadata": {},
   "outputs": [],
   "source": [
    "mutable[0] = \"uno\""
   ]
  },
  {
   "cell_type": "markdown",
   "metadata": {},
   "source": [
    "* El resultado es que ahora el objeto ```mutable``` es ```['uno', 2, 4]```."
   ]
  },
  {
   "cell_type": "code",
   "execution_count": null,
   "metadata": {},
   "outputs": [],
   "source": [
    "mutable"
   ]
  },
  {
   "cell_type": "markdown",
   "metadata": {},
   "source": [
    "### Tipos inmutables.\n",
    "\n",
    "Los tipos ```int```, ```float```, ```complex``` y ```bool``` son inmutables ya que representan valores.\n",
    "\n",
    "Las colecciones ```str```, ```bytes```, ```tuple``` y ```frozenset``` son colecciones inmutables."
   ]
  },
  {
   "cell_type": "markdown",
   "metadata": {},
   "source": [
    "**Ejemplo:**"
   ]
  },
  {
   "cell_type": "markdown",
   "metadata": {},
   "source": [
    "* La siguiente celda definirá al objeto ```tuple``` de nombre ```inmutable```."
   ]
  },
  {
   "cell_type": "code",
   "execution_count": null,
   "metadata": {},
   "outputs": [],
   "source": [
    "inmutable = (1, 2, 3, 4)"
   ]
  },
  {
   "cell_type": "markdown",
   "metadata": {},
   "source": [
    "* La siguiente celda intentará eliminar al elemento ```inmutable[3]``` mediante la declaración ```del```. Debido a que los objetos de tipo ```tuple```  son inmutables se desencadenará un error de tipo ```TypeError```."
   ]
  },
  {
   "cell_type": "code",
   "execution_count": null,
   "metadata": {},
   "outputs": [],
   "source": [
    "del inmutable[2]"
   ]
  },
  {
   "cell_type": "markdown",
   "metadata": {},
   "source": [
    "* El objeto ```inmutable``` queda intacto."
   ]
  },
  {
   "cell_type": "code",
   "execution_count": null,
   "metadata": {
    "scrolled": true
   },
   "outputs": [],
   "source": [
    "inmutable"
   ]
  },
  {
   "cell_type": "markdown",
   "metadata": {},
   "source": [
    "* La siguiente celda intentará sustituir al elemento ```inmutable[0]``` por el objeto ```\"uno\"```. Debido a que los objetos de tipo ```tuple```  son inmutables se desencadenará un error de tipo ```TypeError```."
   ]
  },
  {
   "cell_type": "code",
   "execution_count": null,
   "metadata": {},
   "outputs": [],
   "source": [
    "inmutable[0] = \"uno\""
   ]
  },
  {
   "cell_type": "markdown",
   "metadata": {},
   "source": [
    "## Funciones para colecciones.\n",
    "\n",
    "Python cuenta con algunas funciones que pueden ser utilizadas en colecciones tales como:\n",
    "\n",
    "* ```len()```.\n",
    "* ```max()```.\n",
    "* ```min()```.\n",
    "* ```sum()```.\n",
    "* ```sorted()```."
   ]
  },
  {
   "cell_type": "markdown",
   "metadata": {},
   "source": [
    "### La función ```len()```.\n",
    "\n",
    "Esta función permite conocer el número de elementos (el tamaño) que contiene una colección.\n",
    "\n",
    "Sintaxis:\n",
    "\n",
    "```\n",
    "len(<colección>)\n",
    "```"
   ]
  },
  {
   "cell_type": "markdown",
   "metadata": {},
   "source": [
    "**Ejemplos:**"
   ]
  },
  {
   "cell_type": "markdown",
   "metadata": {},
   "source": [
    "* La siguiente celda regresará el tamaño del objeto ```'Hola'```, cuyo valor es ```4```."
   ]
  },
  {
   "cell_type": "code",
   "execution_count": null,
   "metadata": {},
   "outputs": [],
   "source": [
    "len('Hola')"
   ]
  },
  {
   "cell_type": "markdown",
   "metadata": {},
   "source": [
    "* En la siguiente celda se obtendrá el tamaño del objeto ```[1, 2, [3, 4, 6], None]```, cuyo valor es ```4``` ."
   ]
  },
  {
   "cell_type": "code",
   "execution_count": null,
   "metadata": {},
   "outputs": [],
   "source": [
    "len([1, 2, [3, 4, 6], None])"
   ]
  },
  {
   "cell_type": "markdown",
   "metadata": {},
   "source": [
    "* En la siguiente celda, se obtendrá el tamaño del objeto ```[3, 4 ,6]```, correspondiente al elemento ```[1, 2, [3, 4, 6], None][2]``` y cuyo valor es ```3```."
   ]
  },
  {
   "cell_type": "code",
   "execution_count": null,
   "metadata": {},
   "outputs": [],
   "source": [
    "len([1, 2, [3, 4, 6], None][2])"
   ]
  },
  {
   "cell_type": "markdown",
   "metadata": {},
   "source": [
    "* La siguiente celda regresará ```0```, en vista de que el objeto ```dict``` está vacío."
   ]
  },
  {
   "cell_type": "code",
   "execution_count": null,
   "metadata": {},
   "outputs": [],
   "source": [
    "len({})"
   ]
  },
  {
   "cell_type": "markdown",
   "metadata": {},
   "source": [
    "* A continuación se creará el objeto ```dict``` con nombre ```persona```, el cual tiene un tamaño igual a ```3```, debido a que contiene 3 pares ```<clave>:<valor>```."
   ]
  },
  {
   "cell_type": "code",
   "execution_count": null,
   "metadata": {},
   "outputs": [],
   "source": [
    "persona = {'nombre':'Juan', 'apellido': 'Pérez', 'promedio':7.5}"
   ]
  },
  {
   "cell_type": "code",
   "execution_count": null,
   "metadata": {},
   "outputs": [],
   "source": [
    "len(persona)"
   ]
  },
  {
   "cell_type": "markdown",
   "metadata": {},
   "source": [
    "### La función ```max()```.\n",
    "\n",
    "Esta función permite conocer el elemento de mayor valor dentro de una colecc;ón cuando estos valores sean comparables.\n",
    "\n",
    "Sintaxis:\n",
    "\n",
    "```\n",
    "max(<colección>)\n",
    "```\n",
    "\n",
    "En el caso de que se trate de un objeto de tipo ```dict``` esta función se aplicará sobre las claves de los pares contenidos en el objeto.\n",
    "\n",
    "En caso de que los valores no puedan ser comparados se generará un error de tipo ```TypeError```."
   ]
  },
  {
   "cell_type": "markdown",
   "metadata": {},
   "source": [
    "**Ejemplos:**"
   ]
  },
  {
   "cell_type": "markdown",
   "metadata": {},
   "source": [
    "* La siguiente celda regresará al caracter de mayor valor en la tabla de caracteres del objeto ```'hola'```."
   ]
  },
  {
   "cell_type": "code",
   "execution_count": null,
   "metadata": {},
   "outputs": [],
   "source": [
    "max('hola')"
   ]
  },
  {
   "cell_type": "markdown",
   "metadata": {},
   "source": [
    "* La siguiente celda regresará el número correspondiente al caracter de mayor valor en la tabla del código *ASCII* del objeto ```'hola'```."
   ]
  },
  {
   "cell_type": "code",
   "execution_count": null,
   "metadata": {},
   "outputs": [],
   "source": [
    "max(b'hola')"
   ]
  },
  {
   "cell_type": "markdown",
   "metadata": {},
   "source": [
    "* La siguiente celda regresará al elemento  de mayor valor dentro del objeto de tipo ```tuple```."
   ]
  },
  {
   "cell_type": "code",
   "execution_count": null,
   "metadata": {},
   "outputs": [],
   "source": [
    "max((2, 1024, 13.6))"
   ]
  },
  {
   "cell_type": "markdown",
   "metadata": {},
   "source": [
    "* La siguiente celda creará al objeto de tipo ```dict``` con nombre ```persona``` y regresará al nombre de mayor valor. En este caso buscará el mayor valor a partir del primer caracter de cada nombre."
   ]
  },
  {
   "cell_type": "code",
   "execution_count": null,
   "metadata": {},
   "outputs": [],
   "source": [
    "persona = {'nombre':'Juan', 'apellido': 'Pérez', 'promedio':7.5}\n",
    "max(persona)"
   ]
  },
  {
   "cell_type": "markdown",
   "metadata": {},
   "source": [
    "* La siguiente celda aplicará la función ```max()``` a un objeto de tipo ```tuple``` cuyos elementos no pueden ser comparados y se generará un  error de tipo ```TypeError```."
   ]
  },
  {
   "cell_type": "code",
   "execution_count": null,
   "metadata": {},
   "outputs": [],
   "source": [
    "max((2, 1024, 13.6, 12j))"
   ]
  },
  {
   "cell_type": "markdown",
   "metadata": {},
   "source": [
    "### La función ```min()```.\n",
    "\n",
    "Esta función permite conocer el elemento de menor valor dentro de una colecc;ón cuando estos valores sean comparables.\n",
    "\n",
    "Sintaxis:\n",
    "\n",
    "```\n",
    "min(<colección>)\n",
    "```\n",
    "\n",
    "En el caso de que se trate de un objeto de tipo ```dict``` esta función se aplicará sobre las claves de los pares contenidos en el objeto.\n",
    "\n",
    "En caso de que los valores no puedan ser comparados se generará un error de tipo ```TypeError```."
   ]
  },
  {
   "cell_type": "markdown",
   "metadata": {},
   "source": [
    "**Ejemplos:**"
   ]
  },
  {
   "cell_type": "markdown",
   "metadata": {},
   "source": [
    "* La siguiente celda regresará al caracter de menor valor en la tabla de caracteres del objeto ```'hola'```."
   ]
  },
  {
   "cell_type": "code",
   "execution_count": null,
   "metadata": {},
   "outputs": [],
   "source": [
    "min('hola')"
   ]
  },
  {
   "cell_type": "markdown",
   "metadata": {},
   "source": [
    "* La siguiente celda regresará el número correspondiente al caracter de menor valor en la tabla del código *ASCII* del objeto ```'hola'```."
   ]
  },
  {
   "cell_type": "code",
   "execution_count": null,
   "metadata": {},
   "outputs": [],
   "source": [
    "min(b'hola')"
   ]
  },
  {
   "cell_type": "markdown",
   "metadata": {},
   "source": [
    "* La siguiente celda regresará al elemento  de menor valor dentro del objeto de tipo ```tuple```."
   ]
  },
  {
   "cell_type": "code",
   "execution_count": null,
   "metadata": {},
   "outputs": [],
   "source": [
    "min((2, 1024, 13.6))"
   ]
  },
  {
   "cell_type": "markdown",
   "metadata": {},
   "source": [
    "* La siguiente celda creará al objeto de tipo ```dict``` con nombre ```persona``` y regresará al nombre de menor valor. En este caso buscará el menor valor a partir del primer caracter de cada nombre."
   ]
  },
  {
   "cell_type": "code",
   "execution_count": null,
   "metadata": {},
   "outputs": [],
   "source": [
    "persona = {'nombre':'Juan', 'apellido': 'Pérez', 'promedio':7.5}\n",
    "min(persona)"
   ]
  },
  {
   "cell_type": "markdown",
   "metadata": {},
   "source": [
    "* La siguiente celda aplicará la función ```min()``` a un objeto de tipo ```list``` cuyos elementos no pueden ser comparados y se generará un  error de tipo ```TypeError```."
   ]
  },
  {
   "cell_type": "code",
   "execution_count": null,
   "metadata": {},
   "outputs": [],
   "source": [
    "min([2, 1024, 13.6, 12j])"
   ]
  },
  {
   "cell_type": "markdown",
   "metadata": {},
   "source": [
    "### La función ```sorted()```.\n",
    "\n",
    "Esta función regresa un objeto de tipo ```list``` que contiene los elementos de la colección que se ingresa como primer argumento ordenándolos de menor a mayor.\n",
    "\n",
    "Sintaxis:\n",
    "\n",
    "```\n",
    "sorted(<colección>, reverse=<booleano>)\n",
    "```\n",
    "\n",
    "El parámetro ```reverse``` indica a la función ```sorted()``` si va a regresar los elementos en orden inverso. Su valor por defecto es ```False```.\n",
    "\n",
    "En el caso de que la colección se trate de un objeto de tipo ```dict``` esta función se aplicará sobre las claves de los pares contenidos en el objeto.\n",
    "\n",
    "En caso de que los valores no puedan ser comparados se generará un error de tipo ```TypeError```."
   ]
  },
  {
   "cell_type": "markdown",
   "metadata": {},
   "source": [
    "**Ejemplos:**"
   ]
  },
  {
   "cell_type": "markdown",
   "metadata": {},
   "source": [
    "* La siguiente celda regresará una lista ordenada de menor a mayor de los caracteres contenidos en el objeto ```'calle'```."
   ]
  },
  {
   "cell_type": "code",
   "execution_count": null,
   "metadata": {},
   "outputs": [],
   "source": [
    "sorted(\"calle\")"
   ]
  },
  {
   "cell_type": "markdown",
   "metadata": {},
   "source": [
    "* La siguiente celda regresará una lista ordenada de menor a mayor de los valoers de los caracteres *ASCII* contenidos en el objeto ```b'calle'```."
   ]
  },
  {
   "cell_type": "code",
   "execution_count": null,
   "metadata": {
    "scrolled": true
   },
   "outputs": [],
   "source": [
    "sorted(b\"calle\")"
   ]
  },
  {
   "cell_type": "markdown",
   "metadata": {},
   "source": [
    "* La siguiente celda regresará una lista ordenada de menor a mayor de los elementos contenidos en el objeto ```[6, 8, 9, 24, 11, False]```."
   ]
  },
  {
   "cell_type": "code",
   "execution_count": null,
   "metadata": {},
   "outputs": [],
   "source": [
    "sorted([6, 8, 9, 24, 11, False])"
   ]
  },
  {
   "cell_type": "markdown",
   "metadata": {},
   "source": [
    "* La siguiente celda regresará una lista ordenada de menor a mayor de las claves contenidas en el objeto ```persona```."
   ]
  },
  {
   "cell_type": "code",
   "execution_count": null,
   "metadata": {},
   "outputs": [],
   "source": [
    "persona = {'nombre':'Juan', 'apellido': 'Pérez', 'promedio':7.5}\n",
    "sorted(persona)"
   ]
  },
  {
   "cell_type": "markdown",
   "metadata": {},
   "source": [
    "* La siguiente celda regresará una lista ordenada de menor a mayor de los elementos contenidss en el objeto ```{23, 2, 2, 0, False}```."
   ]
  },
  {
   "cell_type": "code",
   "execution_count": null,
   "metadata": {},
   "outputs": [],
   "source": [
    "sorted({23, 2, 2, 0, False})"
   ]
  },
  {
   "cell_type": "markdown",
   "metadata": {},
   "source": [
    "* La siguiente celda regresará una lista ordenada de mayor a menor de los elementos contenidss en el objeto ```{23, 2, 2, 0, False}```."
   ]
  },
  {
   "cell_type": "code",
   "execution_count": null,
   "metadata": {},
   "outputs": [],
   "source": [
    "sorted({23, 2, 2, 0, False}, reverse=True)"
   ]
  },
  {
   "cell_type": "markdown",
   "metadata": {},
   "source": [
    "* La siguiente celda intentará aplicar la función ```sorted()``` a una colección que contiene elementos que no se peuden comparar. Se generará unerror de tipo ```TypeError```."
   ]
  },
  {
   "cell_type": "code",
   "execution_count": null,
   "metadata": {},
   "outputs": [],
   "source": [
    "sorted({'hola', 3, False})"
   ]
  },
  {
   "cell_type": "markdown",
   "metadata": {},
   "source": [
    "### La función ```sum()```.\n",
    "\n",
    "Esta función regresa la suma de todos los elementos contenidos en una colección que se ingresa como argumento.\n",
    "\n",
    "Sintaxis:\n",
    "\n",
    "```\n",
    "sum(<colección>)\n",
    "```\n",
    "\n",
    "\n",
    "En el caso de que la colección se trate de un objeto de tipo ```dict``` esta función se aplicará sobre las claves de los pares contenidos en el objeto.\n",
    "\n",
    "En caso de que los valores no puedan ser sumados se generará un error de tipo ```TypeError```.\n",
    "\n",
    "**Nota:** La función ```sum()``` no puede ser utilizada en objetos de tipo ```str```. En caso de usarla de ese modo, se egenrará un error de tipo ```TypeError```."
   ]
  },
  {
   "cell_type": "markdown",
   "metadata": {},
   "source": [
    "**Ejemplos:**"
   ]
  },
  {
   "cell_type": "markdown",
   "metadata": {},
   "source": [
    "* Las siguientes celdas regresarán al suma de sus elementos."
   ]
  },
  {
   "cell_type": "code",
   "execution_count": null,
   "metadata": {},
   "outputs": [],
   "source": [
    "sum((1, 45, 11, False))"
   ]
  },
  {
   "cell_type": "code",
   "execution_count": null,
   "metadata": {},
   "outputs": [],
   "source": [
    "sum(b\"Hola\")"
   ]
  },
  {
   "cell_type": "markdown",
   "metadata": {},
   "source": [
    "* La siguiente intentará aplicar la función ```sum()``` a un objeto de tipo ```str```, lo que generará un error de tipo ```TypeError```."
   ]
  },
  {
   "cell_type": "code",
   "execution_count": null,
   "metadata": {},
   "outputs": [],
   "source": [
    "sum(\"Hola\")"
   ]
  },
  {
   "cell_type": "markdown",
   "metadata": {},
   "source": [
    "* La siguiente intentará aplicar la función ```sum()``` a claves que no pueden ser sumadas, lo que generará un error de tipo ```TypeError```."
   ]
  },
  {
   "cell_type": "code",
   "execution_count": null,
   "metadata": {
    "scrolled": true
   },
   "outputs": [],
   "source": [
    "persona = {'nombre':'Juan', 'apellido': 'Pérez', 'promedio':7.5}\n",
    "sum(persona)"
   ]
  },
  {
   "cell_type": "markdown",
   "metadata": {},
   "source": [
    "<p style=\"text-align: center\"><a rel=\"license\" href=\"http://creativecommons.org/licenses/by/4.0/\"><img alt=\"Licencia Creative Commons\" style=\"border-width:0\" src=\"https://i.creativecommons.org/l/by/4.0/80x15.png\" /></a><br />Esta obra está bajo una <a rel=\"license\" href=\"http://creativecommons.org/licenses/by/4.0/\">Licencia Creative Commons Atribución 4.0 Internacional</a>.</p>\n",
    "<p style=\"text-align: center\">&copy; José Luis Chiquete Valdivieso. 2020.</p>"
   ]
  }
 ],
 "metadata": {
  "kernelspec": {
   "display_name": "Python 3",
   "language": "python",
   "name": "python3"
  },
  "language_info": {
   "codemirror_mode": {
    "name": "ipython",
    "version": 3
   },
   "file_extension": ".py",
   "mimetype": "text/x-python",
   "name": "python",
   "nbconvert_exporter": "python",
   "pygments_lexer": "ipython3",
   "version": "3.8.5"
  }
 },
 "nbformat": 4,
 "nbformat_minor": 1
}
