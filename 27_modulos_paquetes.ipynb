{
 "cells": [
  {
   "cell_type": "markdown",
   "metadata": {},
   "source": [
    "[![pythonista.io](imagenes/pythonista.png)](https://www.pythonista.io)"
   ]
  },
  {
   "cell_type": "markdown",
   "metadata": {},
   "source": [
    "# Módulos y paquetes."
   ]
  },
  {
   "cell_type": "markdown",
   "metadata": {},
   "source": [
    "## Módulos en Python.\n",
    "\n",
    "Una de las premisas básicas de Python es la reutilización de código. Es por ello por lo que este lenguaje permite importar código específico a partir de una biblioteca local de módulos y paquetes."
   ]
  },
  {
   "cell_type": "markdown",
   "metadata": {},
   "source": [
    "### La biblioteca estándar de Python.\n",
    "\n",
    "Se dice que Python viene \"con las baterías incluídas\" debido a que desde su instalación cuenta con una extensa biblioteca de módulos y paquetes que cubren una gran cantidad de funcionalidades.\n",
    "\n",
    "La referencia a la biblioteca estándar de Python puede ser consultada desde:\n",
    "\n",
    "https://docs.python.org/3/library/index.html"
   ]
  },
  {
   "cell_type": "markdown",
   "metadata": {},
   "source": [
    "### Consulta de la biblioteca de módulos existentes en el sistema.\n",
    "\n",
    "Además de las biblioteca estándar, es posible que el sistema en el que se ejecuta el intérprete de Python cuente con más módulos y paquetes instalados por otras aplicaciones o incluso que sean parte del propio sistema.\n",
    "\n",
    "Los módulos se pueden consultar ejecutando la siguiente instrucción desde el intérprete.\n",
    "\n",
    "```python\n",
    "help(\"modules\")\n",
    "``` "
   ]
  },
  {
   "cell_type": "markdown",
   "metadata": {},
   "source": [
    "**Ejemplo:**"
   ]
  },
  {
   "cell_type": "markdown",
   "metadata": {},
   "source": [
    "* La siguiente celda desplegará los módulos y paquetes disponibles en el sistema desde el cual se ejecuta esta notebook."
   ]
  },
  {
   "cell_type": "code",
   "execution_count": null,
   "metadata": {},
   "outputs": [],
   "source": [
    "help('modules')"
   ]
  },
  {
   "cell_type": "markdown",
   "metadata": {},
   "source": [
    "### Importación de módulos.\n",
    "\n",
    "Es posible ```importar``` los módulos y paquetes de Python al intérprete o a un script usando la palabra reservada ```import```.\n",
    "\n",
    "```\n",
    "import <módulo>\n",
    "\n",
    "```"
   ]
  },
  {
   "cell_type": "markdown",
   "metadata": {},
   "source": [
    "### Proceso de importación de un módulo.\n",
    "\n",
    "* El intérprete de Python busca en el sistema de archivos local en el orden siguiente:\n",
    "    * El directorio actual desde donde se ejecuta el intéreprete de Python.\n",
    "    * Las rutas predefinidas en la configuración del intérprete de Python.\n",
    "* Al encontrar la primera coincidencia con el nombre módulo, el intérprete lo ejecuta de principio a fin.\n",
    "    * Al importar un módulo por primera vez, Python genera un archivo binario con extensión ```.pyc```, el cual será reutilizado en las siguientes importaciones del módulo. \n",
    "    * Si el intérprete detecta que el módulo ha sido modificado desde la última vez que se generó su correspondiente archivo```.pyc```, generará uno nuevo.\n",
    "    * El intérprete crea un espacio de nombres al cual le asigna el nombre del módulo y se ligan todos los objetos que son creados por el módulo con su respectivo nombre."
   ]
  },
  {
   "cell_type": "markdown",
   "metadata": {},
   "source": [
    "### Acceso a un componente contenido en un módulo.\n",
    "\n",
    "Cada objeto creado al ejecutarse el módulo será ligado al espacio de nombres de dicho módulo y será accesible mediante el operador de atributo ```.```.\n",
    "```\n",
    "<modulo>.<componente> \n",
    "```"
   ]
  },
  {
   "cell_type": "markdown",
   "metadata": {},
   "source": [
    "**Ejemplo:**"
   ]
  },
  {
   "cell_type": "markdown",
   "metadata": {},
   "source": [
    "La siguiente celda importará al módulo ```math``` el cual es parte de la bilbioteca estándar de Python."
   ]
  },
  {
   "cell_type": "code",
   "execution_count": null,
   "metadata": {},
   "outputs": [],
   "source": [
    "import math"
   ]
  },
  {
   "cell_type": "markdown",
   "metadata": {},
   "source": [
    "* La siguiente celda regresará el espacio de nombres del módulo ```math```."
   ]
  },
  {
   "cell_type": "code",
   "execution_count": null,
   "metadata": {
    "scrolled": true
   },
   "outputs": [],
   "source": [
    "dir(math)"
   ]
  },
  {
   "cell_type": "code",
   "execution_count": null,
   "metadata": {},
   "outputs": [],
   "source": [
    "help(math)"
   ]
  },
  {
   "cell_type": "markdown",
   "metadata": {},
   "source": [
    "* El módulo ```math``` incluye al objeto ```math.pi```, el cual corresponde a un objeto ```float``` con el valor del número ```π```. "
   ]
  },
  {
   "cell_type": "code",
   "execution_count": null,
   "metadata": {},
   "outputs": [],
   "source": [
    "math.pi"
   ]
  },
  {
   "cell_type": "markdown",
   "metadata": {},
   "source": [
    "* El módulo ```math``` incluye a la función ```radians()```, la cual regresa la medida de un ángulo en radianes a partir del valor de un ángulo medido en grados el cual es ingresados como argumento."
   ]
  },
  {
   "cell_type": "code",
   "execution_count": null,
   "metadata": {
    "scrolled": true
   },
   "outputs": [],
   "source": [
    "math.radians(180)"
   ]
  },
  {
   "cell_type": "markdown",
   "metadata": {},
   "source": [
    "* El módulo ```math``` incluye a la función ```factorial```, la cual regresa el factorial de un número entero que se ingrese como argumento."
   ]
  },
  {
   "cell_type": "code",
   "execution_count": null,
   "metadata": {},
   "outputs": [],
   "source": [
    "math.factorial(5)"
   ]
  },
  {
   "cell_type": "markdown",
   "metadata": {},
   "source": [
    "### Importando componentes de un módulo en el ámbito global con ```from``` ... ```import```.\n",
    "\n",
    "Es posible importar exclusivamente un componente del módulo y ligarlo al ámbito global mediante la siguiente sintaxis:\n",
    "```\n",
    "from <módulo> import <componente 1>,  <componente 2>, ...,  <componente 3>\n",
    "```\n",
    "\n",
    "Donde:\n",
    "\n",
    "* ```<módulo>``` es el módulo o paquete que contiene a los componentes a ser importados.\n",
    "* ```componente x>``` es el nombre un componente del módulo o paquete que será añadido al espacio de nombres principal."
   ]
  },
  {
   "cell_type": "markdown",
   "metadata": {},
   "source": [
    "**Ejemplo:**"
   ]
  },
  {
   "cell_type": "markdown",
   "metadata": {},
   "source": [
    "* La siguiente celda importará los componentes ```pi```, ```sin()``` y ```radians()``` del módulo ```math``` y los guardará en el espacio de nombres principal."
   ]
  },
  {
   "cell_type": "code",
   "execution_count": null,
   "metadata": {},
   "outputs": [],
   "source": [
    "from math import pi, sin, radians"
   ]
  },
  {
   "cell_type": "code",
   "execution_count": null,
   "metadata": {},
   "outputs": [],
   "source": [
    "pi"
   ]
  },
  {
   "cell_type": "code",
   "execution_count": null,
   "metadata": {},
   "outputs": [],
   "source": [
    "sin(pi)"
   ]
  },
  {
   "cell_type": "code",
   "execution_count": null,
   "metadata": {},
   "outputs": [],
   "source": [
    "sin(radians(180))"
   ]
  },
  {
   "cell_type": "markdown",
   "metadata": {},
   "source": [
    "### Renombrando módulos y componentes con ```as```.\n",
    "\n",
    "Tambien es posible darle otro nombre a un módulo o a un componente de un módulo para evitar colisiones de nombres utilizando la palabra reservada ```as```."
   ]
  },
  {
   "cell_type": "markdown",
   "metadata": {},
   "source": [
    "**Ejemplo:**"
   ]
  },
  {
   "cell_type": "code",
   "execution_count": null,
   "metadata": {},
   "outputs": [],
   "source": [
    "import math as matematicas"
   ]
  },
  {
   "cell_type": "code",
   "execution_count": null,
   "metadata": {},
   "outputs": [],
   "source": [
    "matematicas.pi"
   ]
  },
  {
   "cell_type": "code",
   "execution_count": null,
   "metadata": {},
   "outputs": [],
   "source": [
    "help(matematicas)"
   ]
  },
  {
   "cell_type": "code",
   "execution_count": null,
   "metadata": {},
   "outputs": [],
   "source": [
    "from math import pi as diametro"
   ]
  },
  {
   "cell_type": "code",
   "execution_count": null,
   "metadata": {},
   "outputs": [],
   "source": [
    "pi = \"Pi\""
   ]
  },
  {
   "cell_type": "code",
   "execution_count": null,
   "metadata": {},
   "outputs": [],
   "source": [
    "diametro"
   ]
  },
  {
   "cell_type": "code",
   "execution_count": null,
   "metadata": {},
   "outputs": [],
   "source": [
    "pi"
   ]
  },
  {
   "cell_type": "markdown",
   "metadata": {},
   "source": [
    "## El módulo ```__builtin__ ```.\n",
    "\n",
    "Además de las palabras reservadas, el intérprete de Python carga el módulo ```__builtin__``` con funciones básicas como ```len()``` o ```print()``` entre muchas."
   ]
  },
  {
   "cell_type": "markdown",
   "metadata": {},
   "source": [
    "**Ejemplo:**"
   ]
  },
  {
   "cell_type": "code",
   "execution_count": null,
   "metadata": {},
   "outputs": [],
   "source": [
    "dir(__builtin__)"
   ]
  },
  {
   "cell_type": "code",
   "execution_count": null,
   "metadata": {},
   "outputs": [],
   "source": [
    "help(__builtins__)"
   ]
  },
  {
   "cell_type": "markdown",
   "metadata": {},
   "source": [
    "## Paquetes.\n",
    "\n",
    "Los paquetes son directorios en los que se encuentran módulos. Algunos paquetes incluso contienen subdirectorios, los cuales también son paquetes.\n",
    "\n",
    "Para acceder a un módulo dentro de una estructura de paquetes se utiliza la siguiente sintaxis.\n",
    "\n",
    "``` \n",
    "<paquete 1>.<paquete 2>.<paquete 3>.<módulo>\n",
    "```"
   ]
  },
  {
   "cell_type": "markdown",
   "metadata": {},
   "source": [
    "**Ejemplo:**"
   ]
  },
  {
   "cell_type": "markdown",
   "metadata": {},
   "source": [
    "Python 3 incluye el paquete ```json``` el cual presenta la siguiente estructura.\n",
    "\n",
    "```\n",
    "/usr/lib/python3.5/json/\n",
    "├── decoder.py\n",
    "├── encoder.py\n",
    "├── __init__.py\n",
    "├── scanner.py\n",
    "└── tool.py\n",
    "```"
   ]
  },
  {
   "cell_type": "code",
   "execution_count": null,
   "metadata": {},
   "outputs": [],
   "source": [
    "import json"
   ]
  },
  {
   "cell_type": "code",
   "execution_count": null,
   "metadata": {},
   "outputs": [],
   "source": [
    "help(json)"
   ]
  },
  {
   "cell_type": "code",
   "execution_count": null,
   "metadata": {},
   "outputs": [],
   "source": [
    "dir(json)"
   ]
  },
  {
   "cell_type": "code",
   "execution_count": null,
   "metadata": {},
   "outputs": [],
   "source": [
    "import json.decoder"
   ]
  },
  {
   "cell_type": "code",
   "execution_count": null,
   "metadata": {},
   "outputs": [],
   "source": [
    "help(json.decoder)"
   ]
  },
  {
   "cell_type": "markdown",
   "metadata": {},
   "source": [
    "## Creación de módulos propios.\n",
    "\n",
    "Un módulo no es otra cosa más que un script de Python. Por lo que mantener una biblioteca de módulos propios no es otra cosa más que conservar nuestros programas en un sitio accesible para en intérprete.\n",
    "\n",
    "Al importar un script como módulo, sólo se usa el nombre de éste sin la extensión ```.py```."
   ]
  },
  {
   "cell_type": "markdown",
   "metadata": {},
   "source": [
    "**Ejemplo:**"
   ]
  },
  {
   "cell_type": "markdown",
   "metadata": {},
   "source": [
    "* El script [```modulo.py```](modulo.py) se encuentra en el mismo directorio en el que está ejecutándose esta notebook.\n",
    "\n",
    "\n",
    "```python\n",
    "#! /bin/bash/python3\n",
    "\n",
    "'''Ejemplo de un script que puede ser importado como módulo.'''\n",
    "\n",
    "titulo = \"Espacio muestral\"\n",
    "datos = (76, 81, 75, 77, 80, 75, 76, 79, 75)\n",
    "\n",
    "def promedio(encabezado, muestra):\n",
    "    '''Despliega el contenido de encabezado,así como el cálculo del promedio de muestra, \n",
    "    ingresado en una lista o tupla.'''  \n",
    "    print(\"El promedio de %s con %d elementos es %f.\" % (titulo, len(muestra), sum(muestra) / len(muestra)))\n",
    "promedio(titulo, datos)\n",
    "```"
   ]
  },
  {
   "cell_type": "markdown",
   "metadata": {},
   "source": [
    "* La siguiente celda importará al script ```modulo.py``` como un módulo llamado ```mod```. El script se ejecutará de principio a fin y los objeto creados serán relacionados al espacio de nombres de ```mod```."
   ]
  },
  {
   "cell_type": "code",
   "execution_count": null,
   "metadata": {},
   "outputs": [],
   "source": [
    "import modulo as mod"
   ]
  },
  {
   "cell_type": "code",
   "execution_count": null,
   "metadata": {
    "scrolled": true
   },
   "outputs": [],
   "source": [
    "help(mod)"
   ]
  },
  {
   "cell_type": "code",
   "execution_count": null,
   "metadata": {},
   "outputs": [],
   "source": [
    "mod.datos"
   ]
  },
  {
   "cell_type": "code",
   "execution_count": null,
   "metadata": {},
   "outputs": [],
   "source": [
    "mod.titulo"
   ]
  },
  {
   "cell_type": "code",
   "execution_count": null,
   "metadata": {},
   "outputs": [],
   "source": [
    "mod.promedio('muestra', (1,2,4,5))"
   ]
  },
  {
   "cell_type": "code",
   "execution_count": null,
   "metadata": {},
   "outputs": [],
   "source": [
    "! ls __pycache_"
   ]
  },
  {
   "cell_type": "code",
   "execution_count": null,
   "metadata": {},
   "outputs": [],
   "source": [
    "! dir __pycache__"
   ]
  },
  {
   "cell_type": "markdown",
   "metadata": {},
   "source": [
    "### Recarga de módulos.\n",
    "\n",
    "Los módulos se ejecutan una sola vez en el, intérprete. Si se utiliza nuevamente ```import``` para un módulo importado, este utilizará al archivo con extensión ```.pyc```."
   ]
  },
  {
   "cell_type": "markdown",
   "metadata": {},
   "source": [
    "**Ejemplo:**"
   ]
  },
  {
   "cell_type": "code",
   "execution_count": null,
   "metadata": {},
   "outputs": [],
   "source": [
    "import modulo"
   ]
  },
  {
   "cell_type": "code",
   "execution_count": null,
   "metadata": {},
   "outputs": [],
   "source": [
    "mod.titulo"
   ]
  },
  {
   "cell_type": "markdown",
   "metadata": {},
   "source": [
    "* Para recargar y ejecutar un módulo que ya había sido importato previamente en el intérprete, se utiliza la función ```reload()``` del módulo ```importlib``` "
   ]
  },
  {
   "cell_type": "code",
   "execution_count": null,
   "metadata": {},
   "outputs": [],
   "source": [
    "from importlib import reload"
   ]
  },
  {
   "cell_type": "code",
   "execution_count": null,
   "metadata": {},
   "outputs": [],
   "source": [
    "reload(modulo)"
   ]
  },
  {
   "cell_type": "markdown",
   "metadata": {},
   "source": [
    "### Ejecución de scripts como módulos.\n",
    "\n",
    "Si se quisiera importar a un script como un módulo es muy probable que no se desee que se ejecuten ciertas líneas que forman parte de dicho script. Para esto es necesario poder saber cuando un archivo es ejecutado como un script o como un módulo.\n",
    "\n",
    "Cuando el intérprete importa un módulo, éste se ejecuta desde el espacio de nombres del módulo.\n",
    "\n",
    "El intérprete de Python permite identificar la manera en como se corre o importa un módulo mediante la asignación de una cadena de caracteres al nombre ```__name__ ```.\n",
    "\n",
    "Cuando el intérprete de Python ejecuta un script, éste es ejecutado desde el ámbito global y entonces el valor de ```__name__``` es ```\"__main__\"```. "
   ]
  },
  {
   "cell_type": "markdown",
   "metadata": {},
   "source": [
    "**Ejemplo:**"
   ]
  },
  {
   "cell_type": "code",
   "execution_count": null,
   "metadata": {},
   "outputs": [],
   "source": [
    "dir()"
   ]
  },
  {
   "cell_type": "code",
   "execution_count": null,
   "metadata": {},
   "outputs": [],
   "source": [
    "__name__"
   ]
  },
  {
   "cell_type": "markdown",
   "metadata": {},
   "source": [
    "Cuando el intérprete de Python importa un módulo, éste crea un espacio de nombres para dicho módulo\n",
    "y entonces el valor de ```__name__``` corresponde al nombre del  módulo."
   ]
  },
  {
   "cell_type": "markdown",
   "metadata": {},
   "source": [
    "**Ejemplo:**"
   ]
  },
  {
   "cell_type": "code",
   "execution_count": null,
   "metadata": {},
   "outputs": [],
   "source": [
    "mod.__name__"
   ]
  },
  {
   "cell_type": "markdown",
   "metadata": {},
   "source": [
    "Aún cuando el propósito de ```__name__``` es el de crear espacios de nombres diferenciados para evitar la sobreescritura, también sirve para diferenciar cuando un archivo es usado como un script o como un módulo."
   ]
  },
  {
   "cell_type": "markdown",
   "metadata": {},
   "source": [
    "**Ejemplo:**"
   ]
  },
  {
   "cell_type": "markdown",
   "metadata": {},
   "source": [
    "El archivo [```modulo2.py```](modulo2.py) contiene el siguiente código.\n",
    "\n",
    "```python\n",
    "#! /bin/bash/python3\n",
    "\n",
    "'''Ejemplo de un script que puede ser importado como módulo y comportarse de forma diferenciada.'''\n",
    "\n",
    "titulo = \"Espacio muestral\"\n",
    "datos = (76, 81, 75, 77, 80, 75, 76, 79, 75)\n",
    "\n",
    "def promedio(encabezado, muestra):\n",
    "    '''Despliega el contenido de encabezado,así como el cálculo del promedio de muestra, \n",
    "    ingresado en una lista o tupla.m'''  \n",
    "    print(\"El promedio de %s con %d elementos es %f.\" % (titulo, len(muestra), sum(muestra) / len(muestra)))\n",
    "\n",
    "'''El siguiente código sólo se ejecutará si este script es ejecutado por el intérprete. '''\n",
    "if __name__ == \"__main__\":\n",
    "    print(__name__)\n",
    "    promedio(titulo, datos)\n",
    "```"
   ]
  },
  {
   "cell_type": "markdown",
   "metadata": {},
   "source": [
    "* De tal forma que la última línea de código es ejecutada sólo cuando el archivo es ejecutado como un script."
   ]
  },
  {
   "cell_type": "code",
   "execution_count": null,
   "metadata": {},
   "outputs": [],
   "source": [
    "%run modulo2.py"
   ]
  },
  {
   "cell_type": "code",
   "execution_count": null,
   "metadata": {},
   "outputs": [],
   "source": [
    "import modulo2"
   ]
  },
  {
   "cell_type": "code",
   "execution_count": null,
   "metadata": {},
   "outputs": [],
   "source": [
    "modulo2.__name__"
   ]
  },
  {
   "cell_type": "code",
   "execution_count": null,
   "metadata": {},
   "outputs": [],
   "source": [
    "help(modulo2)"
   ]
  },
  {
   "cell_type": "markdown",
   "metadata": {},
   "source": [
    "\n",
    "## Creación de paquetes propios.\n",
    "\n",
    "También es posible crear paquetes, simplemente creando una estructura de subdirectorios. \n",
    "\n",
    "**Ejemplo:**\n",
    "\n",
    "El directorio [```paquete```](paquete) contiene una estructura de archivos y subdirectorios de esta forma:\n",
    "\n",
    "```\n",
    "paquete\n",
    "├── __init__.py\n",
    "├── primos\n",
    "│   ├── funciones.py\n",
    "│   ├── __init__.py\n",
    "└── promedios.py\n",
    "```\n",
    "\n",
    "#### El archivo ```__init__.py```.\n",
    "\n",
    "Los subdirectorios deben de incluir un archivo ```__init__.py```, cuyo contenido será asignado directamente al nombre del paquete.\n",
    "\n",
    "**Ejemplos:**\n",
    "El archivo [```paquete\\__init__.py```](paquete/__init__.py) contiene el siguiente código:"
   ]
  },
  {
   "cell_type": "code",
   "execution_count": null,
   "metadata": {},
   "outputs": [],
   "source": [
    "#! /usr/bin/python3\n",
    "'''Paquete que incluye un par de módulos''' \n",
    "\n",
    "def saluda():\n",
    "    print('Bienvenido a paquete.')"
   ]
  },
  {
   "cell_type": "markdown",
   "metadata": {},
   "source": [
    "* Al importar el paquete ```paquete```,  se ejecutará el script ```paquete/__init__.py``` y los objetos creados se relacionarán con el espacio de nombres ```paquete```."
   ]
  },
  {
   "cell_type": "code",
   "execution_count": null,
   "metadata": {},
   "outputs": [],
   "source": [
    "import paquete"
   ]
  },
  {
   "cell_type": "markdown",
   "metadata": {},
   "source": [
    "* Al ejecutar ```help(paquete)```, la ventana de ayuda mostrará los objetos creados por ```paquete/__init__.py```y la estructura de paquetes y modulos que contiene."
   ]
  },
  {
   "cell_type": "code",
   "execution_count": null,
   "metadata": {
    "scrolled": true
   },
   "outputs": [],
   "source": [
    "help(paquete)"
   ]
  },
  {
   "cell_type": "code",
   "execution_count": null,
   "metadata": {},
   "outputs": [],
   "source": [
    "paquete.saluda()"
   ]
  },
  {
   "cell_type": "markdown",
   "metadata": {},
   "source": [
    "* Para acceder al modulo ```promedios``` que contiene el paquete ```paquete```, localizado en ```paquete/promedios.py```  es necesario importarlo de la siguiente manera."
   ]
  },
  {
   "cell_type": "code",
   "execution_count": null,
   "metadata": {},
   "outputs": [],
   "source": [
    "import paquete.promedios"
   ]
  },
  {
   "cell_type": "code",
   "execution_count": null,
   "metadata": {},
   "outputs": [],
   "source": [
    "help(paquete.promedios)"
   ]
  },
  {
   "cell_type": "code",
   "execution_count": null,
   "metadata": {},
   "outputs": [],
   "source": [
    "paquete.promedios.promedio_titulo(\"Muestreo\", 1, 5, 7, 5, 4, 3, 2, 7)"
   ]
  },
  {
   "cell_type": "markdown",
   "metadata": {},
   "source": [
    "* El paquete ```paquete``` contiene a otro paquete llamado ```paquete.primos```, localizado en el directorio```paquete/primos/```.\n",
    "* A su vez existe el módulo ```paquete.primos.funciones```, localizado en el directorio```paquete/primos/funciones.py```. Para acceder a este módulo se realiza lo siguiente."
   ]
  },
  {
   "cell_type": "code",
   "execution_count": null,
   "metadata": {},
   "outputs": [],
   "source": [
    "import paquete.primos.funciones"
   ]
  },
  {
   "cell_type": "code",
   "execution_count": null,
   "metadata": {},
   "outputs": [],
   "source": [
    "help(paquete.primos.funciones)"
   ]
  },
  {
   "cell_type": "markdown",
   "metadata": {},
   "source": [
    "* Para hacerlo más simple, es posible usar ```as```."
   ]
  },
  {
   "cell_type": "code",
   "execution_count": null,
   "metadata": {},
   "outputs": [],
   "source": [
    "import paquete.primos.funciones as fp"
   ]
  },
  {
   "cell_type": "code",
   "execution_count": null,
   "metadata": {},
   "outputs": [],
   "source": [
    "help(fp)"
   ]
  },
  {
   "cell_type": "markdown",
   "metadata": {},
   "source": [
    "## Definiendo la localización de módulos y paquetes con ```sys.path```.\n",
    "El módulo ```sys``` de la bilbioteca estándar perimte acceder y manipular las configuraciones del entorno de Python y una de ellas son las rutas en las que debe buscar módulos y paquetes."
   ]
  },
  {
   "cell_type": "code",
   "execution_count": null,
   "metadata": {},
   "outputs": [],
   "source": [
    "import sys"
   ]
  },
  {
   "cell_type": "code",
   "execution_count": null,
   "metadata": {},
   "outputs": [],
   "source": [
    "print(sys.path)"
   ]
  },
  {
   "cell_type": "code",
   "execution_count": null,
   "metadata": {},
   "outputs": [],
   "source": [
    "type(sys.path)"
   ]
  },
  {
   "cell_type": "markdown",
   "metadata": {},
   "source": [
    "* Si se quiere añadir una ruta nueva, sólo debe agregarse a ```sys.path```.\n",
    "\n",
    "**Nota:** estos cambios sólo serán válidos en el intérprete."
   ]
  },
  {
   "cell_type": "code",
   "execution_count": null,
   "metadata": {},
   "outputs": [],
   "source": [
    "sys.path.append('/opt/')"
   ]
  },
  {
   "cell_type": "code",
   "execution_count": null,
   "metadata": {
    "scrolled": true
   },
   "outputs": [],
   "source": [
    "sys.path"
   ]
  },
  {
   "cell_type": "markdown",
   "metadata": {
    "collapsed": true
   },
   "source": [
    "<p style=\"text-align: center\"><a rel=\"license\" href=\"http://creativecommons.org/licenses/by/4.0/\"><img alt=\"Licencia Creative Commons\" style=\"border-width:0\" src=\"https://i.creativecommons.org/l/by/4.0/80x15.png\" /></a><br />Esta obra está bajo una <a rel=\"license\" href=\"http://creativecommons.org/licenses/by/4.0/\">Licencia Creative Commons Atribución 4.0 Internacional</a>.</p>\n",
    "<p style=\"text-align: center\">&copy; José Luis Chiquete Valdivieso. 2020.</p>"
   ]
  }
 ],
 "metadata": {
  "kernelspec": {
   "display_name": "Python 3",
   "language": "python",
   "name": "python3"
  },
  "language_info": {
   "codemirror_mode": {
    "name": "ipython",
    "version": 3
   },
   "file_extension": ".py",
   "mimetype": "text/x-python",
   "name": "python",
   "nbconvert_exporter": "python",
   "pygments_lexer": "ipython3",
   "version": "3.8.5"
  }
 },
 "nbformat": 4,
 "nbformat_minor": 1
}
