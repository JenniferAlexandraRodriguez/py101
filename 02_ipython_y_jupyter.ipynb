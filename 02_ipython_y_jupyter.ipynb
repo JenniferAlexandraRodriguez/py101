{
 "cells": [
  {
   "cell_type": "markdown",
   "metadata": {},
   "source": [
    "[![pythonista.io](imagenes/pythonista.png)](https://www.pythonista.io)"
   ]
  },
  {
   "cell_type": "markdown",
   "metadata": {},
   "source": [
    "# *IPython* y *Jupyter*."
   ]
  },
  {
   "cell_type": "markdown",
   "metadata": {},
   "source": [
    "## El proyecto *IPython*."
   ]
  },
  {
   "cell_type": "markdown",
   "metadata": {},
   "source": [
    "El proyecto [*IPython*](https://ipython.org/) es un entorno (shell) interactivo de Python que extiende las funcionalidades del intérprete interactivo de Python, permitiendo entre otras cosas:\n",
    "\n",
    "* Coloreado del código.\n",
    "* Autocompletado de comandos.\n",
    "* Historial de comandos.\n",
    "* Cómputo paralelo y concurrente.\n",
    "* Capacidad de desplegar los gráficos generados por [*Matplotlib*](https://matplotlib.org/) en la misma ventana.\n",
    "\n",
    "*IPython* puede ser accedido desde 3 interfaces:\n",
    "\n",
    "* Un shell dentro de una terminal de texto. \n",
    "* Un shell dentro de una aplicación de escritorio basada en la biblioteca [*QT*](https://www.qt.io/).\n",
    "* Una notebook de *Jupyter*."
   ]
  },
  {
   "cell_type": "markdown",
   "metadata": {},
   "source": [
    "## El proyecto *Jupyter*.\n",
    "\n",
    "En el proceso de desarrollo de *IPython* se creó una interfaz basada en web capaz de ofrecer las funcionalidades de *IPython* de forma más amigable.\n",
    "\n",
    "La interfaz web de *IPython* evolucionó de tal forma que la matéfora de una libreta o \"notebook\" no sólo podía conectarse a un intérprete de *IPython*, sino que podía adapatarse a otros lenguajes de programación mediante \"kernels\". Es así que a partir de *IPython* surgió el proyecto [*Jupyter*](https://jupyter.org/) (su nombre es una abreviación de [*JUlia*](https://julialang.org/), *PYThon* y [*R*](https://www.r-project.org/).\n",
    "\n",
    "*Jupyter* es servidor web capaz de desplegar una interfaz que incluye:\n",
    "\n",
    "* Un gestor de archivos.\n",
    "* Editor de texto.\n",
    "* Un emulador de terminal.\n",
    "* Entornos interactivos basados en notebooks.\n",
    "* Un gestor de notebooks.\n",
    "\n",
    "### Las notebooks.\n",
    "\n",
    "Las notebooks de *Jupyter* pueden combinar dos tipos primordiales de celdas:\n",
    "* Celdas de texto capaces de desplegar código basado en la sintaxis de [*Markdown*](https://markdown.es/).\n",
    "* Celdas de código ejecutable concapacidad de desplegar gráficos e imágenes, entre otras muchas funcionalidades.\n",
    "\n",
    "*Jupyter* puede mantener múltiples notebooks y terminales ejecutándose simultáneamente e incluso generar clusters de servidores para cómputo intensivo.\n",
    "\n",
    "Actualmente las notebooks de *Jupyter* soportan [kernels de diversos lenguajes](https://github.com/jupyter/jupyter/wiki/Jupyter-kernels).\n",
    "\n",
    "Las notebooks de *Jupyter* pueden ser exportadas en múltiples formatos, tales como *HTML*, *PDF*, [*reStructuredText*](http://docutils.sourceforge.net/rst.html), [*LaTeX*](https://www.latex-project.org/), [*asciidocs*](http://asciidoc.org/), e incluso [*Reveal.js*](https://revealjs.com)."
   ]
  },
  {
   "cell_type": "markdown",
   "metadata": {},
   "source": [
    "## Los comandos mágicos de *IPython*.\n",
    "\n",
    "Todos los apuntes de este curso son notebooks de *Jupyter* que utilizan el kernel de *IPython*.\n",
    "\n",
    "Las notebooks de *Jupyter* son interfaces basada en web capaces de ejecutar comandos por medio de un \"kernel\", el cual permite ligar a la interfaz con un intérprete específico.\n",
    "\n",
    "El \"kernel\" de [*IPython*](https://ipython.org/) es el kernel que utiliza *Jupyter* por defecto y corresponde a un intérprete avanzado de Python el cual además de ejecutar expresiones y delcaraciones de Python puede ejecutar sus propios \"comandos mágicos\" o \"magics\". Para conocer más al respecto puede consultar la siguiente liga: http://ipython.readthedocs.io/en/stable/interactive/magics.html\n",
    "\n",
    "Los comandos mágicos de *IPython* vienen precedidos generalmente por uno o dos signos de porcentaje ```%```. "
   ]
  },
  {
   "cell_type": "markdown",
   "metadata": {},
   "source": [
    "### Ejecución de un script desde una notebook de *Jupyter*.\n",
    "\n",
    "Para ejecutar un archivo de Python desde una notebook de *Jupyter* se utiliza la instrucción de *IPython* ```%run```, la cual permite ejecutar el script localizado en la ruta que se añade posteriormente.\n",
    "\n",
    "La sintaxis es la siguiente:\n",
    "\n",
    "```\n",
    "%run <ruta del script>\n",
    "```"
   ]
  },
  {
   "cell_type": "markdown",
   "metadata": {},
   "source": [
    "**Ejemplos:**"
   ]
  },
  {
   "cell_type": "markdown",
   "metadata": {},
   "source": [
    "* La siguiente celda ejecutará el script localizado en [```src/holamundo.py```](src/holamundo.py)."
   ]
  },
  {
   "cell_type": "code",
   "execution_count": null,
   "metadata": {},
   "outputs": [],
   "source": [
    "%run src/holamundo.py"
   ]
  },
  {
   "cell_type": "markdown",
   "metadata": {},
   "source": [
    "* La siguiente celda ejecutará el script localizado en [```src/holamundo2.py```](src/holamundo2.py), el cual desplegará un mensaje y abrirá una ventana que aceptará todos los caracteres que se escriban hasta que se presione la tecla <kbd>Intro</kbd>."
   ]
  },
  {
   "cell_type": "code",
   "execution_count": null,
   "metadata": {},
   "outputs": [],
   "source": [
    "%run src/holamundo2.py"
   ]
  },
  {
   "cell_type": "markdown",
   "metadata": {},
   "source": [
    "## Instrucciones a la línea de comandos desde *Jupyter*.\n",
    "\n",
    "Además de los comandos mágicos, *IPython* permite ejecutar comandos directamente al sistema operativo desde el que está corriendo el servidor de *Jupyter* mediante la siguiente sintaxis:\n",
    "\n",
    "```\n",
    "!<comando>\n",
    "```\n",
    "Donde:\n",
    "\n",
    "* ```<comando``` es un comando válido para el sistema operativo desde el cual se ejecuta *Jupyter*.\n",
    "\n",
    "**Advertencia:** Sólo es posible ejecutar comandos que se ejecuten sin necesidad de mayor interacción con el sistema. Si existe algún tipo de interacción, la celda de ejecución se quedará bloqueada."
   ]
  },
  {
   "cell_type": "markdown",
   "metadata": {},
   "source": [
    "**Ejemplo:**"
   ]
  },
  {
   "cell_type": "markdown",
   "metadata": {},
   "source": [
    "Se ejecutará el comando del sistema que enlista los contenidos de un directorio."
   ]
  },
  {
   "cell_type": "markdown",
   "metadata": {},
   "source": [
    "* Para *GNU/Linux* o *MacOS X*:"
   ]
  },
  {
   "cell_type": "code",
   "execution_count": null,
   "metadata": {},
   "outputs": [],
   "source": [
    "!ls"
   ]
  },
  {
   "cell_type": "markdown",
   "metadata": {},
   "source": [
    "* Para *Windows*:"
   ]
  },
  {
   "cell_type": "code",
   "execution_count": null,
   "metadata": {
    "scrolled": true
   },
   "outputs": [],
   "source": [
    "!dir"
   ]
  },
  {
   "cell_type": "markdown",
   "metadata": {},
   "source": [
    "<p style=\"text-align: center\"><a rel=\"license\" href=\"http://creativecommons.org/licenses/by/4.0/\"><img alt=\"Licencia Creative Commons\" style=\"border-width:0\" src=\"https://i.creativecommons.org/l/by/4.0/80x15.png\" /></a><br />Esta obra está bajo una <a rel=\"license\" href=\"http://creativecommons.org/licenses/by/4.0/\">Licencia Creative Commons Atribución 4.0 Internacional</a>.</p>\n",
    "<p style=\"text-align: center\">&copy; José Luis Chiquete Valdivieso. 2020.</p>"
   ]
  }
 ],
 "metadata": {
  "kernelspec": {
   "display_name": "Python 3",
   "language": "python",
   "name": "python3"
  },
  "language_info": {
   "codemirror_mode": {
    "name": "ipython",
    "version": 3
   },
   "file_extension": ".py",
   "mimetype": "text/x-python",
   "name": "python",
   "nbconvert_exporter": "python",
   "pygments_lexer": "ipython3",
   "version": "3.8.5"
  }
 },
 "nbformat": 4,
 "nbformat_minor": 1
}
