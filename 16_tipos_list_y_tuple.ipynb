{
 "cells": [
  {
   "cell_type": "markdown",
   "metadata": {},
   "source": [
    "[![imagenes](imagenes/pythonista.png)](https://pythonista.io)"
   ]
  },
  {
   "cell_type": "markdown",
   "metadata": {},
   "source": [
    "# Objetos tipo ```list``` y ```tuple```."
   ]
  },
  {
   "cell_type": "markdown",
   "metadata": {},
   "source": [
    "Los objetos tipo ```tuple``` y ```list``` son:\n",
    "\n",
    "* **Colecciones**. Es decir, que pueden contener objetos, también llamados elementos.\n",
    "* **Ordenadas**. Es decir, que respetan el orden en el que cada elemento es ingresado.\n",
    "* **Indexables numéricamente**. Es decir, que cada elemento que contienen puede ser accedido mediante un índice numéricos.\n",
    "\n",
    "La diferencia entre estos tipos de datos es que los objetos de tipo ```list``` son mutables y los objetos de tipo ```tuple``` son inmutables."
   ]
  },
  {
   "cell_type": "markdown",
   "metadata": {},
   "source": [
    "## Objetos tipo ```list```.\n",
    "\n",
    "Los objetos tipo ```list``` son colecciones ordenadas de objetos, sin importar el tipo de cada uno, los cuales son indexables numéricamente y son mutables.\n",
    "\n",
    "Se definen encerrando entre corchetes ```[``` ```]``` una sucesión de objetos separados por comas ```,```.\n",
    "\n",
    "La sintaxis es la siguiente:\n",
    "\n",
    "```\n",
    "[<objeto 1>, <objeto 2>, ..., <objeto n>] \n",
    "```\n",
    "\n",
    "Cabe hacer notar que los objetos de tipo ```list``` no son equivalentes a las matrices en otros lenguajes de programación."
   ]
  },
  {
   "cell_type": "markdown",
   "metadata": {},
   "source": [
    "**Ejemplos:**"
   ]
  },
  {
   "cell_type": "markdown",
   "metadata": {},
   "source": [
    "* Las siguientes celdas ilustran ejemplos de objetos de tipo ```list```."
   ]
  },
  {
   "cell_type": "code",
   "execution_count": null,
   "metadata": {},
   "outputs": [],
   "source": [
    "[1, 2, 3, 4, 5]"
   ]
  },
  {
   "cell_type": "code",
   "execution_count": null,
   "metadata": {},
   "outputs": [],
   "source": [
    "['gato', 'perro', True]"
   ]
  },
  {
   "cell_type": "code",
   "execution_count": null,
   "metadata": {},
   "outputs": [],
   "source": [
    "[['automóvil', 50, 'gasolina'], ['autobús', 300, 'diesel']]"
   ]
  },
  {
   "cell_type": "code",
   "execution_count": null,
   "metadata": {},
   "outputs": [],
   "source": [
    "[]"
   ]
  },
  {
   "cell_type": "markdown",
   "metadata": {},
   "source": [
    "## La función ```list()```.\n",
    "\n",
    "Esta función tranforma a una colección, un iterador o un generador en un objeto de tipo ```list```.\n",
    "\n",
    "```\n",
    "list(<objeto>)\n",
    "```\n",
    "\n",
    "Donde:\n",
    "\n",
    "* ```<objeto>``` puede ser una colección, un generador, o un iterador."
   ]
  },
  {
   "cell_type": "markdown",
   "metadata": {},
   "source": [
    "**Ejemplos:**"
   ]
  },
  {
   "cell_type": "markdown",
   "metadata": {},
   "source": [
    "* Las siguientes celdas ejecutarán la función ```list()```, ingresando diversos tipos de colecciones como argumento. "
   ]
  },
  {
   "cell_type": "code",
   "execution_count": null,
   "metadata": {},
   "outputs": [],
   "source": [
    "list(\"Hola\")"
   ]
  },
  {
   "cell_type": "code",
   "execution_count": null,
   "metadata": {},
   "outputs": [],
   "source": [
    "list(b\"Hola\")"
   ]
  },
  {
   "cell_type": "code",
   "execution_count": null,
   "metadata": {},
   "outputs": [],
   "source": [
    "list({1, 2, 3, 1., 8, 1.0, True})"
   ]
  },
  {
   "cell_type": "markdown",
   "metadata": {},
   "source": [
    "* En el caso de los objetos de tipo ```dict()```, el objeto ```list``` resultante se obtiene a partir de las claves."
   ]
  },
  {
   "cell_type": "code",
   "execution_count": null,
   "metadata": {},
   "outputs": [],
   "source": [
    "list({\"Nombre\": \"Juan\", \"Primer apellido\": \"Pérez\", \"Segundo apellido\": \"López\"})"
   ]
  },
  {
   "cell_type": "markdown",
   "metadata": {},
   "source": [
    "## Modificación de un elemento de un objeto tipo ```list```.\n",
    "\n",
    "Es posible modificar el contenido de un elemento en un objeto de tipo ```list``` mediante el operador de asignación ```=```. \n",
    "\n",
    "```\n",
    "<objeto list>[<índice>] = <valores>\n",
    "```\n",
    "\n",
    "Donde:\n",
    "\n",
    "* ```<objeto list>``` es un objeto de tipo ```list```.\n",
    "* ```<índice>``` es un objeto de tipo ```int``` correspondiente al índice del elemento a modificar.\n",
    "* ```<valores>``` es el valor con el que sustituirá al elmento en cuestión. En caso de que se ingrese una sucesión de valores separados por comas, éstos serán encapsulados dentro de un objeto de tipo ```tuple```."
   ]
  },
  {
   "cell_type": "markdown",
   "metadata": {},
   "source": [
    "**Ejemplos:**"
   ]
  },
  {
   "cell_type": "markdown",
   "metadata": {},
   "source": [
    "* La siguiente celda definirá al objeto ```[1, 2, 3, 4, 5, 6, 7, 8]``` al que se le asignará el nombre ```lista```."
   ]
  },
  {
   "cell_type": "code",
   "execution_count": null,
   "metadata": {},
   "outputs": [],
   "source": [
    "lista = [1, 2, 3, 4, 5, 6, 7, 8]"
   ]
  },
  {
   "cell_type": "markdown",
   "metadata": {},
   "source": [
    "* La siguiente celda sustituirá al elemento ```lista[4]``` por el objeto ```\"hola\"```."
   ]
  },
  {
   "cell_type": "code",
   "execution_count": null,
   "metadata": {},
   "outputs": [],
   "source": [
    "lista[4] = \"hola\""
   ]
  },
  {
   "cell_type": "markdown",
   "metadata": {},
   "source": [
    "* Ahora el objeto ```lista``` es ```[1, 2, 3, 4, 'hola', 6, 7, 8]```."
   ]
  },
  {
   "cell_type": "code",
   "execution_count": null,
   "metadata": {},
   "outputs": [],
   "source": [
    "lista"
   ]
  },
  {
   "cell_type": "markdown",
   "metadata": {},
   "source": [
    "* La siguiente celda sustituirá al elemento ```lista[-3]``` usando la sucesión ```True, 2, 5```. Dicha suceción será consuderada como un objeto de tipo ```tuple``` igual a ```(True, 2, 5)```."
   ]
  },
  {
   "cell_type": "code",
   "execution_count": null,
   "metadata": {},
   "outputs": [],
   "source": [
    "lista[-3] = True, 2, 5"
   ]
  },
  {
   "cell_type": "markdown",
   "metadata": {},
   "source": [
    "* Ahora el objeto ```lista``` es ```[1, 2, 3, 4, 'hola', (True, 2, 5), 7, 8]```."
   ]
  },
  {
   "cell_type": "code",
   "execution_count": null,
   "metadata": {},
   "outputs": [],
   "source": [
    "lista"
   ]
  },
  {
   "cell_type": "markdown",
   "metadata": {},
   "source": [
    "### Eliminación de un elemento en un objeto tipo ```list```.\n",
    "\n",
    "Para eliminar un elemento en un objeto de tipo ```list``` se utiliza la declaración ````del````. El elemento identificado mediante su posición será eliminado y en caso de que existan, se recorrerá el índice de los elementos a la derecha del elemento eliminado. \n",
    "\n",
    "La sintaxis es la siguiente:\n",
    "\n",
    "```\n",
    "del <objeto list>[<índice>]\n",
    "```\n",
    "\n",
    "* ```<objeto list>``` es un objeto de tipo ```list```.\n",
    "* ```<índice>``` es un objeto de tipo ```int``` correspondiente al índice del elemento a eliminar."
   ]
  },
  {
   "cell_type": "markdown",
   "metadata": {},
   "source": [
    "**Ejemplos:**"
   ]
  },
  {
   "cell_type": "markdown",
   "metadata": {},
   "source": [
    "* La siguiente celda definirá al objeto ```[1, 2, 3, 4, 5]``` al que se le asignará el nombre ```lista```."
   ]
  },
  {
   "cell_type": "code",
   "execution_count": null,
   "metadata": {},
   "outputs": [],
   "source": [
    "lista = [1, 2, 3, 4, 5]"
   ]
  },
  {
   "cell_type": "markdown",
   "metadata": {},
   "source": [
    "* El elemento ```lista[1]``` es el objeto ```2```."
   ]
  },
  {
   "cell_type": "code",
   "execution_count": null,
   "metadata": {},
   "outputs": [],
   "source": [
    "lista[1]"
   ]
  },
  {
   "cell_type": "markdown",
   "metadata": {},
   "source": [
    "* Se eliminará al elemento ```lista[1]```."
   ]
  },
  {
   "cell_type": "code",
   "execution_count": null,
   "metadata": {},
   "outputs": [],
   "source": [
    "del lista[1]"
   ]
  },
  {
   "cell_type": "markdown",
   "metadata": {},
   "source": [
    "* Ahora el objeto ```lista``` es ```[1, 3, 4, 5]```."
   ]
  },
  {
   "cell_type": "code",
   "execution_count": null,
   "metadata": {},
   "outputs": [],
   "source": [
    "lista"
   ]
  },
  {
   "cell_type": "markdown",
   "metadata": {},
   "source": [
    "* Ahora el elemento ```lista[1]``` es ```3```."
   ]
  },
  {
   "cell_type": "code",
   "execution_count": null,
   "metadata": {},
   "outputs": [],
   "source": [
    "lista[1]"
   ]
  },
  {
   "cell_type": "markdown",
   "metadata": {},
   "source": [
    "### Eliminación de un rango de elementos en objetos tipo ```list```.\n",
    "\n",
    "Es posible eliminar un rango de elementos de un objeto tipo ```list``` utilizando la declaración ```del``` con la siguiente sintaxis.\n",
    "\n",
    "```\n",
    "del <objeto list>[m:n:i]\n",
    "```\n",
    "\n",
    "En donde: \n",
    "\n",
    "* ```<objeto list>``` es un objeto de tipo ```list```.\n",
    "* ```m``` es el índice inicial del rango.\n",
    "* ```n``` es el índice final del rango.\n",
    "* ```i``` es la magnitud de incrementos o decrementos del rango."
   ]
  },
  {
   "cell_type": "markdown",
   "metadata": {},
   "source": [
    "**Ejemplos:**"
   ]
  },
  {
   "cell_type": "markdown",
   "metadata": {},
   "source": [
    "* La siguiente celda definirá al objeto de tipo ```list``` igual a ```[1, 2, 3, 4, 5, 6, 7, 8, 9, 10]``` con nombre ```lista```."
   ]
  },
  {
   "cell_type": "code",
   "execution_count": null,
   "metadata": {},
   "outputs": [],
   "source": [
    "lista = [1, 2, 3, 4, 5, 6, 7, 8, 9, 10]"
   ]
  },
  {
   "cell_type": "markdown",
   "metadata": {},
   "source": [
    "* La siguiente celda eliminará a los elementos en el rango ```lista[-3:-1]```."
   ]
  },
  {
   "cell_type": "code",
   "execution_count": null,
   "metadata": {},
   "outputs": [],
   "source": [
    "del lista[-3:-1]"
   ]
  },
  {
   "cell_type": "markdown",
   "metadata": {},
   "source": [
    "* Ahora el objeto ```lista``` es igual a ```[1, 2, 3, 4, 5, 6, 7, 10]```."
   ]
  },
  {
   "cell_type": "code",
   "execution_count": null,
   "metadata": {},
   "outputs": [],
   "source": [
    "lista"
   ]
  },
  {
   "cell_type": "markdown",
   "metadata": {},
   "source": [
    "* La siguiente celda eliminará a los elementos en el rango ```lista[2::2]```. Es de decir, los elementos con los índices ```lista[2]```, ```lista[4]``` y ```lista[6]```. "
   ]
  },
  {
   "cell_type": "code",
   "execution_count": null,
   "metadata": {},
   "outputs": [],
   "source": [
    "del lista[2::2]"
   ]
  },
  {
   "cell_type": "markdown",
   "metadata": {},
   "source": [
    "* Ahora el objeto ```lista``` es igual a ```[1, 2, 4, 6, 10]```."
   ]
  },
  {
   "cell_type": "code",
   "execution_count": null,
   "metadata": {},
   "outputs": [],
   "source": [
    "lista"
   ]
  },
  {
   "cell_type": "markdown",
   "metadata": {},
   "source": [
    "### Sustitución de objetos en un rango de elementos en objetos tipo ```list ```.\n",
    "\n",
    "Es posible sustituir uno o varios objetos definido en un rango de índices dentro de un objeto tipo ```list``` usando la siguiente sintaxis:\n",
    "\n",
    "```\n",
    "<objeto tipo list>[m:n:i] = <objeto 1>, <objeto 2>, ..., <objeto m-n>\n",
    "```\n",
    "\n",
    "En donde: \n",
    "\n",
    "* ```m``` es el índice inicial del rango.\n",
    "* ```n``` es el índice final del rango.\n",
    "* ```i``` es la magnitud de los incrementos o decrementos del rango.\n",
    "\n",
    "\n",
    "\n",
    "#### Particularidades.\n",
    "\n",
    "* Si el número de objetos a sustituir es menor que el rango definido, los objetos que no cuenten con un sustituto serán eliminados.\n",
    "* Si el numero de objetos a sustituir es mayor que el rango definido, los objetos adicionales se insertarán y desplazarán al resto a la derecha."
   ]
  },
  {
   "cell_type": "markdown",
   "metadata": {},
   "source": [
    "**Ejemplos:**"
   ]
  },
  {
   "cell_type": "markdown",
   "metadata": {},
   "source": [
    "* La siguiente celda definirá al objeto tipo ```list``` igual a ```[1, 2, 3, 4, 5, 6, 7, 8, 9, 10]``` con nombre ```lista```."
   ]
  },
  {
   "cell_type": "code",
   "execution_count": null,
   "metadata": {},
   "outputs": [],
   "source": [
    "lista = [1, 2, 3, 4, 5, 6, 7, 8, 9, 10]"
   ]
  },
  {
   "cell_type": "markdown",
   "metadata": {},
   "source": [
    "* La siguiente celda sustituirá a cada elemento en el rango ```lista[2:5]```  con los valores sucesivos de ```\"tres\", \"cuatro\", \"cinco\"```, lo que sería similar a realizar las siguientes operaciones:\n",
    "   * ```lista[2] = \"tres\"```.\n",
    "   * ```lista[3] = \"cuatro\"```.\n",
    "   * ```lista[4] = \"cinco\"```."
   ]
  },
  {
   "cell_type": "code",
   "execution_count": null,
   "metadata": {},
   "outputs": [],
   "source": [
    "lista[2:5] = \"tres\", \"cuatro\", \"cinco\""
   ]
  },
  {
   "cell_type": "markdown",
   "metadata": {},
   "source": [
    "* Ahora el objeto ```lista``` es ```[1, 2, 'tres', 'cuatro', 'cinco', 6, 7, 8, 9, 10]```."
   ]
  },
  {
   "cell_type": "code",
   "execution_count": null,
   "metadata": {},
   "outputs": [],
   "source": [
    "lista"
   ]
  },
  {
   "cell_type": "markdown",
   "metadata": {},
   "source": [
    "* La siguiente celda sustituirá a cada elemento en el rango ```lista[6:4:-1]``` con los valores sucesivos ```\"7\", \"seis\"```, lo que sería similar a realizar las siguientes operaciones:\n",
    "   * ```lista[6] = \"7\"```.\n",
    "   * ```lista[5] = \"seis\"```."
   ]
  },
  {
   "cell_type": "code",
   "execution_count": null,
   "metadata": {},
   "outputs": [],
   "source": [
    "lista[6:4:-1]= \"7\", \"seis\""
   ]
  },
  {
   "cell_type": "markdown",
   "metadata": {},
   "source": [
    "* Ahora el objeto ```lista``` es ```[1, 2, 'tres', 'cuatro', 'cinco', 'seis', '7', 8, 9, 10]```."
   ]
  },
  {
   "cell_type": "code",
   "execution_count": null,
   "metadata": {},
   "outputs": [],
   "source": [
    "lista"
   ]
  },
  {
   "cell_type": "markdown",
   "metadata": {},
   "source": [
    "* La siguiente celda sustituirá a cada elemento en el rango ```lista[5:6]``` con la sucesión de objetos ```6.0, \"siete\", \"ocho\", \"nueve\", \"diez\"```. Debido a que la sucesión de objetos es mayor a los índices afectados, los objetos restantes se insertarán como elementos nuevos y desplazarán a los elementos originales a la derecha."
   ]
  },
  {
   "cell_type": "code",
   "execution_count": null,
   "metadata": {},
   "outputs": [],
   "source": [
    "lista[5:6] = 6.0, \"siete\", \"ocho\", \"nueve\", \"diez\""
   ]
  },
  {
   "cell_type": "markdown",
   "metadata": {},
   "source": [
    "* Ahora el objeto ```lista``` es ```[1, 2, 'tres', 'cuatro', 'cinco', 6.0, 'siete', 'ocho', 'nueve', 'diez', '7', 8, 9, 10]```."
   ]
  },
  {
   "cell_type": "code",
   "execution_count": null,
   "metadata": {},
   "outputs": [],
   "source": [
    "lista"
   ]
  },
  {
   "cell_type": "markdown",
   "metadata": {},
   "source": [
    "* La siguiente celda sustituirá a cada elemento en el rango ```lista[10:]``` con la sucesión de objetos ```\"11\", \"12\"```. Debido a que la sucesión de objetos es menor a los índices afectados, los objetos que no sean sustituidos serán eliminados."
   ]
  },
  {
   "cell_type": "code",
   "execution_count": null,
   "metadata": {},
   "outputs": [],
   "source": [
    "lista[10:] = \"11\", \"12\""
   ]
  },
  {
   "cell_type": "markdown",
   "metadata": {},
   "source": [
    "* Ahora el objeto ```lista``` es ```[1, 2, 'tres', 'cuatro', 'cinco', 6.0, 'siete', 'ocho', 'nueve', 'diez', '11', '12']```."
   ]
  },
  {
   "cell_type": "code",
   "execution_count": null,
   "metadata": {},
   "outputs": [],
   "source": [
    "lista"
   ]
  },
  {
   "cell_type": "markdown",
   "metadata": {},
   "source": [
    "### Métodos de los objetos tipo ```list```."
   ]
  },
  {
   "cell_type": "markdown",
   "metadata": {},
   "source": [
    "### El método ```append()```.\n",
    "\n",
    "Este método inserta al final del objeto tipo ```list``` el  objeto que se ingresa como argumento.\n",
    "\n",
    "```\n",
    "<objeto tipo list>.append(<objeto>)\n",
    "```\n",
    "\n",
    "Donde:\n",
    "\n",
    "* ```<objeto>``` es un objeto que se añadirá como  el último elemento de ```<objeto tipo list>```."
   ]
  },
  {
   "cell_type": "markdown",
   "metadata": {},
   "source": [
    "**Ejemplo:**"
   ]
  },
  {
   "cell_type": "markdown",
   "metadata": {},
   "source": [
    "* Se definirá al objeto ```[1, 2, 3, 4, 5, 6]``` con nombre ```lista```."
   ]
  },
  {
   "cell_type": "code",
   "execution_count": null,
   "metadata": {},
   "outputs": [],
   "source": [
    "lista = [1, 2, 3, 4, 5, 6]"
   ]
  },
  {
   "cell_type": "code",
   "execution_count": null,
   "metadata": {},
   "outputs": [],
   "source": [
    "lista.append(\"siete\")"
   ]
  },
  {
   "cell_type": "code",
   "execution_count": null,
   "metadata": {},
   "outputs": [],
   "source": [
    "lista"
   ]
  },
  {
   "cell_type": "markdown",
   "metadata": {},
   "source": [
    "### El método ```insert()```.\n",
    "Este elemento inserta en el objeto tipo ```list``` a un objeto en el índice indicado. Los elementos localizados a partir de dicho índice y hasta el final del objeto son recorridos a la derecha.\n",
    "\n",
    "```\n",
    "<objeto tipo list>.insert(<índice>, <objeto>)\n",
    "```\n",
    "\n",
    "Donde:\n",
    "\n",
    "* ```<índice>``` es el índice en el que se insertará ```<objeto>```.\n",
    "* ```<objeto>``` es el objeto a insertar."
   ]
  },
  {
   "cell_type": "markdown",
   "metadata": {},
   "source": [
    "**Ejemplo:**"
   ]
  },
  {
   "cell_type": "markdown",
   "metadata": {},
   "source": [
    "* Se definirá al objeto ```[1, 2, 3, 4, 5, 6]``` con nombre ```lista```."
   ]
  },
  {
   "cell_type": "code",
   "execution_count": null,
   "metadata": {},
   "outputs": [],
   "source": [
    "lista = [1, 2, 3, 4, 5, 6]"
   ]
  },
  {
   "cell_type": "code",
   "execution_count": null,
   "metadata": {},
   "outputs": [],
   "source": [
    "lista.insert(3, True)"
   ]
  },
  {
   "cell_type": "code",
   "execution_count": null,
   "metadata": {},
   "outputs": [],
   "source": [
    "lista"
   ]
  },
  {
   "cell_type": "markdown",
   "metadata": {},
   "source": [
    "### El método ```remove()```.\n",
    "\n",
    "Este método busca de izquierda a derecha el objeto ingresado como argumento y elimina al primer elemento que coincida.\n",
    "\n",
    "Si el objeto no es encontrado, genera un error de tipo ```ValueError```.\n",
    "\n",
    "```\n",
    "<objeto tipo list>.remove(<objeto>)\n",
    "```\n",
    "\n",
    "Donde:\n",
    "\n",
    "* ```<objeto>``` es el objeto a eliminar."
   ]
  },
  {
   "cell_type": "markdown",
   "metadata": {},
   "source": [
    "**Ejemplos:**"
   ]
  },
  {
   "cell_type": "markdown",
   "metadata": {},
   "source": [
    "* Se definirá al objeto ```[1, 2, 3, 4, 5, 4, 3, 2, 1, 0]``` con nombre ```lista```."
   ]
  },
  {
   "cell_type": "code",
   "execution_count": null,
   "metadata": {},
   "outputs": [],
   "source": [
    "lista = [1, 2, 3, 4, 5, 4, 3, 2, 1, 0]"
   ]
  },
  {
   "cell_type": "code",
   "execution_count": null,
   "metadata": {},
   "outputs": [],
   "source": [
    "lista.remove(3)"
   ]
  },
  {
   "cell_type": "code",
   "execution_count": null,
   "metadata": {},
   "outputs": [],
   "source": [
    "lista"
   ]
  },
  {
   "cell_type": "code",
   "execution_count": null,
   "metadata": {},
   "outputs": [],
   "source": [
    "lista.remove(5)"
   ]
  },
  {
   "cell_type": "code",
   "execution_count": null,
   "metadata": {},
   "outputs": [],
   "source": [
    "lista"
   ]
  },
  {
   "cell_type": "code",
   "execution_count": null,
   "metadata": {},
   "outputs": [],
   "source": [
    "lista.remove(5)"
   ]
  },
  {
   "cell_type": "markdown",
   "metadata": {},
   "source": [
    "### El método ```reverse()```.\n",
    "\n",
    "Este método invierte el orden de los elementos del objeto tipo ```list```.\n",
    "\n",
    "```\n",
    "<objeto tipo list>.reverse()\n",
    "```"
   ]
  },
  {
   "cell_type": "markdown",
   "metadata": {},
   "source": [
    "**Ejemplo:**"
   ]
  },
  {
   "cell_type": "code",
   "execution_count": null,
   "metadata": {},
   "outputs": [],
   "source": [
    "lista = [1, 2, 3, 4, 5, 6]"
   ]
  },
  {
   "cell_type": "code",
   "execution_count": null,
   "metadata": {},
   "outputs": [],
   "source": [
    "lista.reverse()"
   ]
  },
  {
   "cell_type": "code",
   "execution_count": null,
   "metadata": {},
   "outputs": [],
   "source": [
    "lista"
   ]
  },
  {
   "cell_type": "markdown",
   "metadata": {},
   "source": [
    "### El método ```sort()```.\n",
    "\n",
    "Este método ordena, cuando es posible, los elementos que contiene. \n",
    "\n",
    "```\n",
    "<objeto tipo list>.sort(reverse=<booleano>)\n",
    "```\n",
    "\n",
    "* Si se especifica el argumento ```reverse=True``` el ordenamiento se hace de forma descendente. \n",
    "* El valor por defecto es ```reverse=False```, por lo que el orden por defecto es ascendente.\n",
    "* En caso de que los elementos no sean compatibles, se desencadenará un error de tipo ```TypeError```."
   ]
  },
  {
   "cell_type": "markdown",
   "metadata": {},
   "source": [
    "**Ejemplos:**"
   ]
  },
  {
   "cell_type": "code",
   "execution_count": null,
   "metadata": {},
   "outputs": [],
   "source": [
    "lista = [15, True, 33, False, 12.35]"
   ]
  },
  {
   "cell_type": "code",
   "execution_count": null,
   "metadata": {},
   "outputs": [],
   "source": [
    "lista.sort()"
   ]
  },
  {
   "cell_type": "code",
   "execution_count": null,
   "metadata": {},
   "outputs": [],
   "source": [
    "lista"
   ]
  },
  {
   "cell_type": "code",
   "execution_count": null,
   "metadata": {},
   "outputs": [],
   "source": [
    "lista.sort(reverse=True)"
   ]
  },
  {
   "cell_type": "code",
   "execution_count": null,
   "metadata": {},
   "outputs": [],
   "source": [
    "lista"
   ]
  },
  {
   "cell_type": "markdown",
   "metadata": {},
   "source": [
    "### El método  ```pop()```.\n",
    "\n",
    "Este método regresa y elimina al elemento correspondiente al índice que se ingresa como argumento.\n",
    "\n",
    "```\n",
    "<objeto tipo list>.pop(<índice>)\n",
    "```\n",
    "\n",
    "Donde:\n",
    "\n",
    "* ```<índice>``` es el indice donde se encuentra el elemento a extraer. En caso de que no se ingrese ```<índice>```, el método regresará y eliminará al último elemento del del objeto tipo ```list```.\n",
    "\n",
    "En caso de que el objeto tipo  ```list```esté vacío, se generará un error de tipo ```IndexError```."
   ]
  },
  {
   "cell_type": "markdown",
   "metadata": {},
   "source": [
    "**Ejemplos:**"
   ]
  },
  {
   "cell_type": "markdown",
   "metadata": {},
   "source": [
    "* La siguiente celda definirá al objeto ```[15, True, 33, False, 12]``` al que se le asignará el nombre  ```lista```."
   ]
  },
  {
   "cell_type": "code",
   "execution_count": null,
   "metadata": {},
   "outputs": [],
   "source": [
    "lista = [15, True, 33, False, 12]"
   ]
  },
  {
   "cell_type": "markdown",
   "metadata": {},
   "source": [
    "* La siguiente celda utilizará al método ```pop()```, el cual regresará y eliminará al último elemento del objeto ```lista``` el cual es el objeto ```12```."
   ]
  },
  {
   "cell_type": "code",
   "execution_count": null,
   "metadata": {},
   "outputs": [],
   "source": [
    "lista.pop()"
   ]
  },
  {
   "cell_type": "markdown",
   "metadata": {},
   "source": [
    "* Ahora el objeto ```lista``` es ```[15, True, 33, False]```."
   ]
  },
  {
   "cell_type": "code",
   "execution_count": null,
   "metadata": {},
   "outputs": [],
   "source": [
    "lista"
   ]
  },
  {
   "cell_type": "markdown",
   "metadata": {},
   "source": [
    "* La siguiente celda utilizará al método ```pop()```, el cual regresará y eliminará al elemento con índice ```lista[1]``` el cual es el objeto ```True```."
   ]
  },
  {
   "cell_type": "code",
   "execution_count": null,
   "metadata": {},
   "outputs": [],
   "source": [
    "lista.pop(1)"
   ]
  },
  {
   "cell_type": "markdown",
   "metadata": {},
   "source": [
    "* Ahora el objeto ```lista``` es ```[15, 33, False]```."
   ]
  },
  {
   "cell_type": "code",
   "execution_count": null,
   "metadata": {},
   "outputs": [],
   "source": [
    "lista"
   ]
  },
  {
   "cell_type": "markdown",
   "metadata": {},
   "source": [
    "* La siguiente celda utilizará al método ```pop()```, el cual regresará y eliminará al elemento con índice ```lista[2]``` el cual es el objeto ```False```."
   ]
  },
  {
   "cell_type": "code",
   "execution_count": null,
   "metadata": {
    "scrolled": true
   },
   "outputs": [],
   "source": [
    "lista.pop(2)"
   ]
  },
  {
   "cell_type": "markdown",
   "metadata": {},
   "source": [
    "* Ahora el objeto ```lista``` es ```[15, 33]```."
   ]
  },
  {
   "cell_type": "code",
   "execution_count": null,
   "metadata": {},
   "outputs": [],
   "source": [
    "lista"
   ]
  },
  {
   "cell_type": "markdown",
   "metadata": {},
   "source": [
    "* La siguiente celda utilizará al método ```pop()```, el cual regresará y eliminará al último elemento del objeto ```lista``` el cual es el objeto ```33```."
   ]
  },
  {
   "cell_type": "code",
   "execution_count": null,
   "metadata": {},
   "outputs": [],
   "source": [
    "lista.pop()"
   ]
  },
  {
   "cell_type": "markdown",
   "metadata": {},
   "source": [
    "* Ahora el objeto ```lista``` es ```[15]```."
   ]
  },
  {
   "cell_type": "code",
   "execution_count": null,
   "metadata": {
    "scrolled": true
   },
   "outputs": [],
   "source": [
    "lista"
   ]
  },
  {
   "cell_type": "markdown",
   "metadata": {},
   "source": [
    "* La siguiente celda utilizará al método ```pop()```, el cual regresará y eliminará al último elemento del objeto ```lista``` el cual es el objeto ```15```."
   ]
  },
  {
   "cell_type": "code",
   "execution_count": null,
   "metadata": {},
   "outputs": [],
   "source": [
    "lista.pop()"
   ]
  },
  {
   "cell_type": "markdown",
   "metadata": {},
   "source": [
    "* Ahora el objeto ```lista``` es ```[]```."
   ]
  },
  {
   "cell_type": "code",
   "execution_count": null,
   "metadata": {},
   "outputs": [],
   "source": [
    "lista"
   ]
  },
  {
   "cell_type": "markdown",
   "metadata": {},
   "source": [
    "* La siguiente celda intentará utilizará al método ```pop()``` en el objeto ```lista```, el cual es un objeto de tipo ```list``` vacío. Esto desencadenará un error de tipo ```IndexError```."
   ]
  },
  {
   "cell_type": "code",
   "execution_count": null,
   "metadata": {},
   "outputs": [],
   "source": [
    "lista.pop()"
   ]
  },
  {
   "cell_type": "markdown",
   "metadata": {},
   "source": [
    "###  El método ```extend()```.\n",
    "\n",
    "Ese métodos inserta al final del objeto tipo ```list``` cada uno de los elementos de una colección que es ingresada como argumento.\n",
    "\n",
    "```\n",
    "<objeto tipo list>.extend(<colección>)\n",
    "```"
   ]
  },
  {
   "cell_type": "markdown",
   "metadata": {},
   "source": [
    "**Ejemplos:**"
   ]
  },
  {
   "cell_type": "code",
   "execution_count": null,
   "metadata": {},
   "outputs": [],
   "source": [
    "lista = [1, 2, 3]"
   ]
  },
  {
   "cell_type": "code",
   "execution_count": null,
   "metadata": {},
   "outputs": [],
   "source": [
    "lista.extend(('cuatro', 'cinco'))"
   ]
  },
  {
   "cell_type": "code",
   "execution_count": null,
   "metadata": {},
   "outputs": [],
   "source": [
    "lista"
   ]
  },
  {
   "cell_type": "code",
   "execution_count": null,
   "metadata": {},
   "outputs": [],
   "source": [
    "lista.extend({'seis', 'siete', 'ocho', 8})"
   ]
  },
  {
   "cell_type": "code",
   "execution_count": null,
   "metadata": {},
   "outputs": [],
   "source": [
    "lista"
   ]
  },
  {
   "cell_type": "markdown",
   "metadata": {},
   "source": [
    "* A diferencia del método ```extend()```, el método ```append()``` añadirá a la colección ingresada como un solo elemento."
   ]
  },
  {
   "cell_type": "code",
   "execution_count": null,
   "metadata": {},
   "outputs": [],
   "source": [
    "lista.append([True, False, None])"
   ]
  },
  {
   "cell_type": "code",
   "execution_count": null,
   "metadata": {
    "scrolled": true
   },
   "outputs": [],
   "source": [
    "lista"
   ]
  },
  {
   "cell_type": "markdown",
   "metadata": {},
   "source": [
    "### El método ```clear()```.\n",
    "\n",
    "Este método elimina a todos los elementos del objeto tipo ```list```.\n",
    "\n",
    "```\n",
    "<objeto tipo list>.clear()\n",
    "```"
   ]
  },
  {
   "cell_type": "markdown",
   "metadata": {},
   "source": [
    "**Ejemplo:**"
   ]
  },
  {
   "cell_type": "code",
   "execution_count": null,
   "metadata": {},
   "outputs": [],
   "source": [
    "lista = [93, True, 27, True, True, 16, 45, 14, False, True]"
   ]
  },
  {
   "cell_type": "code",
   "execution_count": null,
   "metadata": {},
   "outputs": [],
   "source": [
    "lista.clear()"
   ]
  },
  {
   "cell_type": "code",
   "execution_count": null,
   "metadata": {},
   "outputs": [],
   "source": [
    "lista"
   ]
  },
  {
   "cell_type": "markdown",
   "metadata": {},
   "source": [
    "### El método ```count()```.\n",
    "\n",
    "Este método cuenta el número de veces que aparece dentro del objeto tipo ```list``` el objeto que se ingresa como argumento.\n",
    "\n",
    "```\n",
    "<objeto tipo list>.count(<objeto>)\n",
    "```"
   ]
  },
  {
   "cell_type": "markdown",
   "metadata": {},
   "source": [
    "**Ejemplos:**"
   ]
  },
  {
   "cell_type": "code",
   "execution_count": null,
   "metadata": {},
   "outputs": [],
   "source": [
    "lista = [1, 2, 3, 4, 5, 4, 3, 2, 1, 0]"
   ]
  },
  {
   "cell_type": "code",
   "execution_count": null,
   "metadata": {},
   "outputs": [],
   "source": [
    "lista.count(2)"
   ]
  },
  {
   "cell_type": "code",
   "execution_count": null,
   "metadata": {},
   "outputs": [],
   "source": [
    "lista.count(5)"
   ]
  },
  {
   "cell_type": "code",
   "execution_count": null,
   "metadata": {},
   "outputs": [],
   "source": [
    "lista.count(11)"
   ]
  },
  {
   "cell_type": "markdown",
   "metadata": {},
   "source": [
    "### El método ```index()```.\n",
    "\n",
    "Busca de izquierda a derecha un objeto dentro de un objeto de tipo ```list``` comprendido en un rango específico y en caso de encontrarlo, regresa el índice en el que se encuentre.\n",
    "\n",
    "```\n",
    "<objeto tipo list>.index(<objeto>, m, n)\n",
    "```\n",
    "\n",
    "Donde:\n",
    "\n",
    "* ```m``` es el índice menor.\n",
    "* ```n``` es el índice mayor.\n",
    "\n",
    "* La búsqueda se realizará desde el índice ```m``` hasta uno antes de ```n```.\n",
    "* El valor de ```n```puede ser superior al del tamaño del objeto tipo ```list```.\n",
    "* Si sólo se ingresa ```m```, la búsqueda se realizará desde el íncide ```m``` hasta el final del objeto tipo ```list```.\n",
    "* En caso de no definir un rango, la búsqueda se realizará en el objeto completo.\n",
    "* En caso de no encontrar una coincidencia en el rango detrerminado, se generará un error tipo ```ValueError```. \n",
    "\n",
    "**Ejemplos:**"
   ]
  },
  {
   "cell_type": "code",
   "execution_count": null,
   "metadata": {},
   "outputs": [],
   "source": [
    "lista = [93, True, 27, True, True, 16, 45, 14, False, True]"
   ]
  },
  {
   "cell_type": "code",
   "execution_count": null,
   "metadata": {},
   "outputs": [],
   "source": [
    "lista.index(True)"
   ]
  },
  {
   "cell_type": "code",
   "execution_count": null,
   "metadata": {},
   "outputs": [],
   "source": [
    "lista.index(True, 8)"
   ]
  },
  {
   "cell_type": "code",
   "execution_count": null,
   "metadata": {},
   "outputs": [],
   "source": [
    "lista.index(True, 6, 9)"
   ]
  },
  {
   "cell_type": "code",
   "execution_count": null,
   "metadata": {},
   "outputs": [],
   "source": [
    "lista.index(True, 6, 25)"
   ]
  },
  {
   "cell_type": "markdown",
   "metadata": {},
   "source": [
    "### El método ```copy```."
   ]
  },
  {
   "cell_type": "markdown",
   "metadata": {},
   "source": [
    "**Ejemplo:**"
   ]
  },
  {
   "cell_type": "code",
   "execution_count": null,
   "metadata": {},
   "outputs": [],
   "source": [
    "lista = [1, 2, 3, 4]"
   ]
  },
  {
   "cell_type": "code",
   "execution_count": null,
   "metadata": {},
   "outputs": [],
   "source": [
    "otra_lista = lista.copy()"
   ]
  },
  {
   "cell_type": "code",
   "execution_count": null,
   "metadata": {},
   "outputs": [],
   "source": [
    "otra_lista"
   ]
  },
  {
   "cell_type": "code",
   "execution_count": null,
   "metadata": {},
   "outputs": [],
   "source": [
    "lista == otra_lista"
   ]
  },
  {
   "cell_type": "code",
   "execution_count": null,
   "metadata": {},
   "outputs": [],
   "source": [
    "lista is otra_lista"
   ]
  },
  {
   "cell_type": "markdown",
   "metadata": {},
   "source": [
    "## Objetos tipo ```tuple```.\n",
    "\n",
    "Los objetos tipo ```tuple``` son colecciones ordenadas de objetos, sin importar el tipo de cada uno, los cuales son indexables numéricamente y son inmutables.\n",
    "\n",
    "Se definen encerrando entre paréntesis ```(``` ```)``` una sucesión de objetos separados por comas ```,```.\n",
    "\n",
    "La sintaxis es la siguiente:\n",
    "\n",
    "```\n",
    "(<objeto_1>, <objeto_2>, ..., <objeto_n>)\n",
    "```"
   ]
  },
  {
   "cell_type": "markdown",
   "metadata": {},
   "source": [
    "**Ejemplos:**"
   ]
  },
  {
   "cell_type": "code",
   "execution_count": null,
   "metadata": {},
   "outputs": [],
   "source": [
    "(1, 2, 3, 4, 5)"
   ]
  },
  {
   "cell_type": "code",
   "execution_count": null,
   "metadata": {},
   "outputs": [],
   "source": [
    "('gato', 'perro', True)"
   ]
  },
  {
   "cell_type": "code",
   "execution_count": null,
   "metadata": {},
   "outputs": [],
   "source": [
    "(['automóvil', 50, 'gasolina'], ('autobús', 300, 'diesel'))"
   ]
  },
  {
   "cell_type": "code",
   "execution_count": null,
   "metadata": {},
   "outputs": [],
   "source": [
    "()"
   ]
  },
  {
   "cell_type": "markdown",
   "metadata": {},
   "source": [
    "## La función ```tuple()```.\n",
    "\n",
    "Esta función tranforma a una colección, un iterador o un generador en un objeto de tipo ```tuple```.\n",
    "\n",
    "```\n",
    "tuple(<objeto>)\n",
    "```\n",
    "\n",
    "Donde:\n",
    "\n",
    "* ```<objeto>``` puede ser una colección, un generador, o un iterador."
   ]
  },
  {
   "cell_type": "markdown",
   "metadata": {},
   "source": [
    "**Ejemplos:**"
   ]
  },
  {
   "cell_type": "markdown",
   "metadata": {},
   "source": [
    "* Las siguientes celdas ejecutarán la función ```tuple()```, ingresando diversos objetos como argumento. "
   ]
  },
  {
   "cell_type": "code",
   "execution_count": null,
   "metadata": {},
   "outputs": [],
   "source": [
    "tuple(\"Hola\")"
   ]
  },
  {
   "cell_type": "code",
   "execution_count": null,
   "metadata": {},
   "outputs": [],
   "source": [
    "tuple(b\"Hola\")"
   ]
  },
  {
   "cell_type": "code",
   "execution_count": null,
   "metadata": {},
   "outputs": [],
   "source": [
    "tuple({\"Nombre\": \"Juan\", \"Primer apellido\": \"Pérez\", \"Segundo apellido\": \"López\"})"
   ]
  },
  {
   "cell_type": "code",
   "execution_count": null,
   "metadata": {},
   "outputs": [],
   "source": [
    "tuple({1, 2, 3, 1., 8, 1.0, True})"
   ]
  },
  {
   "cell_type": "markdown",
   "metadata": {},
   "source": [
    "### Inmutabilidad de los objetos de tipo ```tuple```.\n",
    "\n",
    "Los elementos de los objetos de tipo ```tuple``` no pueden ser eliminados o sustituidos. En caso de intentar realizar dichas operaciones, se generaría un error de tipo ```TypeError```."
   ]
  },
  {
   "cell_type": "markdown",
   "metadata": {},
   "source": [
    "**Ejemplos:**"
   ]
  },
  {
   "cell_type": "code",
   "execution_count": null,
   "metadata": {},
   "outputs": [],
   "source": [
    "vehiculos = (['automóvil', 50, 'gasolina'], ('autobús', 300, 'diesel'))"
   ]
  },
  {
   "cell_type": "code",
   "execution_count": null,
   "metadata": {},
   "outputs": [],
   "source": [
    "vehiculos[1] = True"
   ]
  },
  {
   "cell_type": "code",
   "execution_count": null,
   "metadata": {},
   "outputs": [],
   "source": [
    "del vehiculos[1]"
   ]
  },
  {
   "cell_type": "markdown",
   "metadata": {},
   "source": [
    "### Métodos de los objetos de tipo ```tuple```.\n",
    "\n",
    "Los objetos tipo _tuple_ sólo cuentan con los métodos: \n",
    "\n",
    "* ```count()```. \n",
    "* ```index()```."
   ]
  },
  {
   "cell_type": "markdown",
   "metadata": {},
   "source": [
    "**Ejemplos:**"
   ]
  },
  {
   "cell_type": "code",
   "execution_count": null,
   "metadata": {},
   "outputs": [],
   "source": [
    "tupla = (1, 5, 7, 8, 4, 7, 7, 9)"
   ]
  },
  {
   "cell_type": "code",
   "execution_count": null,
   "metadata": {},
   "outputs": [],
   "source": [
    "tupla.index(9)"
   ]
  },
  {
   "cell_type": "code",
   "execution_count": null,
   "metadata": {},
   "outputs": [],
   "source": [
    "tupla.count(7)"
   ]
  },
  {
   "cell_type": "code",
   "execution_count": null,
   "metadata": {},
   "outputs": [],
   "source": [
    "tupla.clear()"
   ]
  },
  {
   "cell_type": "code",
   "execution_count": null,
   "metadata": {},
   "outputs": [],
   "source": [
    "vehiculos"
   ]
  },
  {
   "cell_type": "code",
   "execution_count": null,
   "metadata": {},
   "outputs": [],
   "source": [
    "vehiculos[0][2] = 'carbón'"
   ]
  },
  {
   "cell_type": "code",
   "execution_count": null,
   "metadata": {},
   "outputs": [],
   "source": [
    "vehiculos"
   ]
  },
  {
   "cell_type": "markdown",
   "metadata": {},
   "source": [
    "## \"Aliasing\". \n",
    "\n",
    "Al \"rebanar\" un objeto, se crea una nueva colección que hace referencia a los elementos existentes en el objeto original.\n",
    "\n",
    "Esto significa que aún cuando el objeto resultante del \"rebanado\" es nuevo, los elementos que comparten el objeto original y el objeto \"rebanado\", son exactamente los mismos."
   ]
  },
  {
   "cell_type": "markdown",
   "metadata": {},
   "source": [
    "**Ejemplo:**"
   ]
  },
  {
   "cell_type": "code",
   "execution_count": null,
   "metadata": {},
   "outputs": [],
   "source": [
    "lista_1 = [12, True, \"lapicero\"]"
   ]
  },
  {
   "cell_type": "code",
   "execution_count": null,
   "metadata": {},
   "outputs": [],
   "source": [
    "lista_2 = lista_1[:]"
   ]
  },
  {
   "cell_type": "code",
   "execution_count": null,
   "metadata": {},
   "outputs": [],
   "source": [
    "lista_1 == lista_2"
   ]
  },
  {
   "cell_type": "code",
   "execution_count": null,
   "metadata": {},
   "outputs": [],
   "source": [
    "lista_1 is lista_2"
   ]
  },
  {
   "cell_type": "code",
   "execution_count": null,
   "metadata": {},
   "outputs": [],
   "source": [
    "for elemento in lista_1: \n",
    "    print(id(elemento))"
   ]
  },
  {
   "cell_type": "code",
   "execution_count": null,
   "metadata": {},
   "outputs": [],
   "source": [
    "for elemento in lista_2: \n",
    "    print(id(elemento))"
   ]
  },
  {
   "cell_type": "markdown",
   "metadata": {},
   "source": [
    "### Aliasing  con elementos mutables.\n",
    "\n",
    "El aliasing puede tener efectos indeseados cuando una colección contiene objetos mutables."
   ]
  },
  {
   "cell_type": "markdown",
   "metadata": {},
   "source": [
    "**Ejemplo:** "
   ]
  },
  {
   "cell_type": "markdown",
   "metadata": {},
   "source": [
    "* La siguiente celda definirá al objeto de tipo ```list```llamado ```lista_1```, cuyo elemento con índice ```2``` también es de tipo ```list```."
   ]
  },
  {
   "cell_type": "code",
   "execution_count": null,
   "metadata": {},
   "outputs": [],
   "source": [
    "lista_1 = [1, 2, ['b', 'c']]"
   ]
  },
  {
   "cell_type": "code",
   "execution_count": null,
   "metadata": {},
   "outputs": [],
   "source": [
    "lista_1[2]"
   ]
  },
  {
   "cell_type": "code",
   "execution_count": null,
   "metadata": {},
   "outputs": [],
   "source": [
    "id(lista_1[2])"
   ]
  },
  {
   "cell_type": "markdown",
   "metadata": {},
   "source": [
    "* La siguiente celda, le asignará el nombre ```lista_2``` al elemento ```lista_1[2]```."
   ]
  },
  {
   "cell_type": "code",
   "execution_count": null,
   "metadata": {},
   "outputs": [],
   "source": [
    "lista_2 = lista_1[2]"
   ]
  },
  {
   "cell_type": "code",
   "execution_count": null,
   "metadata": {},
   "outputs": [],
   "source": [
    "lista_2"
   ]
  },
  {
   "cell_type": "code",
   "execution_count": null,
   "metadata": {},
   "outputs": [],
   "source": [
    "id(lista_2)"
   ]
  },
  {
   "cell_type": "markdown",
   "metadata": {},
   "source": [
    "* La siguiente celda creará un objeto de tipo ```tuple``` con nombre ```tupla``` a partir de un rebanado completo del objeto ```lista_1```."
   ]
  },
  {
   "cell_type": "code",
   "execution_count": null,
   "metadata": {},
   "outputs": [],
   "source": [
    "tupla = tuple(lista_1[:])"
   ]
  },
  {
   "cell_type": "code",
   "execution_count": null,
   "metadata": {},
   "outputs": [],
   "source": [
    "tupla"
   ]
  },
  {
   "cell_type": "markdown",
   "metadata": {},
   "source": [
    "* Tanto ```lista_1[2]```, ```lista_2``` como ```tupla[2]``` son el mismo objeto."
   ]
  },
  {
   "cell_type": "code",
   "execution_count": null,
   "metadata": {},
   "outputs": [],
   "source": [
    "lista_1[2] is lista_2"
   ]
  },
  {
   "cell_type": "code",
   "execution_count": null,
   "metadata": {},
   "outputs": [],
   "source": [
    "lista_1[2] is tupla[2]"
   ]
  },
  {
   "cell_type": "code",
   "execution_count": null,
   "metadata": {},
   "outputs": [],
   "source": [
    "tupla[2] is lista_2"
   ]
  },
  {
   "cell_type": "code",
   "execution_count": null,
   "metadata": {},
   "outputs": [],
   "source": [
    "tupla[2]"
   ]
  },
  {
   "cell_type": "markdown",
   "metadata": {},
   "source": [
    "* Al modificar el contenido de un elemento mutable que es compartido por todos los objetos; dicho cambio se aplicará uniformemente en todos los objetos que lo contienen."
   ]
  },
  {
   "cell_type": "code",
   "execution_count": null,
   "metadata": {},
   "outputs": [],
   "source": [
    "del lista_2[:]"
   ]
  },
  {
   "cell_type": "code",
   "execution_count": null,
   "metadata": {},
   "outputs": [],
   "source": [
    "lista_2"
   ]
  },
  {
   "cell_type": "code",
   "execution_count": null,
   "metadata": {},
   "outputs": [],
   "source": [
    "lista_1"
   ]
  },
  {
   "cell_type": "code",
   "execution_count": null,
   "metadata": {},
   "outputs": [],
   "source": [
    "tupla"
   ]
  },
  {
   "cell_type": "markdown",
   "metadata": {},
   "source": [
    "<p style=\"text-align: center\"><a rel=\"license\" href=\"http://creativecommons.org/licenses/by/4.0/\"><img alt=\"Licencia Creative Commons\" style=\"border-width:0\" src=\"https://i.creativecommons.org/l/by/4.0/80x15.png\" /></a><br />Esta obra está bajo una <a rel=\"license\" href=\"http://creativecommons.org/licenses/by/4.0/\">Licencia Creative Commons Atribución 4.0 Internacional</a>.</p>\n",
    "<p style=\"text-align: center\">&copy; José Luis Chiquete Valdivieso. 2020.</p>"
   ]
  }
 ],
 "metadata": {
  "kernelspec": {
   "display_name": "Python 3",
   "language": "python",
   "name": "python3"
  },
  "language_info": {
   "codemirror_mode": {
    "name": "ipython",
    "version": 3
   },
   "file_extension": ".py",
   "mimetype": "text/x-python",
   "name": "python",
   "nbconvert_exporter": "python",
   "pygments_lexer": "ipython3",
   "version": "3.8.5"
  }
 },
 "nbformat": 4,
 "nbformat_minor": 1
}
